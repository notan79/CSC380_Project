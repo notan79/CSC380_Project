{
 "cells": [
  {
   "cell_type": "code",
   "execution_count": null,
   "metadata": {},
   "outputs": [],
   "source": [
    "import seaborn as sb\n",
    "import matplotlib.pyplot as plt\n",
    "import warnings\n",
    "warnings.filterwarnings('ignore')\n",
    "import pandas as pd\n",
    "import scipy.stats as scp\n",
    "import numpy as np"
   ]
  },
  {
   "cell_type": "code",
   "execution_count": null,
   "metadata": {},
   "outputs": [],
   "source": [
    "df = pd.read_csv(\"./clean_data/fully_merged_data.csv\")\n",
    "df = df.dropna()\n",
    "\n",
    "# remove null values\n",
    "arr = df.index[df[\"fel_misd\"] == ' ']\n",
    "df = df.drop(arr, axis=0)\n",
    "arr = df.index[df[\"fel_misd\"] == '\\xa0']\n",
    "df = df.drop(arr, axis=0)\n",
    "\n",
    "from scipy.stats import zscore\n",
    "\n",
    "need_norm = [\"age\",\"MEDHINC_CY\", \"WLTHINDXCY\", \"TOTHH_CY\"]\n",
    "norm = df[need_norm].apply(zscore)\n",
    "\n",
    "df[need_norm] = norm"
   ]
  },
  {
   "cell_type": "code",
   "execution_count": null,
   "metadata": {},
   "outputs": [],
   "source": [
    "# Histogram plots for each crime type\n",
    "\n",
    "unique_crime_types = df['fel_misd'].value_counts().index\n",
    "\n",
    "for crime_type in unique_crime_types:\n",
    "    # only current crime type\n",
    "    filtered_df = df[df['fel_misd'] == crime_type]\n",
    "    \n",
    "    fig, axes = plt.subplots(nrows= len(filtered_df.columns) - 1, ncols=1, figsize=(10, 30))\n",
    "    \n",
    "    # for each feature add it to it's respective graph\n",
    "    for i, column in enumerate(filtered_df.columns):\n",
    "        if column != 'fel_misd':\n",
    "            ax = axes[i-1] if len(filtered_df.columns) > 2 else axes\n",
    "            sb.histplot(filtered_df[column], ax=ax, stat = 'count')\n",
    "            ax.set_title(f'Distribution of {column} for Crime Type: {crime_type}')\n",
    "    \n",
    "    plt.tight_layout()\n",
    "    plt.show()"
   ]
  }
 ],
 "metadata": {
  "kernelspec": {
   "display_name": "base",
   "language": "python",
   "name": "python3"
  },
  "language_info": {
   "codemirror_mode": {
    "name": "ipython",
    "version": 3
   },
   "file_extension": ".py",
   "mimetype": "text/x-python",
   "name": "python",
   "nbconvert_exporter": "python",
   "pygments_lexer": "ipython3",
   "version": "3.12.4"
  }
 },
 "nbformat": 4,
 "nbformat_minor": 2
}
