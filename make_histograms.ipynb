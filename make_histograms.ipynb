{
 "cells": [
  {
   "cell_type": "markdown",
   "metadata": {},
   "source": [
    "# Visualize Class Data\n",
    "- Show histograms for each input per class to get a picture of the distributions\n",
    "- Depends on seaborn, matplotlib, pandas"
   ]
  },
  {
   "cell_type": "code",
   "execution_count": null,
   "metadata": {},
   "outputs": [],
   "source": [
    "import seaborn as sb\n",
    "import matplotlib.pyplot as plt\n",
    "import warnings\n",
    "warnings.filterwarnings('ignore')\n",
    "import pandas as pd\n",
    "from random import shuffle"
   ]
  },
  {
   "cell_type": "markdown",
   "metadata": {},
   "source": [
    "---\n",
    "## Read Into DF"
   ]
  },
  {
   "cell_type": "code",
   "execution_count": null,
   "metadata": {},
   "outputs": [],
   "source": [
    "df = pd.read_csv(\"./clean_data/fully_merged_data.csv\")\n",
    "df = df.dropna()\n",
    "\n",
    "# remove null values\n",
    "arr = df.index[df[\"fel_misd\"] == ' ']\n",
    "df = df.drop(arr, axis=0)\n",
    "arr = df.index[df[\"fel_misd\"] == '\\xa0']\n",
    "df = df.drop(arr, axis=0)\n",
    "\n",
    "from scipy.stats import zscore\n",
    "\n",
    "need_norm = [\"age\",\"MEDHINC_CY\", \"WLTHINDXCY\", \"TOTHH_CY\"]\n",
    "norm = df[need_norm].apply(zscore)\n",
    "\n",
    "arr = []\n",
    "for c in df['fel_misd'].value_counts().index:\n",
    "    a = df.index[(df['fel_misd'] == c) & (df['sex'] == 'U')]\n",
    "    df = df.drop(a)\n",
    "    \n",
    "        \n",
    "\n",
    "df[need_norm] = norm"
   ]
  },
  {
   "cell_type": "markdown",
   "metadata": {},
   "source": [
    "## Generate Histograms"
   ]
  },
  {
   "cell_type": "code",
   "execution_count": null,
   "metadata": {},
   "outputs": [],
   "source": [
    "df[df['fel_misd']=='M']['sex'].value_counts()"
   ]
  },
  {
   "cell_type": "code",
   "execution_count": null,
   "metadata": {},
   "outputs": [],
   "source": [
    "unique_crime_types = df['fel_misd'].value_counts().index\n",
    "\n",
    "for crime_type in unique_crime_types:\n",
    "    filtered_df = df[df['fel_misd'] == crime_type]\n",
    "    \n",
    "    num_cols = len(filtered_df.columns) - 1\n",
    "    fig, axes = plt.subplots(nrows=1,ncols=num_cols, figsize=(30,5))\n",
    "    \n",
    "    for i, col in enumerate(filtered_df.columns):\n",
    "        if col != 'fel_misd':\n",
    "            b = col in need_norm\n",
    "            ax = axes[i-1]\n",
    "            sb.histplot(filtered_df[col], ax=ax,kde=b)\n",
    "            ax.set_title(f'Distribution of {col} for Crime Type: {crime_type}')\n",
    "    \n",
    "    plt.tight_layout()\n",
    "    plt.show()"
   ]
  }
 ],
 "metadata": {
  "kernelspec": {
   "display_name": "Python 3 (ipykernel)",
   "language": "python",
   "name": "python3"
  },
  "language_info": {
   "codemirror_mode": {
    "name": "ipython",
    "version": 3
   },
   "file_extension": ".py",
   "mimetype": "text/x-python",
   "name": "python",
   "nbconvert_exporter": "python",
   "pygments_lexer": "ipython3",
   "version": "3.11.4"
  }
 },
 "nbformat": 4,
 "nbformat_minor": 2
}
