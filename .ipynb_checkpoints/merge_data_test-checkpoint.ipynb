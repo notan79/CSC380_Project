{
 "cells": [
  {
   "cell_type": "code",
   "execution_count": null,
   "metadata": {},
   "outputs": [],
   "source": [
    "import pandas as pd\n",
    "import matplotlib.pyplot as plt\n",
    "import numpy as np"
   ]
  },
  {
   "cell_type": "code",
   "execution_count": null,
   "metadata": {},
   "outputs": [],
   "source": [
    "df1 = pd.read_csv(\"./clean_data/Arrests_2020_cleaned.csv\")\n",
    "df2 = pd.read_csv(\"./clean_data/Arrests_2021_cleaned.csv\")\n",
    "df3 = pd.read_csv(\"./clean_data/neighborhood_cleaned.csv\")\n",
    "df3.set_index('NAME', inplace=True)"
   ]
  },
  {
   "cell_type": "code",
   "execution_count": null,
   "metadata": {},
   "outputs": [],
   "source": [
    "arrests_df = pd.concat([df1, df2])\n",
    "arrests_df"
   ]
  },
  {
   "cell_type": "code",
   "execution_count": null,
   "metadata": {},
   "outputs": [],
   "source": [
    "df3.head()"
   ]
  },
  {
   "cell_type": "code",
   "execution_count": null,
   "metadata": {},
   "outputs": [],
   "source": [
    "arrests_df['MEDHINC_CY'] = arrests_df['NHA_NAME'].map(df3['MEDHINC_CY'])\n",
    "arrests_df['WLTHINDXCY'] = arrests_df['NHA_NAME'].map(df3['WLTHINDXCY'])\n",
    "arrests_df['TOTHH_CY'] = arrests_df['NHA_NAME'].map(df3['TOTHH_CY'])\n",
    "arrests_df.dropna()\n",
    "arrests_df\n"
   ]
  },
  {
   "cell_type": "code",
   "execution_count": null,
   "metadata": {},
   "outputs": [],
   "source": [
    "arrests_df = arrests_df[[\"NHA_NAME\",\"sex\",\"age\",\"day\",\"month\",\"MEDHINC_CY\",\"WLTHINDXCY\", \"time_arr\", \"TOTHH_CY\", \"fel_misd\"]]\n",
    "arrests_df = arrests_df.drop(columns=\"NHA_NAME\")\n",
    "arrests_df"
   ]
  },
  {
   "cell_type": "code",
   "execution_count": null,
   "metadata": {},
   "outputs": [],
   "source": [
    "x = list(arrests_df[\"age\"])\n",
    "arr = []\n",
    "for i, val in enumerate(x):\n",
    "    try:\n",
    "        int(val)\n",
    "    except:\n",
    "        arr.append(i)\n",
    "arr"
   ]
  },
  {
   "cell_type": "code",
   "execution_count": null,
   "metadata": {},
   "outputs": [],
   "source": [
    "df = arrests_df.set_axis([i for i in range(len(arrests_df))])\n",
    "df = df.drop(arr, axis=0) # drop rows with age = ' '\n",
    "df"
   ]
  },
  {
   "cell_type": "code",
   "execution_count": null,
   "metadata": {},
   "outputs": [],
   "source": [
    "df.to_csv('./clean_data/fully_merged_data.csv', index=False)"
   ]
  },
  {
   "cell_type": "code",
   "execution_count": null,
   "metadata": {},
   "outputs": [],
   "source": []
  },
  {
   "cell_type": "code",
   "execution_count": null,
   "metadata": {},
   "outputs": [],
   "source": []
  }
 ],
 "metadata": {
  "kernelspec": {
   "display_name": "Python 3 (ipykernel)",
   "language": "python",
   "name": "python3"
  },
  "language_info": {
   "codemirror_mode": {
    "name": "ipython",
    "version": 3
   },
   "file_extension": ".py",
   "mimetype": "text/x-python",
   "name": "python",
   "nbconvert_exporter": "python",
   "pygments_lexer": "ipython3",
   "version": "3.11.4"
  }
 },
 "nbformat": 4,
 "nbformat_minor": 2
}
