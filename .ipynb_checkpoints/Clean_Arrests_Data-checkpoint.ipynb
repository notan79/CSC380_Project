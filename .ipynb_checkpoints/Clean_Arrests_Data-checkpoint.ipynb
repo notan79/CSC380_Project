{
 "cells": [
  {
   "cell_type": "markdown",
   "id": "0f3436a9",
   "metadata": {},
   "source": [
    "---\n",
    "# Clean Arrests Data\n",
    "- This file takes in the raw csv from the TPD arrests site (arrests_2020 and arrests_2021) and\n",
    "  extracts the relevent information based on the hypothesis. \n",
    "- Uses the pands and datetime modules"
   ]
  },
  {
   "cell_type": "code",
   "execution_count": null,
   "id": "fa7d441a",
   "metadata": {},
   "outputs": [],
   "source": [
    "import pandas as pd\n",
    "import datetime"
   ]
  },
  {
   "cell_type": "markdown",
   "id": "edd022c9",
   "metadata": {},
   "source": [
    "---\n",
    "## Relevant Columns"
   ]
  },
  {
   "cell_type": "code",
   "execution_count": null,
   "id": "e7faf778",
   "metadata": {},
   "outputs": [],
   "source": [
    "valid_cols = [\"NHA_NAME\", \"sex\", \"age\", \"datetime_arr\", \"fel_misd\"]"
   ]
  },
  {
   "cell_type": "markdown",
   "id": "6bdd8150",
   "metadata": {},
   "source": [
    "---\n",
    "## Function that Converts the Data into DF"
   ]
  },
  {
   "cell_type": "code",
   "execution_count": null,
   "id": "a112966c",
   "metadata": {},
   "outputs": [],
   "source": [
    "def process_df(df):\n",
    "    df = df[valid_cols].dropna()\n",
    "    date_arr = []\n",
    "    month_arr = []\n",
    "    proper_time_arr = []\n",
    "    for i in range(len(df)):\n",
    "        datetime_arr = list(df[\"datetime_arr\"])[i].split(\" \") # extract date and time str\n",
    "\n",
    "        date = datetime_arr[0].strip()\n",
    "        time = datetime_arr[1].strip().split(\":\")\n",
    "    \n",
    "        realtime = int(time[0]) - 7\n",
    "        if (realtime < 0):\n",
    "            realtime = 24 + realtime\n",
    "        proper_time_arr.append(f\"{realtime}{time[1]}\")\n",
    "        \n",
    "        calc_date = datetime.datetime.strptime(date, '%Y/%m/%d') \n",
    "        day = (calc_date.weekday() + 1) % 7\n",
    "        date_arr.append(day)\n",
    "        month_arr.append(calc_date.month-1)\n",
    "\n",
    "    df = df.drop(\"datetime_arr\", axis=1)\n",
    "    df[\"day\"] = date_arr\n",
    "    df[\"month\"] = month_arr\n",
    "    df[\"time\"] = proper_time_arr\n",
    "\n",
    "    return df"
   ]
  },
  {
   "cell_type": "markdown",
   "id": "d15119e9",
   "metadata": {},
   "source": [
    "---\n",
    "## Create the 2020 DF"
   ]
  },
  {
   "cell_type": "code",
   "execution_count": null,
   "id": "5513b9e6",
   "metadata": {},
   "outputs": [],
   "source": [
    "arrests_2020 = pd.read_csv(\"./data/Arrests_2020.csv\")\n",
    "arrests_2020 = process_df(arrests_2020)\n",
    "arrests_2020"
   ]
  },
  {
   "cell_type": "markdown",
   "id": "b12d8678",
   "metadata": {},
   "source": [
    "## Create the 2021 DF"
   ]
  },
  {
   "cell_type": "code",
   "execution_count": null,
   "id": "00139692",
   "metadata": {},
   "outputs": [],
   "source": [
    "arrests_2021 = pd.read_csv(\"./data/Arrests_2021.csv\")\n",
    "arrests_2021 = process_df(arrests_2021)\n",
    "arrests_2021"
   ]
  },
  {
   "cell_type": "markdown",
   "id": "caa6f4e1",
   "metadata": {},
   "source": [
    "## Save the DFs"
   ]
  },
  {
   "cell_type": "code",
   "execution_count": null,
   "id": "6d9ed143",
   "metadata": {},
   "outputs": [],
   "source": [
    "arrests_2020.to_csv('./clean_data/Arrests_2020_cleaned.csv', index=False)\n",
    "arrests_2021.to_csv('./clean_data/Arrests_2021_cleaned.csv', index=False)"
   ]
  }
 ],
 "metadata": {
  "kernelspec": {
   "display_name": "Python 3 (ipykernel)",
   "language": "python",
   "name": "python3"
  },
  "language_info": {
   "codemirror_mode": {
    "name": "ipython",
    "version": 3
   },
   "file_extension": ".py",
   "mimetype": "text/x-python",
   "name": "python",
   "nbconvert_exporter": "python",
   "pygments_lexer": "ipython3",
   "version": "3.11.4"
  }
 },
 "nbformat": 4,
 "nbformat_minor": 5
}
