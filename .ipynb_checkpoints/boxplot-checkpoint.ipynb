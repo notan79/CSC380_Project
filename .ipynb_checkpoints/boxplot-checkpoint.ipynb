{
 "cells": [
  {
   "cell_type": "code",
   "execution_count": 1,
   "id": "c81eeda4",
   "metadata": {},
   "outputs": [],
   "source": [
    "import warnings\n",
    "warnings.filterwarnings('ignore')\n",
    "import pandas as pd\n",
    "import numpy as np\n",
    "from random import shuffle\n",
    "\n",
    "import matplotlib.pyplot as plt\n",
    "import scipy.stats as stats"
   ]
  },
  {
   "cell_type": "code",
   "execution_count": 2,
   "id": "5599c6d1",
   "metadata": {},
   "outputs": [
    {
     "data": {
      "text/html": [
       "<div>\n",
       "<style scoped>\n",
       "    .dataframe tbody tr th:only-of-type {\n",
       "        vertical-align: middle;\n",
       "    }\n",
       "\n",
       "    .dataframe tbody tr th {\n",
       "        vertical-align: top;\n",
       "    }\n",
       "\n",
       "    .dataframe thead th {\n",
       "        text-align: right;\n",
       "    }\n",
       "</style>\n",
       "<table border=\"1\" class=\"dataframe\">\n",
       "  <thead>\n",
       "    <tr style=\"text-align: right;\">\n",
       "      <th></th>\n",
       "      <th>sex</th>\n",
       "      <th>age</th>\n",
       "      <th>day</th>\n",
       "      <th>month</th>\n",
       "      <th>MEDHINC_CY</th>\n",
       "      <th>WLTHINDXCY</th>\n",
       "      <th>time_arr</th>\n",
       "      <th>TOTHH_CY</th>\n",
       "      <th>fel_misd</th>\n",
       "    </tr>\n",
       "  </thead>\n",
       "  <tbody>\n",
       "    <tr>\n",
       "      <th>0</th>\n",
       "      <td>M</td>\n",
       "      <td>-1.007650</td>\n",
       "      <td>4</td>\n",
       "      <td>0</td>\n",
       "      <td>-0.795643</td>\n",
       "      <td>-0.502892</td>\n",
       "      <td>2310</td>\n",
       "      <td>-0.442905</td>\n",
       "      <td>M</td>\n",
       "    </tr>\n",
       "    <tr>\n",
       "      <th>1</th>\n",
       "      <td>M</td>\n",
       "      <td>-1.007650</td>\n",
       "      <td>4</td>\n",
       "      <td>0</td>\n",
       "      <td>-0.795643</td>\n",
       "      <td>-0.502892</td>\n",
       "      <td>2310</td>\n",
       "      <td>-0.442905</td>\n",
       "      <td>M</td>\n",
       "    </tr>\n",
       "    <tr>\n",
       "      <th>2</th>\n",
       "      <td>M</td>\n",
       "      <td>-0.759528</td>\n",
       "      <td>5</td>\n",
       "      <td>0</td>\n",
       "      <td>-0.788811</td>\n",
       "      <td>-0.373469</td>\n",
       "      <td>16</td>\n",
       "      <td>-0.405740</td>\n",
       "      <td>M</td>\n",
       "    </tr>\n",
       "    <tr>\n",
       "      <th>3</th>\n",
       "      <td>M</td>\n",
       "      <td>-0.759528</td>\n",
       "      <td>5</td>\n",
       "      <td>0</td>\n",
       "      <td>-0.788811</td>\n",
       "      <td>-0.373469</td>\n",
       "      <td>16</td>\n",
       "      <td>-0.405740</td>\n",
       "      <td>M</td>\n",
       "    </tr>\n",
       "    <tr>\n",
       "      <th>4</th>\n",
       "      <td>M</td>\n",
       "      <td>-1.007650</td>\n",
       "      <td>4</td>\n",
       "      <td>0</td>\n",
       "      <td>-0.795643</td>\n",
       "      <td>-0.502892</td>\n",
       "      <td>2310</td>\n",
       "      <td>-0.442905</td>\n",
       "      <td>M</td>\n",
       "    </tr>\n",
       "    <tr>\n",
       "      <th>...</th>\n",
       "      <td>...</td>\n",
       "      <td>...</td>\n",
       "      <td>...</td>\n",
       "      <td>...</td>\n",
       "      <td>...</td>\n",
       "      <td>...</td>\n",
       "      <td>...</td>\n",
       "      <td>...</td>\n",
       "      <td>...</td>\n",
       "    </tr>\n",
       "    <tr>\n",
       "      <th>68072</th>\n",
       "      <td>M</td>\n",
       "      <td>-0.759528</td>\n",
       "      <td>6</td>\n",
       "      <td>11</td>\n",
       "      <td>0.016459</td>\n",
       "      <td>-0.200905</td>\n",
       "      <td>358</td>\n",
       "      <td>0.379188</td>\n",
       "      <td>M</td>\n",
       "    </tr>\n",
       "    <tr>\n",
       "      <th>68073</th>\n",
       "      <td>F</td>\n",
       "      <td>1.308155</td>\n",
       "      <td>2</td>\n",
       "      <td>1</td>\n",
       "      <td>-1.180260</td>\n",
       "      <td>-0.804879</td>\n",
       "      <td>809</td>\n",
       "      <td>0.892067</td>\n",
       "      <td>M</td>\n",
       "    </tr>\n",
       "    <tr>\n",
       "      <th>68074</th>\n",
       "      <td>M</td>\n",
       "      <td>-0.924942</td>\n",
       "      <td>4</td>\n",
       "      <td>2</td>\n",
       "      <td>-0.395335</td>\n",
       "      <td>-0.157764</td>\n",
       "      <td>1527</td>\n",
       "      <td>1.427244</td>\n",
       "      <td>M</td>\n",
       "    </tr>\n",
       "    <tr>\n",
       "      <th>68075</th>\n",
       "      <td>M</td>\n",
       "      <td>-0.924942</td>\n",
       "      <td>4</td>\n",
       "      <td>2</td>\n",
       "      <td>-0.395335</td>\n",
       "      <td>-0.157764</td>\n",
       "      <td>1527</td>\n",
       "      <td>1.427244</td>\n",
       "      <td>M</td>\n",
       "    </tr>\n",
       "    <tr>\n",
       "      <th>68077</th>\n",
       "      <td>M</td>\n",
       "      <td>-0.263284</td>\n",
       "      <td>1</td>\n",
       "      <td>1</td>\n",
       "      <td>0.040333</td>\n",
       "      <td>-0.546033</td>\n",
       "      <td>1100</td>\n",
       "      <td>-1.333381</td>\n",
       "      <td>F</td>\n",
       "    </tr>\n",
       "  </tbody>\n",
       "</table>\n",
       "<p>65694 rows × 9 columns</p>\n",
       "</div>"
      ],
      "text/plain": [
       "      sex       age  day  month  MEDHINC_CY  WLTHINDXCY  time_arr  TOTHH_CY  \\\n",
       "0       M -1.007650    4      0   -0.795643   -0.502892      2310 -0.442905   \n",
       "1       M -1.007650    4      0   -0.795643   -0.502892      2310 -0.442905   \n",
       "2       M -0.759528    5      0   -0.788811   -0.373469        16 -0.405740   \n",
       "3       M -0.759528    5      0   -0.788811   -0.373469        16 -0.405740   \n",
       "4       M -1.007650    4      0   -0.795643   -0.502892      2310 -0.442905   \n",
       "...    ..       ...  ...    ...         ...         ...       ...       ...   \n",
       "68072   M -0.759528    6     11    0.016459   -0.200905       358  0.379188   \n",
       "68073   F  1.308155    2      1   -1.180260   -0.804879       809  0.892067   \n",
       "68074   M -0.924942    4      2   -0.395335   -0.157764      1527  1.427244   \n",
       "68075   M -0.924942    4      2   -0.395335   -0.157764      1527  1.427244   \n",
       "68077   M -0.263284    1      1    0.040333   -0.546033      1100 -1.333381   \n",
       "\n",
       "      fel_misd  \n",
       "0            M  \n",
       "1            M  \n",
       "2            M  \n",
       "3            M  \n",
       "4            M  \n",
       "...        ...  \n",
       "68072        M  \n",
       "68073        M  \n",
       "68074        M  \n",
       "68075        M  \n",
       "68077        F  \n",
       "\n",
       "[65694 rows x 9 columns]"
      ]
     },
     "execution_count": 2,
     "metadata": {},
     "output_type": "execute_result"
    }
   ],
   "source": [
    "df = pd.read_csv(\"./clean_data/fully_merged_data.csv\")\n",
    "df = df.dropna()\n",
    "\n",
    "arr = df.index[df[\"fel_misd\"] == ' ']\n",
    "df = df.drop(arr, axis=0)\n",
    "arr = df.index[df[\"fel_misd\"] == '\\xa0']\n",
    "df = df.drop(arr, axis=0)\n",
    "\n",
    "from scipy.stats import zscore\n",
    "\n",
    "need_norm = [\"age\",\"MEDHINC_CY\", \"WLTHINDXCY\", \"TOTHH_CY\"]\n",
    "norm = df[need_norm].apply(zscore)\n",
    "\n",
    "df[need_norm] = norm\n",
    "\n",
    "df"
   ]
  },
  {
   "cell_type": "code",
   "execution_count": 3,
   "id": "ea645eb9",
   "metadata": {},
   "outputs": [
    {
     "data": {
      "text/plain": [
       "M    46803\n",
       "F    16407\n",
       "C     2194\n",
       "S      240\n",
       "P       50\n",
       "Name: fel_misd, dtype: int64"
      ]
     },
     "execution_count": 3,
     "metadata": {},
     "output_type": "execute_result"
    }
   ],
   "source": [
    "df[\"fel_misd\"].value_counts()"
   ]
  },
  {
   "cell_type": "code",
   "execution_count": 4,
   "id": "2d4ea958",
   "metadata": {},
   "outputs": [
    {
     "name": "stdout",
     "output_type": "stream",
     "text": [
      "median=2194.0\n",
      "q1=240.0\n",
      "q3=16407.0\n",
      "iqr=16167.0\n",
      "Lower outliers: -24010.5\n",
      "Upper outliers: 40657.5\n"
     ]
    }
   ],
   "source": [
    "data = df[\"fel_misd\"].value_counts()\n",
    "median = np.percentile(data, 50)\n",
    "iqr = stats.iqr(data)\n",
    "q1 = np.percentile(data, 25)\n",
    "q3 = np.percentile(data, 75)\n",
    "print(f\"{median=}\\n{q1=}\\n{q3=}\\n{iqr=}\")\n",
    "print(f\"Lower outliers: {q1-1.5*iqr}\")\n",
    "print(f\"Upper outliers: {q3+1.5*iqr}\")"
   ]
  },
  {
   "cell_type": "code",
   "execution_count": 5,
   "id": "3e17e003",
   "metadata": {},
   "outputs": [
    {
     "data": {
      "image/png": "[encoded data removed]",
      "text/plain": [
       "<Figure size 640x480 with 1 Axes>"
      ]
     },
     "metadata": {},
     "output_type": "display_data"
    }
   ],
   "source": [
    "plt.boxplot(data);"
   ]
  },
  {
   "cell_type": "code",
   "execution_count": 6,
   "id": "0697f497",
   "metadata": {},
   "outputs": [],
   "source": [
    "m_arr = df.index[df[\"fel_misd\"] == 'M'].tolist()\n",
    "f_arr = df.index[df[\"fel_misd\"] == 'F'].tolist()\n",
    "\n",
    "shuffle(m_arr)\n",
    "shuffle(f_arr)"
   ]
  },
  {
   "cell_type": "code",
   "execution_count": 10,
   "id": "dfedd287",
   "metadata": {
    "scrolled": false
   },
   "outputs": [
    {
     "data": {
      "text/plain": [
       "C    2194\n",
       "F    2194\n",
       "M    2194\n",
       "S     240\n",
       "P      50\n",
       "Name: fel_misd, dtype: int64"
      ]
     },
     "execution_count": 10,
     "metadata": {},
     "output_type": "execute_result"
    }
   ],
   "source": [
    "temp = df.drop(m_arr[0:len(m_arr)-2194], axis = 0)\n",
    "temp = temp.drop(f_arr[0:len(f_arr)-2194], axis = 0)\n",
    "temp['fel_misd'].value_counts()"
   ]
  },
  {
   "cell_type": "code",
   "execution_count": 11,
   "id": "8750cf7a",
   "metadata": {},
   "outputs": [
    {
     "name": "stdout",
     "output_type": "stream",
     "text": [
      "median=2194.0\n",
      "q1=240.0\n",
      "q3=2194.0\n",
      "iqr=1954.0\n",
      "Lower outliers: -2691.0\n",
      "Upper outliers: 5125.0\n"
     ]
    }
   ],
   "source": [
    "data = temp[\"fel_misd\"].value_counts()\n",
    "median = np.percentile(data, 50)\n",
    "iqr = stats.iqr(data)\n",
    "q1 = np.percentile(data, 25)\n",
    "q3 = np.percentile(data, 75)\n",
    "print(f\"{median=}\\n{q1=}\\n{q3=}\\n{iqr=}\")\n",
    "print(f\"Lower outliers: {q1-1.5*iqr}\")\n",
    "print(f\"Upper outliers: {q3+1.5*iqr}\")"
   ]
  },
  {
   "cell_type": "code",
   "execution_count": 12,
   "id": "5e816d4a",
   "metadata": {},
   "outputs": [
    {
     "data": {
      "image/png": "[encoded data removed]",
      "text/plain": [
       "<Figure size 640x480 with 1 Axes>"
      ]
     },
     "metadata": {},
     "output_type": "display_data"
    }
   ],
   "source": [
    "plt.boxplot(data);"
   ]
  },
  {
   "cell_type": "code",
   "execution_count": 29,
   "id": "9f3dc7b6",
   "metadata": {},
   "outputs": [
    {
     "name": "stdout",
     "output_type": "stream",
     "text": [
      "S\n",
      "P\n"
     ]
    }
   ],
   "source": [
    "def gen_rand_df(temp_df,samples=1):\n",
    "    # Assume that temp_df is only populated with same fel_misd class and no one-hot \n",
    "    #     encoding\n",
    "    # Age, MEDHINC_CY, WLTHINDXCY, time_arr, TOTHH_CY should be normalized prior\n",
    "    #     to calling this function\n",
    "\n",
    "    \n",
    "    d = {}\n",
    "    \n",
    "    choices = temp_df['sex'].value_counts().index.to_list()\n",
    "    v_c = temp_df['sex'].value_counts()\n",
    "    probs = v_c/sum(v_c)\n",
    "    d['sex'] = np.random.choice(choices, p=probs, size=samples)\n",
    "    \n",
    "    choices = temp_df['day'].value_counts().index.to_list()\n",
    "    v_c = temp_df['day'].value_counts()\n",
    "    probs = v_c/sum(v_c)    \n",
    "    d['day'] = np.random.choice(choices, p=probs,size=samples)\n",
    "    \n",
    "    choices = temp_df['month'].value_counts().index.to_list()\n",
    "    v_c = temp_df['month'].value_counts()\n",
    "    probs = v_c/sum(v_c)    \n",
    "    d['month'] = np.random.choice(choices, p=probs, size=samples)\n",
    "    \n",
    "    x = np.random.normal(0,1,size=(5,samples))\n",
    "    d['age'] = x[0]\n",
    "    d['MEDHINC_CY'] = x[1]\n",
    "    d['WLTHINDXCY'] = x[2]\n",
    "    d['time_arr'] = x[3]\n",
    "    d['TOTHH_CY'] = x[4]\n",
    "    d['fel_misd'] = [temp_df['fel_misd'].to_list()[0] for i in range(samples)]\n",
    "    \n",
    "    print(temp_df['fel_misd'].to_list()[0])\n",
    "    df_return = pd.DataFrame.from_dict(d)\n",
    "\n",
    "    \n",
    "    return df_return\n",
    "    \n",
    "    \n",
    "\n",
    "            \n",
    "s_amt = (int) (0.5*240)  \n",
    "p_amt = (int) (0.5*50)    \n",
    "inp = temp[temp['fel_misd'] == 'S']\n",
    "s_temp = gen_rand_df(inp,s_amt)\n",
    "\n",
    "inp = temp[temp['fel_misd'] == 'P']\n",
    "p_temp = gen_rand_df(inp,p_amt)"
   ]
  },
  {
   "cell_type": "code",
   "execution_count": 30,
   "id": "31cdcfc8",
   "metadata": {},
   "outputs": [
    {
     "data": {
      "text/plain": [
       "C    2194\n",
       "F    2194\n",
       "M    2194\n",
       "S     360\n",
       "P      75\n",
       "Name: fel_misd, dtype: int64"
      ]
     },
     "execution_count": 30,
     "metadata": {},
     "output_type": "execute_result"
    }
   ],
   "source": [
    "df = pd.concat([temp,s_temp,p_temp])\n",
    "df['fel_misd'].value_counts()"
   ]
  },
  {
   "cell_type": "code",
   "execution_count": null,
   "id": "0c8e5acd",
   "metadata": {},
   "outputs": [],
   "source": []
  }
 ],
 "metadata": {
  "kernelspec": {
   "display_name": "Python 3 (ipykernel)",
   "language": "python",
   "name": "python3"
  },
  "language_info": {
   "codemirror_mode": {
    "name": "ipython",
    "version": 3
   },
   "file_extension": ".py",
   "mimetype": "text/x-python",
   "name": "python",
   "nbconvert_exporter": "python",
   "pygments_lexer": "ipython3",
   "version": "3.11.4"
  }
 },
 "nbformat": 4,
 "nbformat_minor": 5
}
