{
 "cells": [
  {
   "cell_type": "markdown",
   "id": "8269f78b",
   "metadata": {},
   "source": [
    "---\n",
    "# Visualize the Splits of the Classes\n",
    "- Decrease the variance of datapoints in classes\n",
    "    - Do not overpower the real data with generated data\n",
    "    - $\\frac{1}{3}$ of undersized data will be generated\n",
    "        - 1 part original data, 0.5 part generated\n",
    "- Depends on pandas, numpy, matplotlib, and scipy"
   ]
  },
  {
   "cell_type": "code",
   "execution_count": null,
   "id": "c81eeda4",
   "metadata": {},
   "outputs": [],
   "source": [
    "import warnings\n",
    "warnings.filterwarnings('ignore')\n",
    "import pandas as pd\n",
    "import numpy as np\n",
    "from random import shuffle\n",
    "\n",
    "import matplotlib.pyplot as plt\n",
    "import scipy.stats as stats"
   ]
  },
  {
   "cell_type": "markdown",
   "id": "b9c12a87",
   "metadata": {},
   "source": [
    "---\n",
    "## Read CSV to DF\n",
    "- Perform normalization to columns that need it"
   ]
  },
  {
   "cell_type": "code",
   "execution_count": null,
   "id": "5599c6d1",
   "metadata": {},
   "outputs": [],
   "source": [
    "df = pd.read_csv(\"./clean_data/fully_merged_data.csv\")\n",
    "df = df.dropna()\n",
    "\n",
    "arr = df.index[df[\"fel_misd\"] == ' ']\n",
    "df = df.drop(arr, axis=0)\n",
    "arr = df.index[df[\"fel_misd\"] == '\\xa0']\n",
    "df = df.drop(arr, axis=0)\n",
    "\n",
    "from scipy.stats import zscore\n",
    "\n",
    "need_norm = [\"age\",\"MEDHINC_CY\", \"WLTHINDXCY\", \"TOTHH_CY\"]\n",
    "norm = df[need_norm].apply(zscore)\n",
    "\n",
    "df[need_norm] = norm\n",
    "\n",
    "df"
   ]
  },
  {
   "cell_type": "markdown",
   "id": "c3c6b926",
   "metadata": {},
   "source": [
    "---\n",
    "## Get the Class Counts: Show Stats and Boxplot "
   ]
  },
  {
   "cell_type": "code",
   "execution_count": null,
   "id": "ea645eb9",
   "metadata": {},
   "outputs": [],
   "source": [
    "df[\"fel_misd\"].value_counts()"
   ]
  },
  {
   "cell_type": "code",
   "execution_count": null,
   "id": "2d4ea958",
   "metadata": {},
   "outputs": [],
   "source": [
    "data = df[\"fel_misd\"].value_counts()\n",
    "median = np.percentile(data, 50)\n",
    "iqr = stats.iqr(data)\n",
    "q1 = np.percentile(data, 25)\n",
    "q3 = np.percentile(data, 75)\n",
    "print(f\"{median=}\\n{q1=}\\n{q3=}\\n{iqr=}\")\n",
    "print(f\"Lower outliers: {q1-1.5*iqr}\")\n",
    "print(f\"Upper outliers: {q3+1.5*iqr}\")"
   ]
  },
  {
   "cell_type": "code",
   "execution_count": null,
   "id": "3e17e003",
   "metadata": {},
   "outputs": [],
   "source": [
    "plt.boxplot(data);"
   ]
  },
  {
   "cell_type": "markdown",
   "id": "3b95923d",
   "metadata": {},
   "source": [
    "---\n",
    "## Randomly Decrease the Oversize Classes\n",
    "- Ends same size as median class\n",
    "- M: 46803 $\\to$ 2194\n",
    "- F: 16407 $\\to$ 2194\n",
    "- C: 2194  $\\to$ 2194\n",
    "- S: 240   $\\to$  240\n",
    "- P: 50    $\\to$   50\n",
    "- Visualize"
   ]
  },
  {
   "cell_type": "code",
   "execution_count": null,
   "id": "0697f497",
   "metadata": {},
   "outputs": [],
   "source": [
    "m_arr = df.index[df[\"fel_misd\"] == 'M'].tolist()\n",
    "f_arr = df.index[df[\"fel_misd\"] == 'F'].tolist()\n",
    "\n",
    "shuffle(m_arr)\n",
    "shuffle(f_arr)"
   ]
  },
  {
   "cell_type": "code",
   "execution_count": null,
   "id": "dfedd287",
   "metadata": {},
   "outputs": [],
   "source": [
    "temp = df.drop(m_arr[0:len(m_arr)-2194], axis = 0)\n",
    "temp = temp.drop(f_arr[0:len(f_arr)-2194], axis = 0)\n",
    "temp['fel_misd'].value_counts()"
   ]
  },
  {
   "cell_type": "code",
   "execution_count": null,
   "id": "8750cf7a",
   "metadata": {},
   "outputs": [],
   "source": [
    "data = temp[\"fel_misd\"].value_counts()\n",
    "median = np.percentile(data, 50)\n",
    "iqr = stats.iqr(data)\n",
    "q1 = np.percentile(data, 25)\n",
    "q3 = np.percentile(data, 75)\n",
    "print(f\"{median=}\\n{q1=}\\n{q3=}\\n{iqr=}\")\n",
    "print(f\"Lower outliers: {q1-1.5*iqr}\")\n",
    "print(f\"Upper outliers: {q3+1.5*iqr}\")"
   ]
  },
  {
   "cell_type": "code",
   "execution_count": null,
   "id": "5e816d4a",
   "metadata": {},
   "outputs": [],
   "source": [
    "plt.boxplot(data);"
   ]
  },
  {
   "cell_type": "markdown",
   "id": "74328ecb",
   "metadata": {},
   "source": [
    "---\n",
    "## Randomly Generate Data For Undersized Class\n",
    "- M: 2194  $\\to$ 2194\n",
    "- F: 2194  $\\to$ 2194\n",
    "- C: 2194  $\\to$ 2194\n",
    "- S: 240   $\\to$  360\n",
    "- P: 50    $\\to$   75"
   ]
  },
  {
   "cell_type": "code",
   "execution_count": null,
   "id": "9f3dc7b6",
   "metadata": {},
   "outputs": [],
   "source": [
    "def gen_rand_df(temp_df,samples=1):\n",
    "    ''' \n",
    "    Assume that temp_df is only populated with same fel_misd class and no one-hot \n",
    "    encoding\n",
    "    Age, MEDHINC_CY, WLTHINDXCY, time_arr, TOTHH_CY should be normalized prior\n",
    "    to calling this function \n",
    "    '''\n",
    "\n",
    "    \n",
    "    d = {}\n",
    "    \n",
    "    choices = temp_df['sex'].value_counts().index.to_list()\n",
    "    v_c = temp_df['sex'].value_counts()\n",
    "    probs = v_c/sum(v_c)\n",
    "    d['sex'] = np.random.choice(choices, p=probs, size=samples)\n",
    "    \n",
    "    choices = temp_df['day'].value_counts().index.to_list()\n",
    "    v_c = temp_df['day'].value_counts()\n",
    "    probs = v_c/sum(v_c)    \n",
    "    d['day'] = np.random.choice(choices, p=probs,size=samples)\n",
    "    \n",
    "    choices = temp_df['month'].value_counts().index.to_list()\n",
    "    v_c = temp_df['month'].value_counts()\n",
    "    probs = v_c/sum(v_c)    \n",
    "    d['month'] = np.random.choice(choices, p=probs, size=samples)\n",
    "    \n",
    "    x = np.random.normal(0,1,size=(5,samples))\n",
    "    d['age'] = x[0]\n",
    "    d['MEDHINC_CY'] = x[1]\n",
    "    d['WLTHINDXCY'] = x[2]\n",
    "    d['time_arr'] = x[3]\n",
    "    d['TOTHH_CY'] = x[4]\n",
    "    d['fel_misd'] = [temp_df['fel_misd'].to_list()[0] for i in range(samples)]\n",
    "    \n",
    "    print(temp_df['fel_misd'].to_list()[0])\n",
    "    df_return = pd.DataFrame.from_dict(d)\n",
    "\n",
    "    \n",
    "    return df_return\n",
    "    \n",
    "    \n",
    "\n",
    "            \n",
    "s_amt = (int) (0.5*240)  \n",
    "p_amt = (int) (0.5*50)    \n",
    "inp = temp[temp['fel_misd'] == 'S']\n",
    "s_temp = gen_rand_df(inp,s_amt)\n",
    "\n",
    "inp = temp[temp['fel_misd'] == 'P']\n",
    "p_temp = gen_rand_df(inp,p_amt)"
   ]
  },
  {
   "cell_type": "markdown",
   "id": "dfe05c01",
   "metadata": {},
   "source": [
    "---\n",
    "## Show New Boxplot of Increased Classes"
   ]
  },
  {
   "cell_type": "code",
   "execution_count": null,
   "id": "31cdcfc8",
   "metadata": {},
   "outputs": [],
   "source": [
    "df = pd.concat([temp,s_temp,p_temp])\n",
    "df['fel_misd'].value_counts()"
   ]
  },
  {
   "cell_type": "code",
   "execution_count": null,
   "id": "0c8e5acd",
   "metadata": {},
   "outputs": [],
   "source": [
    "plt.boxplot(df['fel_misd'].value_counts());"
   ]
  }
 ],
 "metadata": {
  "kernelspec": {
   "display_name": "Python 3 (ipykernel)",
   "language": "python",
   "name": "python3"
  },
  "language_info": {
   "codemirror_mode": {
    "name": "ipython",
    "version": 3
   },
   "file_extension": ".py",
   "mimetype": "text/x-python",
   "name": "python",
   "nbconvert_exporter": "python",
   "pygments_lexer": "ipython3",
   "version": "3.11.4"
  }
 },
 "nbformat": 4,
 "nbformat_minor": 5
}
