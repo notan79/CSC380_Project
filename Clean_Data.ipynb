{
 "cells": [
  {
   "cell_type": "code",
   "execution_count": 2,
   "id": "823171ae",
   "metadata": {},
   "outputs": [],
   "source": [
    "import pandas as pd\n",
    "import matplotlib.pyplot as plt\n",
    "import numpy as np"
   ]
  },
  {
   "cell_type": "code",
   "execution_count": 3,
   "id": "53f9e759",
   "metadata": {},
   "outputs": [],
   "source": [
    "loc = \"./data/Arrests_2020.csv\"\n",
    "df = pd.read_csv(loc)"
   ]
  },
  {
   "cell_type": "code",
   "execution_count": null,
   "id": "df7f2c3f",
   "metadata": {},
   "outputs": [],
   "source": [
    "x_names = [\"NHA\"]"
   ]
  }
 ],
 "metadata": {
  "kernelspec": {
   "display_name": "Python 3 (ipykernel)",
   "language": "python",
   "name": "python3"
  },
  "language_info": {
   "codemirror_mode": {
    "name": "ipython",
    "version": 3
   },
   "file_extension": ".py",
   "mimetype": "text/x-python",
   "name": "python",
   "nbconvert_exporter": "python",
   "pygments_lexer": "ipython3",
   "version": "3.11.4"
  }
 },
 "nbformat": 4,
 "nbformat_minor": 5
}
