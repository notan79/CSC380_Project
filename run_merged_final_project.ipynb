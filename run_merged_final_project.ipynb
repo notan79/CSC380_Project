{
 "cells": [
  {
   "cell_type": "markdown",
   "id": "20ac82be",
   "metadata": {},
   "source": [
    "---\n",
    "## Final Project:\n",
    "### Nathan Crutchfield and Trevor Nemitz\n",
    "### CSC380: Principles of Data Science\n",
    "### Cesim Erten  "
   ]
  },
  {
   "cell_type": "markdown",
   "id": "f99654bd",
   "metadata": {},
   "source": [
    "---\n",
    "# 0. Pre-Training, Data Processing, etc\n",
    "- Extract the three TPD CSVs and get the relevent info\n",
    "- Combine three dataframes after mapping the neighborhoods\n",
    "- Save the CSV\n",
    "\n",
    "## Relevent Modules:\n",
    "- Pandas   - dataframe, data representation\n",
    "- Datetime - parsing dates\n",
    "\n",
    "## Module Versions:\n",
    "- Pandas:   '1.5.3'"
   ]
  },
  {
   "cell_type": "code",
   "execution_count": 1,
   "id": "c3fe9f1c",
   "metadata": {},
   "outputs": [],
   "source": [
    "intermediate_write_out = True\n",
    "print_debug = True"
   ]
  },
  {
   "cell_type": "code",
   "execution_count": 2,
   "id": "e76b6685",
   "metadata": {},
   "outputs": [],
   "source": [
    "import pandas as pd\n",
    "import datetime"
   ]
  },
  {
   "cell_type": "markdown",
   "id": "f450c248",
   "metadata": {},
   "source": [
    "---\n",
    "## 0.1 Arrests Cleaning\n",
    "- Get the valid columns from the arrests data\n",
    "- Use the process_df function to make the data interpretable\n",
    "---\n",
    "### Relevent Data Columns"
   ]
  },
  {
   "cell_type": "code",
   "execution_count": 3,
   "id": "3acd0233",
   "metadata": {},
   "outputs": [],
   "source": [
    "valid_cols = [\"NHA_NAME\", \"sex\", \"age\", \"datetime_arr\", \"fel_misd\"]"
   ]
  },
  {
   "cell_type": "markdown",
   "id": "45b99419",
   "metadata": {},
   "source": [
    "---\n",
    "### Function for Interpreting Arrests Data"
   ]
  },
  {
   "cell_type": "code",
   "execution_count": 4,
   "id": "3b06122d",
   "metadata": {},
   "outputs": [],
   "source": [
    "def process_df(df):\n",
    "    df = df[valid_cols].dropna()\n",
    "    date_arr = []\n",
    "    month_arr = []\n",
    "    proper_time_arr = []\n",
    "    for i in range(len(df)):\n",
    "        datetime_arr = list(df[\"datetime_arr\"])[i].split(\" \") # extract date and time str\n",
    "\n",
    "        date = datetime_arr[0].strip()\n",
    "        time = datetime_arr[1].strip().split(\":\")\n",
    "    \n",
    "        realtime = int(time[0]) - 7\n",
    "        if (realtime < 0):\n",
    "            realtime = 24 + realtime\n",
    "        proper_time_arr.append(f\"{realtime}{time[1]}\")\n",
    "        \n",
    "        calc_date = datetime.datetime.strptime(date, '%Y/%m/%d') \n",
    "        day = (calc_date.weekday() + 1) % 7\n",
    "        date_arr.append(day)\n",
    "        month_arr.append(calc_date.month-1)\n",
    "\n",
    "    df = df.drop(\"datetime_arr\", axis=1)\n",
    "    df[\"day\"] = date_arr\n",
    "    df[\"month\"] = month_arr\n",
    "    df[\"time\"] = proper_time_arr\n",
    "\n",
    "    return df"
   ]
  },
  {
   "cell_type": "markdown",
   "id": "f850e3c8",
   "metadata": {},
   "source": [
    "---\n",
    "### Find the DFs for Both Years"
   ]
  },
  {
   "cell_type": "code",
   "execution_count": 5,
   "id": "e0aab80b",
   "metadata": {},
   "outputs": [
    {
     "name": "stdout",
     "output_type": "stream",
     "text": [
      "              NHA_NAME sex age fel_misd  day  month  time\n",
      "12        Dodge Flower   M  21        M    4      0  1610\n",
      "13        Dodge Flower   M  21        M    4      0  1610\n",
      "15     West University   M  24        M    5      0  1716\n",
      "16     West University   M  24        M    5      0  1716\n",
      "17        Dodge Flower   M  21        M    4      0  1610\n",
      "...                ...  ..  ..      ...  ...    ...   ...\n",
      "51531        Pie Allen   M  39        M    0      2  1738\n",
      "51539     San Clemente   M  23        M    6      2  1804\n",
      "51540     San Clemente   M  23        M    6      2  1804\n",
      "51541     San Clemente   M  23        M    6      2  1804\n",
      "51543         Downtown   M  65        M    0      2  1833\n",
      "\n",
      "[37309 rows x 7 columns]\n"
     ]
    }
   ],
   "source": [
    "arrests_2020 = pd.read_csv(\"./data/Arrests_2020.csv\")\n",
    "arrests_2020 = process_df(arrests_2020)\n",
    "\n",
    "if print_debug:\n",
    "    print(arrests_2020)"
   ]
  },
  {
   "cell_type": "code",
   "execution_count": 6,
   "id": "c8163e80",
   "metadata": {},
   "outputs": [
    {
     "name": "stdout",
     "output_type": "stream",
     "text": [
      "              NHA_NAME sex age fel_misd  day  month  time\n",
      "3             Eastside   M  15        M    6      0  1144\n",
      "4             Eastside   M  15        M    6      0  1144\n",
      "5           Rita Ranch   F  25        M    6      0  1305\n",
      "6      Garden District   M  34        F    6      0  1449\n",
      "8      Garden District   M  34        F    6      0  1449\n",
      "...                ...  ..  ..      ...  ...    ...   ...\n",
      "45407            Amphi   F  49        M    2      1   109\n",
      "45408    Flowing Wells   M  22        M    4      2   827\n",
      "45412    Flowing Wells   M  22        M    4      2   827\n",
      "45413    Flowing Wells   M  22             4      2   827\n",
      "45419         Downtown   M  30        F    1      1   400\n",
      "\n",
      "[32086 rows x 7 columns]\n"
     ]
    }
   ],
   "source": [
    "arrests_2021 = pd.read_csv(\"./data/Arrests_2021.csv\")\n",
    "arrests_2021 = process_df(arrests_2021)\n",
    "\n",
    "if print_debug:\n",
    "    print(arrests_2021)"
   ]
  },
  {
   "cell_type": "code",
   "execution_count": 7,
   "id": "a09f2de0",
   "metadata": {},
   "outputs": [],
   "source": [
    "if intermediate_write_out:\n",
    "    arrests_2020.to_csv('./clean_data/Arrests_2020_cleaned.csv', index=False)\n",
    "    arrests_2021.to_csv('./clean_data/Arrests_2021_cleaned.csv', index=False)"
   ]
  },
  {
   "cell_type": "markdown",
   "id": "92c71bb2",
   "metadata": {},
   "source": [
    "---\n",
    "## 0.2 Neighborhood Wealth Cleaning:\n",
    "---\n",
    "### Extracting Relevent Columns"
   ]
  },
  {
   "cell_type": "code",
   "execution_count": 8,
   "id": "de7f6c4a",
   "metadata": {},
   "outputs": [
    {
     "name": "stdout",
     "output_type": "stream",
     "text": [
      "                       MEDHINC_CY  WLTHINDXCY  TOTHH_CY\n",
      "NAME                                                   \n",
      "A Mountain                  39293          32      1103\n",
      "Adelanto                    33635          28       117\n",
      "Alvernon Heights            29762          26        99\n",
      "Amphi                       20213          20      3105\n",
      "Armory Park                 36870          48      1223\n",
      "...                           ...         ...       ...\n",
      "West Lamar City Acres       38082          46       121\n",
      "Loma Verde                  43696          73       233\n",
      "Downtown                    36471          26       111\n",
      "Barrio Santa Cruz           27188          33        64\n",
      "Bonanza                     62571          69      2319\n",
      "\n",
      "[159 rows x 3 columns]\n"
     ]
    }
   ],
   "source": [
    "neighborhood = pd.read_csv(\"./data/Neighborhood_Income.csv\")\n",
    "neighborhood.set_index('NAME', inplace=True)\n",
    "neighborhood = neighborhood[[\"MEDHINC_CY\", \"WLTHINDXCY\", \"TOTHH_CY\"]]\n",
    "\n",
    "if print_debug:\n",
    "    print(neighborhood)"
   ]
  },
  {
   "cell_type": "code",
   "execution_count": 9,
   "id": "6a590a6b",
   "metadata": {},
   "outputs": [],
   "source": [
    "if intermediate_write_out:\n",
    "    neighborhood.to_csv('./clean_data/neighborhood_cleaned.csv', index=True)"
   ]
  },
  {
   "cell_type": "markdown",
   "id": "400a1e57",
   "metadata": {},
   "source": [
    "---\n",
    "## 0.3 Merging DFs:"
   ]
  },
  {
   "cell_type": "code",
   "execution_count": 10,
   "id": "4b2be808",
   "metadata": {},
   "outputs": [
    {
     "name": "stdout",
     "output_type": "stream",
     "text": [
      "              NHA_NAME sex age fel_misd  day  month  time\n",
      "12        Dodge Flower   M  21        M    4      0  1610\n",
      "13        Dodge Flower   M  21        M    4      0  1610\n",
      "15     West University   M  24        M    5      0  1716\n",
      "16     West University   M  24        M    5      0  1716\n",
      "17        Dodge Flower   M  21        M    4      0  1610\n",
      "...                ...  ..  ..      ...  ...    ...   ...\n",
      "45407            Amphi   F  49        M    2      1   109\n",
      "45408    Flowing Wells   M  22        M    4      2   827\n",
      "45412    Flowing Wells   M  22        M    4      2   827\n",
      "45413    Flowing Wells   M  22             4      2   827\n",
      "45419         Downtown   M  30        F    1      1   400\n",
      "\n",
      "[69395 rows x 7 columns]\n"
     ]
    }
   ],
   "source": [
    "arrests_df = pd.concat([arrests_2020, arrests_2021])\n",
    "\n",
    "if print_debug:\n",
    "    print(arrests_df)"
   ]
  },
  {
   "cell_type": "markdown",
   "id": "318e3b90",
   "metadata": {},
   "source": [
    "---\n",
    "### Map the Wealth and Total Household to the Arrest Neighborhood"
   ]
  },
  {
   "cell_type": "code",
   "execution_count": 11,
   "id": "769d9291",
   "metadata": {},
   "outputs": [
    {
     "name": "stdout",
     "output_type": "stream",
     "text": [
      "              NHA_NAME sex age  day  month  MEDHINC_CY  WLTHINDXCY  time  \\\n",
      "12        Dodge Flower   M  21    4      0     25336.0        27.0  1610   \n",
      "13        Dodge Flower   M  21    4      0     25336.0        27.0  1610   \n",
      "15     West University   M  24    5      0     25427.0        30.0  1716   \n",
      "16     West University   M  24    5      0     25427.0        30.0  1716   \n",
      "17        Dodge Flower   M  21    4      0     25336.0        27.0  1610   \n",
      "...                ...  ..  ..  ...    ...         ...         ...   ...   \n",
      "45407            Amphi   F  49    2      1     20213.0        20.0   109   \n",
      "45408    Flowing Wells   M  22    4      2     30668.0        35.0   827   \n",
      "45412    Flowing Wells   M  22    4      2     30668.0        35.0   827   \n",
      "45413    Flowing Wells   M  22    4      2     30668.0        35.0   827   \n",
      "45419         Downtown   M  30    1      1     36471.0        26.0   400   \n",
      "\n",
      "       TOTHH_CY fel_misd  \n",
      "12       1309.0        M  \n",
      "13       1309.0        M  \n",
      "15       1359.0        M  \n",
      "16       1359.0        M  \n",
      "17       1309.0        M  \n",
      "...         ...      ...  \n",
      "45407    3105.0        M  \n",
      "45408    3825.0        M  \n",
      "45412    3825.0        M  \n",
      "45413    3825.0           \n",
      "45419     111.0        F  \n",
      "\n",
      "[69395 rows x 10 columns]\n"
     ]
    }
   ],
   "source": [
    "arrests_df['MEDHINC_CY'] = arrests_df['NHA_NAME'].map(neighborhood['MEDHINC_CY'])\n",
    "arrests_df['WLTHINDXCY'] = arrests_df['NHA_NAME'].map(neighborhood['WLTHINDXCY'])\n",
    "arrests_df['TOTHH_CY'] = arrests_df['NHA_NAME'].map(neighborhood['TOTHH_CY'])\n",
    "arrests_df.dropna()\n",
    "arrests_df = arrests_df[[\"NHA_NAME\",\"sex\",\"age\",\"day\",\"month\",\"MEDHINC_CY\",\"WLTHINDXCY\", \"time\", \"TOTHH_CY\", \"fel_misd\"]]\n",
    "\n",
    "if print_debug:\n",
    "    print(arrests_df)"
   ]
  },
  {
   "cell_type": "markdown",
   "id": "e51e262b",
   "metadata": {},
   "source": [
    "---\n",
    "### Remove the Neighborhood Name Column"
   ]
  },
  {
   "cell_type": "code",
   "execution_count": 12,
   "id": "84ee2b2f",
   "metadata": {},
   "outputs": [],
   "source": [
    "arrests_df = arrests_df.drop(columns=\"NHA_NAME\")"
   ]
  },
  {
   "cell_type": "markdown",
   "id": "f996d162",
   "metadata": {},
   "source": [
    "---\n",
    "## 0.4 Finding Non-Numeric Age Indices"
   ]
  },
  {
   "cell_type": "code",
   "execution_count": 13,
   "id": "765674be",
   "metadata": {},
   "outputs": [
    {
     "name": "stdout",
     "output_type": "stream",
     "text": [
      "[165, 168, 224, 225, 226, 306, 405, 439, 564, 565, 566, 567, 568, 855, 965, 1143, 1144, 1145, 1147, 1150, 1151, 1158, 1159, 1160, 1161, 1169, 1274, 1275, 1276, 1288, 1289, 1292, 1315, 1316, 1381, 1382, 1455, 1456, 1548, 1550, 1610, 1737, 1738, 1995, 1996, 2093, 2096, 2379, 2381, 2382, 2444, 2468, 2469, 2470, 2477, 2493, 2527, 2528, 2563, 2564, 2614, 2741, 2847, 2848, 2945, 2946, 2947, 2948, 2949, 2966, 2967, 2981, 3214, 3215, 3419, 3527, 3528, 3530, 3568, 3569, 3719, 3758, 3759, 3761, 3902, 3923, 3924, 4040, 4112, 4114, 4157, 4551, 4552, 4553, 4554, 5005, 5006, 5007, 5045, 5046, 5047, 5048, 5052, 5129, 5130, 5401, 5402, 5591, 5593, 5594, 5652, 5653, 5655, 5656, 5667, 5668, 5670, 5671, 5818, 5827, 5949, 5967, 5968, 5969, 5970, 5971, 5991, 5992, 5993, 5994, 5997, 6154, 6161, 6190, 6191, 6344, 6435, 6441, 6442, 6443, 6444, 6445, 6446, 6447, 6448, 6449, 6450, 6451, 6452, 6453, 6454, 6455, 6456, 6457, 6766, 6773, 6817, 6836, 6839, 6901, 6902, 6903, 6904, 6906, 6915, 6940, 6941, 6966, 6967, 7067, 7371, 7520, 7522, 7524, 7525, 7526, 7561, 7565, 7566, 7641, 7735, 7736, 7893, 7895, 7896, 7902, 7962, 7963, 7969, 7970, 8146, 8147, 8149, 8169, 8170, 8171, 8172, 8173, 8209, 8211, 8286, 8474, 8476, 8477, 8478, 8479, 8549, 8550, 8551, 8552, 8553, 8557, 8558, 8573, 8687, 8767, 8768, 8904, 8905, 8906, 8984, 9469, 9470, 9498, 9757, 9771, 9772, 9812, 9813, 9814, 9815, 9824, 9825, 10116, 10130, 10131, 10133, 10134, 10361, 10471, 10472, 10473, 10657, 10658, 10889, 10890, 10891, 10941, 10942, 10943, 10944, 11193, 11194, 11195, 11233, 11234, 11479, 11480, 11481, 11495, 11520, 11521, 11522, 11524, 11528, 11560, 11675, 12291, 12531, 12602, 12603, 13028, 13029, 13030, 13031, 13032, 13249, 13250, 13251, 13252, 13314, 13315, 13623, 13624, 13634, 13635, 13636, 13687, 13688, 13689, 13760, 13761, 13762, 13801, 13802, 14195, 14199, 14355, 14356, 14357, 14361, 14465, 14466, 14467, 14501, 14545, 14599, 14601, 14602, 14603, 14604, 14605, 14645, 14646, 14844, 14845, 14859, 14860, 15032, 15033, 15034, 15134, 15140, 15406, 15433, 15434, 15436, 15458, 15459, 15460, 15461, 15505, 15506, 15507, 15508, 15742, 15743, 15744, 15745, 15850, 15851, 15993, 15994, 15996, 16017, 16018, 16552, 16615, 16699, 16700, 16742, 16748, 16749, 16750, 16870, 16872, 16877, 17061, 17062, 17092, 17406, 17407, 17595, 17596, 17600, 17826, 17923, 17994, 17995, 18260, 18261, 18262, 18266, 18267, 18273, 18274, 18297, 18298, 18299, 18300, 18301, 18336, 18337, 18338, 18502, 18503, 18516, 18517, 18665, 18666, 18776, 18777, 18794, 18795, 18832, 18923, 18954, 19062, 19103, 19104, 19105, 19294, 19295, 19297, 19384, 19385, 19386, 19469, 19470, 19471, 19498, 19499, 19519, 19520, 19525, 19613, 19614, 19615, 19628, 19630, 19631, 19649, 19650, 19786, 19787, 19788, 19789, 19790, 19791, 19793, 19918, 19919, 20108, 20109, 20126, 20127, 20372, 20497, 20498, 20499, 20500, 20503, 20644, 21191, 21370, 21514, 21516, 21517, 21545, 21676, 21743, 21892, 21893, 21896, 21897, 21898, 21899, 21900, 21933, 21934, 21968, 22060, 22086, 22087, 22229, 22230, 22968, 22969, 23224, 23226, 23228, 23229, 23293, 23295, 23296, 23686, 23957, 23958, 23969, 23991, 23992, 24003, 24064, 24066, 24072, 24213, 24215, 24305, 24336, 24395, 24396, 24397, 24398, 24401, 24538, 24541, 24557, 24565, 24872, 24873, 24906, 24959, 24960, 25013, 25014, 25027, 25091, 25224, 25416, 25418, 25422, 25490, 25491, 25618, 25792, 25793, 25794, 25795, 25797, 25825, 26016, 26017, 26019, 26037, 26039, 26040, 26041, 26042, 26163, 26343, 26508, 26654, 26655, 26656, 26664, 26671, 26672, 26673, 26687, 26932, 26933, 26934, 27161, 27162, 27167, 27316, 27317, 27319, 27415, 27416, 27417, 27557, 27586, 27598, 27641, 27642, 27667, 27998, 27999, 28022, 28144, 28145, 28459, 28461, 28722, 28723, 29055, 29250, 29251, 29445, 29530, 29531, 29568, 29570, 29574, 29598, 29599, 29933, 30002, 30052, 30053, 30055, 30056, 30057, 30058, 30059, 30111, 30112, 30113, 30229, 30230, 30231, 30232, 30379, 30380, 30381, 30462, 30558, 30676, 30677, 30688, 30812, 31018, 31019, 31484, 31485, 31486, 31680, 31711, 31979, 31980, 31990, 32103, 32104, 32197, 32479, 32480, 32501, 32638, 32688, 32689, 32690, 32691, 32893, 32896, 33071, 33107, 33195, 33196, 33197, 33259, 33260, 33261, 33287, 33351, 33586, 33588, 33594, 33712, 33713, 33714, 33715, 33716, 33717, 33885, 33886, 33887, 33888, 33920, 33921, 33922, 34035, 34177, 34178, 34209, 34210, 34211, 34212, 34213, 34244, 34246, 34260, 34781, 34782, 34897, 34898, 34899, 34962, 34963, 35044, 35045, 35046, 35285, 35435, 35436, 35437, 35474, 35629, 36017, 36248, 36294, 36351, 36845, 36877, 36910, 36911, 36912, 36913, 36914, 37038, 37097, 37112, 37114, 37115, 37116, 37117, 37118, 37344, 37347, 37352, 37361, 37370, 37749, 37750, 37829, 37830, 37831, 37832, 37834, 37935, 37936, 37938, 37941, 38196, 38200, 38244, 38428, 38429, 38430, 38431, 38432, 38433, 38434, 38435, 38965, 38972, 39259, 39260, 39261, 39359, 39360, 39373, 39374, 39389, 39405, 39472, 39473, 39474, 39475, 39585, 39614, 40099, 40100, 40101, 40136, 40138, 40157, 40158, 40159, 40172, 40195, 40201, 40202, 40203, 40240, 40242, 40243, 40244, 40247, 40249, 40306, 40312, 40313, 40315, 40316, 40317, 40408, 40601, 40602, 40725, 40726, 40915, 41028, 41029, 41056, 41057, 41087, 41088, 41090, 41568, 41570, 41630, 41938, 42174, 42175, 42176, 42177, 42287, 42774, 42924, 42925, 42927, 42942, 42943, 42944, 42973, 43517, 43518, 43519, 43520, 43895, 43896, 43897, 43898, 44032, 44034, 44035, 44036, 44038, 44085, 44087, 44105, 44107, 44245, 44555, 44556, 44559, 44560, 44589, 44643, 44737, 45277, 45295, 45431, 45432, 45433, 45512, 45513, 45514, 45552, 45553, 45554, 45587, 45610, 45611, 45612, 45613, 45614, 45615, 45649, 45650, 45778, 45787, 45788, 45791, 45905, 45907, 46111, 46112, 46267, 46268, 46269, 46270, 46271, 46420, 46704, 46706, 46707, 46725, 46726, 46766, 46882, 46883, 47015, 47016, 47019, 47020, 47021, 47022, 47023, 47041, 47042, 47043, 47044, 47045, 47124, 47181, 47419, 47421, 47662, 47663, 47701, 47702, 47703, 47800, 47802, 48031, 48032, 48033, 48093, 48115, 48116, 48336, 48474, 48661, 48662, 48663, 48664, 48909, 48910, 48911, 48912, 48925, 48926, 48927, 49213, 49215, 49216, 49217, 49218, 49290, 49457, 49458, 49459, 49461, 49463, 49469, 49471, 49472, 49575, 49576, 49588, 49589, 49590, 49734, 49796, 50113, 50190, 50215, 50260, 50261, 50262, 50278, 50279, 50280, 50283, 50456, 50623, 50682, 50691, 50843, 50924, 50960, 50962, 50963, 50965, 50986, 50987, 51242, 51321, 51439, 51440, 51441, 51516, 51545, 51546, 51547, 51562, 51563, 51572, 51590, 51592, 51612, 51666, 51667, 51756, 51815, 51818, 51825, 51899, 51946, 51955, 52034, 52035, 52036, 52115, 52116, 52121, 52143, 52204, 52205, 52262, 52368, 52426, 52427, 52571, 52572, 52713, 52778, 52779, 52780, 52869, 52870, 52871, 52973, 52974, 53159, 53160, 53161, 53162, 53241, 53242, 53243, 53280, 53281, 53317, 53318, 53381, 53382, 53383, 53384, 53385, 53479, 53550, 53551, 53552, 53742, 53792, 53805, 54060, 54061, 54388, 54389, 54390, 54391, 54657, 54658, 54697, 55052, 55067, 55069, 55070, 55071, 55072, 55073, 55074, 55075, 55091, 55092, 55093, 55139, 55140, 55355, 55356, 55360, 55678, 55679, 55680, 55843, 55927, 55928, 56455, 56456, 56457, 56458, 56459, 56527, 56648, 56649, 56801, 56803, 56804, 56805, 56815, 56857, 56858, 56859, 56876, 56877, 56953, 56954, 56955, 57193, 57196, 57199, 57225, 57580, 57581, 57582, 57583, 57584, 57585, 57586, 57588, 57718, 57719, 57720, 57721, 58198, 58199, 58200, 58201, 58232, 58233, 58301, 58303, 58304, 58305, 58521, 58522, 58524, 58525, 58526, 58643, 58910, 58911, 58917, 58918, 59145, 59146, 59347, 59348, 59349, 59350, 59354, 59379, 59510, 59511, 59526, 59794, 59873, 60153, 60232, 60270, 60271, 60605, 60606, 60612, 60613, 60684, 60685, 60686, 60687, 60688, 60689, 60690, 60754, 60756, 60896, 60937, 60970, 60971, 60972, 60973, 60974, 60975, 60976, 61017, 61039, 61041, 61125, 61126, 61128, 61497, 61498, 61499, 61503, 61504, 61505, 61506, 61658, 61659, 61660, 61661, 61765, 61766, 61767, 61768, 61769, 61771, 61772, 61773, 61774, 61775, 61868, 61997, 62115, 62647, 62648, 62650, 62935, 63048, 63049, 63050, 63051, 63192, 63194, 63195, 63219, 63220, 63295, 63298, 63403, 63476, 63477, 63560, 63573, 63574, 63576, 63659, 63661, 63662, 63767, 63768, 63769, 63770, 63771, 63774, 64388, 64440, 64441, 64442, 64457, 64458, 64459, 64460, 64461, 64462, 64509, 64510, 64550, 64551, 64621, 64643, 64646, 64678, 64680, 65181, 65182, 65184, 65185, 65531, 65565, 65566, 65567, 65572, 65579, 65580, 65581, 65582, 65583, 65584, 65585, 65634, 65635, 65740, 65929, 65930, 65931, 65932, 66023, 66123, 66219, 66220, 66221, 66222, 66328, 66329, 66331, 66332, 66513, 66533, 66658, 66659, 67058, 67163, 67164, 67246, 67247, 67387, 67400, 67401, 67536, 67653, 67655, 67656, 67657, 67658, 67659, 67660, 67663, 67664, 67665, 67672, 67677, 67687, 67689, 67690, 67691, 67695, 67696, 67837, 67838, 67911, 67912, 68061, 68062, 68103, 68104, 68105, 68365, 68367, 68368, 68437, 68490, 68553, 69003, 69004, 69005, 69026, 69027, 69028, 69307, 69316, 69317, 69318, 69319]\n"
     ]
    }
   ],
   "source": [
    "x = list(arrests_df[\"age\"])\n",
    "arr = []\n",
    "for i, val in enumerate(x):\n",
    "    try:\n",
    "        int(val)\n",
    "    except:\n",
    "        arr.append(i)\n",
    "\n",
    "if print_debug:\n",
    "    print(arr)"
   ]
  },
  {
   "cell_type": "markdown",
   "id": "e554070e",
   "metadata": {},
   "source": [
    "---\n",
    "### Cleaning Age and MEDHINC Columns and Resetting Indices"
   ]
  },
  {
   "cell_type": "code",
   "execution_count": 14,
   "id": "59704653",
   "metadata": {},
   "outputs": [
    {
     "name": "stdout",
     "output_type": "stream",
     "text": [
      "      sex age  day  month  MEDHINC_CY  WLTHINDXCY  time  TOTHH_CY fel_misd\n",
      "0       M  21    4      0     25336.0        27.0  1610    1309.0        M\n",
      "1       M  21    4      0     25336.0        27.0  1610    1309.0        M\n",
      "2       M  24    5      0     25427.0        30.0  1716    1359.0        M\n",
      "3       M  24    5      0     25427.0        30.0  1716    1359.0        M\n",
      "4       M  21    4      0     25336.0        27.0  1610    1309.0        M\n",
      "...    ..  ..  ...    ...         ...         ...   ...       ...      ...\n",
      "69390   F  49    2      1     20213.0        20.0   109    3105.0        M\n",
      "69391   M  22    4      2     30668.0        35.0   827    3825.0        M\n",
      "69392   M  22    4      2     30668.0        35.0   827    3825.0        M\n",
      "69393   M  22    4      2     30668.0        35.0   827    3825.0         \n",
      "69394   M  30    1      1     36471.0        26.0   400     111.0        F\n",
      "\n",
      "[68078 rows x 9 columns]\n"
     ]
    }
   ],
   "source": [
    "df = arrests_df.set_axis([i for i in range(len(arrests_df))])\n",
    "df = df.drop(arr, axis=0) # drop rows with age = ' '\n",
    "\n",
    "if print_debug:\n",
    "    print(df)"
   ]
  },
  {
   "cell_type": "code",
   "execution_count": 15,
   "id": "cebcdfd8",
   "metadata": {},
   "outputs": [],
   "source": [
    "# remove null medhinc_cy calues\n",
    "df = df.reset_index()\n",
    "for i, a in enumerate(df['time']):\n",
    "    try:\n",
    "        int(a)\n",
    "    except:\n",
    "        print(a)\n",
    "        break\n",
    "        df = df.drop([i], axis=0)"
   ]
  },
  {
   "cell_type": "markdown",
   "id": "1a56049e",
   "metadata": {},
   "source": [
    "---\n",
    "## Save DF"
   ]
  },
  {
   "cell_type": "code",
   "execution_count": 16,
   "id": "349b6dfc",
   "metadata": {},
   "outputs": [],
   "source": [
    "df.to_csv('./clean_data/fully_merged_data.csv', index=False)"
   ]
  },
  {
   "cell_type": "markdown",
   "id": "5f60609d",
   "metadata": {},
   "source": [
    "---\n",
    "## 0.6 Show the Correlation of Inputs\n",
    "### Relevent Modules:\n",
    "- Seaborn  - Data visualization\n",
    "- Warnings - Ignore warning messages\n",
    "### Module Versions:\n",
    "- Seaborn: '0.12.2'"
   ]
  },
  {
   "cell_type": "code",
   "execution_count": 17,
   "id": "c4fd17a1",
   "metadata": {},
   "outputs": [],
   "source": [
    "import seaborn as sb\n",
    "import warnings\n",
    "warnings.filterwarnings('ignore')"
   ]
  },
  {
   "cell_type": "code",
   "execution_count": 18,
   "id": "1d8660c6",
   "metadata": {},
   "outputs": [
    {
     "data": {
      "text/html": [
       "<div>\n",
       "<style scoped>\n",
       "    .dataframe tbody tr th:only-of-type {\n",
       "        vertical-align: middle;\n",
       "    }\n",
       "\n",
       "    .dataframe tbody tr th {\n",
       "        vertical-align: top;\n",
       "    }\n",
       "\n",
       "    .dataframe thead th {\n",
       "        text-align: right;\n",
       "    }\n",
       "</style>\n",
       "<table border=\"1\" class=\"dataframe\">\n",
       "  <thead>\n",
       "    <tr style=\"text-align: right;\">\n",
       "      <th></th>\n",
       "      <th>index</th>\n",
       "      <th>age</th>\n",
       "      <th>MEDHINC_CY</th>\n",
       "      <th>WLTHINDXCY</th>\n",
       "      <th>time</th>\n",
       "      <th>TOTHH_CY</th>\n",
       "      <th>fel_misd</th>\n",
       "      <th>sex_M</th>\n",
       "      <th>sex_U</th>\n",
       "      <th>day_1</th>\n",
       "      <th>...</th>\n",
       "      <th>month_2</th>\n",
       "      <th>month_3</th>\n",
       "      <th>month_4</th>\n",
       "      <th>month_5</th>\n",
       "      <th>month_6</th>\n",
       "      <th>month_7</th>\n",
       "      <th>month_8</th>\n",
       "      <th>month_9</th>\n",
       "      <th>month_10</th>\n",
       "      <th>month_11</th>\n",
       "    </tr>\n",
       "  </thead>\n",
       "  <tbody>\n",
       "    <tr>\n",
       "      <th>0</th>\n",
       "      <td>0</td>\n",
       "      <td>-1.007650</td>\n",
       "      <td>-0.795643</td>\n",
       "      <td>-0.502892</td>\n",
       "      <td>1610</td>\n",
       "      <td>-0.442905</td>\n",
       "      <td>M</td>\n",
       "      <td>1</td>\n",
       "      <td>0</td>\n",
       "      <td>0</td>\n",
       "      <td>...</td>\n",
       "      <td>0</td>\n",
       "      <td>0</td>\n",
       "      <td>0</td>\n",
       "      <td>0</td>\n",
       "      <td>0</td>\n",
       "      <td>0</td>\n",
       "      <td>0</td>\n",
       "      <td>0</td>\n",
       "      <td>0</td>\n",
       "      <td>0</td>\n",
       "    </tr>\n",
       "    <tr>\n",
       "      <th>1</th>\n",
       "      <td>1</td>\n",
       "      <td>-1.007650</td>\n",
       "      <td>-0.795643</td>\n",
       "      <td>-0.502892</td>\n",
       "      <td>1610</td>\n",
       "      <td>-0.442905</td>\n",
       "      <td>M</td>\n",
       "      <td>1</td>\n",
       "      <td>0</td>\n",
       "      <td>0</td>\n",
       "      <td>...</td>\n",
       "      <td>0</td>\n",
       "      <td>0</td>\n",
       "      <td>0</td>\n",
       "      <td>0</td>\n",
       "      <td>0</td>\n",
       "      <td>0</td>\n",
       "      <td>0</td>\n",
       "      <td>0</td>\n",
       "      <td>0</td>\n",
       "      <td>0</td>\n",
       "    </tr>\n",
       "    <tr>\n",
       "      <th>2</th>\n",
       "      <td>2</td>\n",
       "      <td>-0.759528</td>\n",
       "      <td>-0.788811</td>\n",
       "      <td>-0.373469</td>\n",
       "      <td>1716</td>\n",
       "      <td>-0.405740</td>\n",
       "      <td>M</td>\n",
       "      <td>1</td>\n",
       "      <td>0</td>\n",
       "      <td>0</td>\n",
       "      <td>...</td>\n",
       "      <td>0</td>\n",
       "      <td>0</td>\n",
       "      <td>0</td>\n",
       "      <td>0</td>\n",
       "      <td>0</td>\n",
       "      <td>0</td>\n",
       "      <td>0</td>\n",
       "      <td>0</td>\n",
       "      <td>0</td>\n",
       "      <td>0</td>\n",
       "    </tr>\n",
       "    <tr>\n",
       "      <th>3</th>\n",
       "      <td>3</td>\n",
       "      <td>-0.759528</td>\n",
       "      <td>-0.788811</td>\n",
       "      <td>-0.373469</td>\n",
       "      <td>1716</td>\n",
       "      <td>-0.405740</td>\n",
       "      <td>M</td>\n",
       "      <td>1</td>\n",
       "      <td>0</td>\n",
       "      <td>0</td>\n",
       "      <td>...</td>\n",
       "      <td>0</td>\n",
       "      <td>0</td>\n",
       "      <td>0</td>\n",
       "      <td>0</td>\n",
       "      <td>0</td>\n",
       "      <td>0</td>\n",
       "      <td>0</td>\n",
       "      <td>0</td>\n",
       "      <td>0</td>\n",
       "      <td>0</td>\n",
       "    </tr>\n",
       "    <tr>\n",
       "      <th>4</th>\n",
       "      <td>4</td>\n",
       "      <td>-1.007650</td>\n",
       "      <td>-0.795643</td>\n",
       "      <td>-0.502892</td>\n",
       "      <td>1610</td>\n",
       "      <td>-0.442905</td>\n",
       "      <td>M</td>\n",
       "      <td>1</td>\n",
       "      <td>0</td>\n",
       "      <td>0</td>\n",
       "      <td>...</td>\n",
       "      <td>0</td>\n",
       "      <td>0</td>\n",
       "      <td>0</td>\n",
       "      <td>0</td>\n",
       "      <td>0</td>\n",
       "      <td>0</td>\n",
       "      <td>0</td>\n",
       "      <td>0</td>\n",
       "      <td>0</td>\n",
       "      <td>0</td>\n",
       "    </tr>\n",
       "  </tbody>\n",
       "</table>\n",
       "<p>5 rows × 26 columns</p>\n",
       "</div>"
      ],
      "text/plain": [
       "   index       age  MEDHINC_CY  WLTHINDXCY  time  TOTHH_CY fel_misd  sex_M  \\\n",
       "0      0 -1.007650   -0.795643   -0.502892  1610 -0.442905        M      1   \n",
       "1      1 -1.007650   -0.795643   -0.502892  1610 -0.442905        M      1   \n",
       "2      2 -0.759528   -0.788811   -0.373469  1716 -0.405740        M      1   \n",
       "3      3 -0.759528   -0.788811   -0.373469  1716 -0.405740        M      1   \n",
       "4      4 -1.007650   -0.795643   -0.502892  1610 -0.442905        M      1   \n",
       "\n",
       "   sex_U  day_1  ...  month_2  month_3  month_4  month_5  month_6  month_7  \\\n",
       "0      0      0  ...        0        0        0        0        0        0   \n",
       "1      0      0  ...        0        0        0        0        0        0   \n",
       "2      0      0  ...        0        0        0        0        0        0   \n",
       "3      0      0  ...        0        0        0        0        0        0   \n",
       "4      0      0  ...        0        0        0        0        0        0   \n",
       "\n",
       "   month_8  month_9  month_10  month_11  \n",
       "0        0        0         0         0  \n",
       "1        0        0         0         0  \n",
       "2        0        0         0         0  \n",
       "3        0        0         0         0  \n",
       "4        0        0         0         0  \n",
       "\n",
       "[5 rows x 26 columns]"
      ]
     },
     "execution_count": 18,
     "metadata": {},
     "output_type": "execute_result"
    }
   ],
   "source": [
    "df = pd.read_csv(\"./clean_data/fully_merged_data.csv\")\n",
    "df = df.dropna()\n",
    "\n",
    "# remove null values\n",
    "arr = df.index[df[\"fel_misd\"] == ' ']\n",
    "df = df.drop(arr, axis=0)\n",
    "arr = df.index[df[\"fel_misd\"] == '\\xa0']\n",
    "df = df.drop(arr, axis=0)\n",
    "\n",
    "from scipy.stats import zscore\n",
    "\n",
    "need_norm = [\"age\",\"MEDHINC_CY\", \"WLTHINDXCY\", \"TOTHH_CY\"]\n",
    "norm = df[need_norm].apply(zscore)\n",
    "\n",
    "df[need_norm] = norm\n",
    "\n",
    "df_pandas_encoded = pd.get_dummies(df, columns=['sex', 'day', 'month'], drop_first=True)\n",
    "df_pandas_encoded.head()"
   ]
  },
  {
   "cell_type": "code",
   "execution_count": 19,
   "id": "60235a8c",
   "metadata": {},
   "outputs": [
    {
     "data": {
      "image/png": "[encoded data removed]",
      "text/plain": [
       "<Figure size 640x480 with 2 Axes>"
      ]
     },
     "metadata": {},
     "output_type": "display_data"
    }
   ],
   "source": [
    "dataplot = sb.heatmap(df_pandas_encoded.corr(numeric_only=True), cmap='plasma')"
   ]
  },
  {
   "cell_type": "markdown",
   "id": "0666946a",
   "metadata": {},
   "source": [
    "- - - - - - - - - - - - - - - - - - -\n",
    "# 1. Imports\n",
    "## Relevent Modules:\n",
    "    - Pandas     - dataframe, data representation\n",
    "    - Numpy      - data manipulation, random generation\n",
    "    - Sklearn    - Regression models, data split, one-hot encoding, \n",
    "                   metrics, cross validation\n",
    "    - Matplotlib - Data visualization\n",
    "    - Seaborn    - Data visualization\n",
    "    - Random     - Shuffling data\n",
    "    - Scipy      - T-Test\n",
    "\n",
    "## Module Versions:\n",
    "    - Pandas:     '1.5.3'\n",
    "    - Numpy:      '1.24.3'\n",
    "    - Sklearn:    '1.3.0'\n",
    "    - Matplotlib: '3.7.1'\n",
    "    - Seaborn:    '0.12.2'\n",
    "    - Scipy:      '1.10.1'"
   ]
  },
  {
   "cell_type": "code",
   "execution_count": 20,
   "id": "77cd318b",
   "metadata": {},
   "outputs": [],
   "source": [
    "import numpy as np\n",
    "from sklearn import linear_model\n",
    "from sklearn.model_selection import train_test_split\n",
    "from sklearn.preprocessing import OneHotEncoder\n",
    "from random import shuffle\n",
    "\n",
    "from sklearn.metrics import confusion_matrix, classification_report\n",
    "from sklearn.model_selection import cross_val_score\n",
    "\n",
    "import matplotlib.pyplot as plt\n",
    "\n",
    "from scipy.stats import t"
   ]
  },
  {
   "cell_type": "markdown",
   "id": "1e4fa37a",
   "metadata": {},
   "source": [
    "- - - - - - - - - - - - - - - - - - -\n",
    "# 2. Data\n",
    " - Reads in the data from a cleaned file\n",
    " - Removes null lines and corrects empty class for 'fel_misd'\n",
    " - Normalizes the relevent columns\n",
    " - Remove the oversized and generate data for undersized classes:\n",
    "     - M: 46803 $\\to$ 2194\n",
    "     - F: 16407 $\\to$ 2194\n",
    "     - C: 2194  $\\to$ 2194\n",
    "     - S: 240   $\\to$  360\n",
    "     - P: 50    $\\to$   75\n",
    "     \n",
    "     - Note that the data generation is done using the distribution\n",
    "       of each of the inputs per each class. Since the inputs have\n",
    "       low correleation (see the correlation heatmap) the joint pdf\n",
    "       will be extremely close to the individual pdf for each input.\n",
    " - One hot encode the inputs"
   ]
  },
  {
   "cell_type": "markdown",
   "id": "dc292f1a",
   "metadata": {},
   "source": [
    "---\n",
    "## 2.1 Reading Data"
   ]
  },
  {
   "cell_type": "code",
   "execution_count": 21,
   "id": "fdbc07a7",
   "metadata": {},
   "outputs": [
    {
     "data": {
      "text/plain": [
       "(68078, 10)"
      ]
     },
     "execution_count": 21,
     "metadata": {},
     "output_type": "execute_result"
    }
   ],
   "source": [
    "df = pd.read_csv(\"./clean_data/fully_merged_data.csv\")\n",
    "df.shape"
   ]
  },
  {
   "cell_type": "code",
   "execution_count": 22,
   "id": "13c3e633",
   "metadata": {},
   "outputs": [
    {
     "data": {
      "text/plain": [
       "(67927, 10)"
      ]
     },
     "execution_count": 22,
     "metadata": {},
     "output_type": "execute_result"
    }
   ],
   "source": [
    "# delete empty values\n",
    "df = df.dropna()\n",
    "df.shape"
   ]
  },
  {
   "cell_type": "code",
   "execution_count": 23,
   "id": "17ea565e",
   "metadata": {},
   "outputs": [
    {
     "data": {
      "text/plain": [
       "(65694, 10)"
      ]
     },
     "execution_count": 23,
     "metadata": {},
     "output_type": "execute_result"
    }
   ],
   "source": [
    "# remove null values\n",
    "arr = df.index[df[\"fel_misd\"] == ' ']\n",
    "df = df.drop(arr, axis=0)\n",
    "arr = df.index[df[\"fel_misd\"] == '\\xa0']\n",
    "df = df.drop(arr, axis=0)\n",
    "df.shape"
   ]
  },
  {
   "cell_type": "markdown",
   "id": "28fde93a",
   "metadata": {},
   "source": [
    "---\n",
    "## 2.2 Normalizing data"
   ]
  },
  {
   "cell_type": "code",
   "execution_count": 24,
   "id": "10866368",
   "metadata": {},
   "outputs": [
    {
     "data": {
      "text/html": [
       "<div>\n",
       "<style scoped>\n",
       "    .dataframe tbody tr th:only-of-type {\n",
       "        vertical-align: middle;\n",
       "    }\n",
       "\n",
       "    .dataframe tbody tr th {\n",
       "        vertical-align: top;\n",
       "    }\n",
       "\n",
       "    .dataframe thead th {\n",
       "        text-align: right;\n",
       "    }\n",
       "</style>\n",
       "<table border=\"1\" class=\"dataframe\">\n",
       "  <thead>\n",
       "    <tr style=\"text-align: right;\">\n",
       "      <th></th>\n",
       "      <th>age</th>\n",
       "      <th>MEDHINC_CY</th>\n",
       "      <th>WLTHINDXCY</th>\n",
       "      <th>TOTHH_CY</th>\n",
       "    </tr>\n",
       "  </thead>\n",
       "  <tbody>\n",
       "    <tr>\n",
       "      <th>0</th>\n",
       "      <td>-1.007650</td>\n",
       "      <td>-0.795643</td>\n",
       "      <td>-0.502892</td>\n",
       "      <td>-0.442905</td>\n",
       "    </tr>\n",
       "    <tr>\n",
       "      <th>1</th>\n",
       "      <td>-1.007650</td>\n",
       "      <td>-0.795643</td>\n",
       "      <td>-0.502892</td>\n",
       "      <td>-0.442905</td>\n",
       "    </tr>\n",
       "    <tr>\n",
       "      <th>2</th>\n",
       "      <td>-0.759528</td>\n",
       "      <td>-0.788811</td>\n",
       "      <td>-0.373469</td>\n",
       "      <td>-0.405740</td>\n",
       "    </tr>\n",
       "    <tr>\n",
       "      <th>3</th>\n",
       "      <td>-0.759528</td>\n",
       "      <td>-0.788811</td>\n",
       "      <td>-0.373469</td>\n",
       "      <td>-0.405740</td>\n",
       "    </tr>\n",
       "    <tr>\n",
       "      <th>4</th>\n",
       "      <td>-1.007650</td>\n",
       "      <td>-0.795643</td>\n",
       "      <td>-0.502892</td>\n",
       "      <td>-0.442905</td>\n",
       "    </tr>\n",
       "  </tbody>\n",
       "</table>\n",
       "</div>"
      ],
      "text/plain": [
       "        age  MEDHINC_CY  WLTHINDXCY  TOTHH_CY\n",
       "0 -1.007650   -0.795643   -0.502892 -0.442905\n",
       "1 -1.007650   -0.795643   -0.502892 -0.442905\n",
       "2 -0.759528   -0.788811   -0.373469 -0.405740\n",
       "3 -0.759528   -0.788811   -0.373469 -0.405740\n",
       "4 -1.007650   -0.795643   -0.502892 -0.442905"
      ]
     },
     "execution_count": 24,
     "metadata": {},
     "output_type": "execute_result"
    }
   ],
   "source": [
    "# z-score normalize desired columns\n",
    "from scipy.stats import zscore\n",
    "\n",
    "need_norm = [\"age\",\"MEDHINC_CY\", \"WLTHINDXCY\", \"TOTHH_CY\"]\n",
    "norm = df[need_norm].apply(zscore)\n",
    "norm.head()"
   ]
  },
  {
   "cell_type": "code",
   "execution_count": 25,
   "id": "27409b55",
   "metadata": {},
   "outputs": [
    {
     "data": {
      "text/html": [
       "<div>\n",
       "<style scoped>\n",
       "    .dataframe tbody tr th:only-of-type {\n",
       "        vertical-align: middle;\n",
       "    }\n",
       "\n",
       "    .dataframe tbody tr th {\n",
       "        vertical-align: top;\n",
       "    }\n",
       "\n",
       "    .dataframe thead th {\n",
       "        text-align: right;\n",
       "    }\n",
       "</style>\n",
       "<table border=\"1\" class=\"dataframe\">\n",
       "  <thead>\n",
       "    <tr style=\"text-align: right;\">\n",
       "      <th></th>\n",
       "      <th>index</th>\n",
       "      <th>sex</th>\n",
       "      <th>age</th>\n",
       "      <th>day</th>\n",
       "      <th>month</th>\n",
       "      <th>MEDHINC_CY</th>\n",
       "      <th>WLTHINDXCY</th>\n",
       "      <th>time</th>\n",
       "      <th>TOTHH_CY</th>\n",
       "      <th>fel_misd</th>\n",
       "    </tr>\n",
       "  </thead>\n",
       "  <tbody>\n",
       "    <tr>\n",
       "      <th>0</th>\n",
       "      <td>0</td>\n",
       "      <td>M</td>\n",
       "      <td>-1.007650</td>\n",
       "      <td>4</td>\n",
       "      <td>0</td>\n",
       "      <td>-0.795643</td>\n",
       "      <td>-0.502892</td>\n",
       "      <td>1610</td>\n",
       "      <td>-0.442905</td>\n",
       "      <td>M</td>\n",
       "    </tr>\n",
       "    <tr>\n",
       "      <th>1</th>\n",
       "      <td>1</td>\n",
       "      <td>M</td>\n",
       "      <td>-1.007650</td>\n",
       "      <td>4</td>\n",
       "      <td>0</td>\n",
       "      <td>-0.795643</td>\n",
       "      <td>-0.502892</td>\n",
       "      <td>1610</td>\n",
       "      <td>-0.442905</td>\n",
       "      <td>M</td>\n",
       "    </tr>\n",
       "    <tr>\n",
       "      <th>2</th>\n",
       "      <td>2</td>\n",
       "      <td>M</td>\n",
       "      <td>-0.759528</td>\n",
       "      <td>5</td>\n",
       "      <td>0</td>\n",
       "      <td>-0.788811</td>\n",
       "      <td>-0.373469</td>\n",
       "      <td>1716</td>\n",
       "      <td>-0.405740</td>\n",
       "      <td>M</td>\n",
       "    </tr>\n",
       "    <tr>\n",
       "      <th>3</th>\n",
       "      <td>3</td>\n",
       "      <td>M</td>\n",
       "      <td>-0.759528</td>\n",
       "      <td>5</td>\n",
       "      <td>0</td>\n",
       "      <td>-0.788811</td>\n",
       "      <td>-0.373469</td>\n",
       "      <td>1716</td>\n",
       "      <td>-0.405740</td>\n",
       "      <td>M</td>\n",
       "    </tr>\n",
       "    <tr>\n",
       "      <th>4</th>\n",
       "      <td>4</td>\n",
       "      <td>M</td>\n",
       "      <td>-1.007650</td>\n",
       "      <td>4</td>\n",
       "      <td>0</td>\n",
       "      <td>-0.795643</td>\n",
       "      <td>-0.502892</td>\n",
       "      <td>1610</td>\n",
       "      <td>-0.442905</td>\n",
       "      <td>M</td>\n",
       "    </tr>\n",
       "  </tbody>\n",
       "</table>\n",
       "</div>"
      ],
      "text/plain": [
       "   index sex       age  day  month  MEDHINC_CY  WLTHINDXCY  time  TOTHH_CY  \\\n",
       "0      0   M -1.007650    4      0   -0.795643   -0.502892  1610 -0.442905   \n",
       "1      1   M -1.007650    4      0   -0.795643   -0.502892  1610 -0.442905   \n",
       "2      2   M -0.759528    5      0   -0.788811   -0.373469  1716 -0.405740   \n",
       "3      3   M -0.759528    5      0   -0.788811   -0.373469  1716 -0.405740   \n",
       "4      4   M -1.007650    4      0   -0.795643   -0.502892  1610 -0.442905   \n",
       "\n",
       "  fel_misd  \n",
       "0        M  \n",
       "1        M  \n",
       "2        M  \n",
       "3        M  \n",
       "4        M  "
      ]
     },
     "execution_count": 25,
     "metadata": {},
     "output_type": "execute_result"
    }
   ],
   "source": [
    "df[need_norm] = norm\n",
    "df.head()"
   ]
  },
  {
   "cell_type": "markdown",
   "id": "f794c8f7",
   "metadata": {},
   "source": [
    "---\n",
    "## 2.3 Over and under-sized classes"
   ]
  },
  {
   "cell_type": "code",
   "execution_count": 26,
   "id": "0c8117a0",
   "metadata": {},
   "outputs": [
    {
     "data": {
      "text/plain": [
       "M    46803\n",
       "F    16407\n",
       "C     2194\n",
       "S      240\n",
       "P       50\n",
       "Name: fel_misd, dtype: int64"
      ]
     },
     "execution_count": 26,
     "metadata": {},
     "output_type": "execute_result"
    }
   ],
   "source": [
    "df[\"fel_misd\"].value_counts()"
   ]
  },
  {
   "cell_type": "markdown",
   "id": "83c6642e",
   "metadata": {},
   "source": [
    "---\n",
    "### 2.3.1 Drop random points from oversized data"
   ]
  },
  {
   "cell_type": "code",
   "execution_count": 27,
   "id": "4eb2e60e",
   "metadata": {},
   "outputs": [
    {
     "data": {
      "text/plain": [
       "C    2194\n",
       "M    2194\n",
       "F    2194\n",
       "S     240\n",
       "P      50\n",
       "Name: fel_misd, dtype: int64"
      ]
     },
     "execution_count": 27,
     "metadata": {},
     "output_type": "execute_result"
    }
   ],
   "source": [
    "m_arr = df.index[df[\"fel_misd\"] == 'M'].tolist()\n",
    "shuffle(m_arr)\n",
    "\n",
    "\n",
    "df = df.drop(m_arr[0:len(m_arr)-2194], axis = 0)\n",
    "\n",
    "\n",
    "s_arr = df.index[df[\"fel_misd\"] == 'S'].tolist()\n",
    "p_arr = df.index[df[\"fel_misd\"] == 'P'].tolist()\n",
    "\n",
    "f_arr = df.index[df[\"fel_misd\"] == 'F'].tolist()\n",
    "shuffle(f_arr)\n",
    "df = df.drop(f_arr[0:len(f_arr)-2194], axis = 0)\n",
    "\n",
    "df['fel_misd'].value_counts()"
   ]
  },
  {
   "cell_type": "markdown",
   "id": "edc7ac65",
   "metadata": {},
   "source": [
    "---\n",
    "### 2.3.2 Statistical Generation for Undersized Classes"
   ]
  },
  {
   "cell_type": "code",
   "execution_count": 28,
   "id": "b91f83db",
   "metadata": {},
   "outputs": [
    {
     "data": {
      "text/plain": [
       "C    2194\n",
       "M    2194\n",
       "F    2194\n",
       "S     360\n",
       "P      75\n",
       "Name: fel_misd, dtype: int64"
      ]
     },
     "execution_count": 28,
     "metadata": {},
     "output_type": "execute_result"
    }
   ],
   "source": [
    "def gen_rand_df(temp_df,samples=1):\n",
    "    ''' \n",
    "    Assume that temp_df is only populated with same fel_misd class and no one-hot \n",
    "    encoding\n",
    "    Age, MEDHINC_CY, WLTHINDXCY, time_arr, TOTHH_CY should be normalized prior\n",
    "    to calling this function \n",
    "    '''\n",
    "\n",
    "    # Dictionary to put into data frame\n",
    "    d = {}\n",
    "    \n",
    "    # Find the pdf for the 'sex' input\n",
    "    choices = temp_df['sex'].value_counts().index.to_list()\n",
    "    v_c = temp_df['sex'].value_counts()\n",
    "    probs = v_c/sum(v_c)\n",
    "    \n",
    "    # Update the dictionary at 'sex' to data generated from pdf\n",
    "    d['sex'] = np.random.choice(choices, p=probs, size=samples)\n",
    "    \n",
    "    # Repeat...\n",
    "    choices = temp_df['day'].value_counts().index.to_list()\n",
    "    v_c = temp_df['day'].value_counts()\n",
    "    probs = v_c/sum(v_c)    \n",
    "    d['day'] = np.random.choice(choices, p=probs,size=samples)\n",
    "    \n",
    "    choices = temp_df['month'].value_counts().index.to_list()\n",
    "    v_c = temp_df['month'].value_counts()\n",
    "    probs = v_c/sum(v_c)    \n",
    "    d['month'] = np.random.choice(choices, p=probs, size=samples)\n",
    "    \n",
    "    x = np.random.standard_t(len(temp_df)-1,size=(5,samples)) # df = amt_samples - 1\n",
    "    d['age'] = x[0]\n",
    "    d['MEDHINC_CY'] = x[1]\n",
    "    d['WLTHINDXCY'] = x[2]\n",
    "    d['time'] = x[3]\n",
    "    d['TOTHH_CY'] = x[4]\n",
    "    d['fel_misd'] = [temp_df['fel_misd'].to_list()[0] for i in range(samples)]\n",
    "    \n",
    "    df_return = pd.DataFrame.from_dict(d)\n",
    "\n",
    "    \n",
    "    return df_return\n",
    "\n",
    "# Increase the undersized class by 50%\n",
    "\n",
    "s_amt = (int) (0.5*240)  \n",
    "p_amt = (int) (0.5*50)    \n",
    "inp = df[df['fel_misd'] == 'S']\n",
    "s_temp = gen_rand_df(inp,s_amt)\n",
    "\n",
    "inp = df[df['fel_misd'] == 'P']\n",
    "p_temp = gen_rand_df(inp,p_amt)\n",
    "\n",
    "df = pd.concat([df,s_temp,p_temp])\n",
    "df['fel_misd'].value_counts()"
   ]
  },
  {
   "cell_type": "markdown",
   "id": "31d04227",
   "metadata": {},
   "source": [
    "---\n",
    "## 2.4 One-Hot Encoding"
   ]
  },
  {
   "cell_type": "code",
   "execution_count": 29,
   "id": "1ac9b352",
   "metadata": {},
   "outputs": [
    {
     "data": {
      "text/html": [
       "<div>\n",
       "<style scoped>\n",
       "    .dataframe tbody tr th:only-of-type {\n",
       "        vertical-align: middle;\n",
       "    }\n",
       "\n",
       "    .dataframe tbody tr th {\n",
       "        vertical-align: top;\n",
       "    }\n",
       "\n",
       "    .dataframe thead th {\n",
       "        text-align: right;\n",
       "    }\n",
       "</style>\n",
       "<table border=\"1\" class=\"dataframe\">\n",
       "  <thead>\n",
       "    <tr style=\"text-align: right;\">\n",
       "      <th></th>\n",
       "      <th>age</th>\n",
       "      <th>MEDHINC_CY</th>\n",
       "      <th>time</th>\n",
       "      <th>TOTHH_CY</th>\n",
       "      <th>fel_misd</th>\n",
       "      <th>sex_M</th>\n",
       "      <th>sex_U</th>\n",
       "      <th>day_1</th>\n",
       "      <th>day_2</th>\n",
       "      <th>day_3</th>\n",
       "      <th>...</th>\n",
       "      <th>month_2</th>\n",
       "      <th>month_3</th>\n",
       "      <th>month_4</th>\n",
       "      <th>month_5</th>\n",
       "      <th>month_6</th>\n",
       "      <th>month_7</th>\n",
       "      <th>month_8</th>\n",
       "      <th>month_9</th>\n",
       "      <th>month_10</th>\n",
       "      <th>month_11</th>\n",
       "    </tr>\n",
       "  </thead>\n",
       "  <tbody>\n",
       "    <tr>\n",
       "      <th>7</th>\n",
       "      <td>-0.759528</td>\n",
       "      <td>-0.788811</td>\n",
       "      <td>1716.0</td>\n",
       "      <td>-0.405740</td>\n",
       "      <td>C</td>\n",
       "      <td>1</td>\n",
       "      <td>0</td>\n",
       "      <td>0</td>\n",
       "      <td>0</td>\n",
       "      <td>0</td>\n",
       "      <td>...</td>\n",
       "      <td>0</td>\n",
       "      <td>0</td>\n",
       "      <td>0</td>\n",
       "      <td>0</td>\n",
       "      <td>0</td>\n",
       "      <td>0</td>\n",
       "      <td>0</td>\n",
       "      <td>0</td>\n",
       "      <td>0</td>\n",
       "      <td>0</td>\n",
       "    </tr>\n",
       "    <tr>\n",
       "      <th>35</th>\n",
       "      <td>-1.586601</td>\n",
       "      <td>-1.455490</td>\n",
       "      <td>2144.0</td>\n",
       "      <td>-0.874763</td>\n",
       "      <td>M</td>\n",
       "      <td>1</td>\n",
       "      <td>0</td>\n",
       "      <td>0</td>\n",
       "      <td>0</td>\n",
       "      <td>0</td>\n",
       "      <td>...</td>\n",
       "      <td>0</td>\n",
       "      <td>0</td>\n",
       "      <td>0</td>\n",
       "      <td>0</td>\n",
       "      <td>0</td>\n",
       "      <td>0</td>\n",
       "      <td>0</td>\n",
       "      <td>0</td>\n",
       "      <td>0</td>\n",
       "      <td>0</td>\n",
       "    </tr>\n",
       "    <tr>\n",
       "      <th>51</th>\n",
       "      <td>-0.511406</td>\n",
       "      <td>-0.009893</td>\n",
       "      <td>2143.0</td>\n",
       "      <td>-1.133433</td>\n",
       "      <td>M</td>\n",
       "      <td>1</td>\n",
       "      <td>0</td>\n",
       "      <td>0</td>\n",
       "      <td>0</td>\n",
       "      <td>0</td>\n",
       "      <td>...</td>\n",
       "      <td>0</td>\n",
       "      <td>0</td>\n",
       "      <td>0</td>\n",
       "      <td>0</td>\n",
       "      <td>0</td>\n",
       "      <td>0</td>\n",
       "      <td>0</td>\n",
       "      <td>0</td>\n",
       "      <td>0</td>\n",
       "      <td>0</td>\n",
       "    </tr>\n",
       "    <tr>\n",
       "      <th>68</th>\n",
       "      <td>0.481082</td>\n",
       "      <td>-0.448339</td>\n",
       "      <td>923.0</td>\n",
       "      <td>0.009023</td>\n",
       "      <td>F</td>\n",
       "      <td>1</td>\n",
       "      <td>0</td>\n",
       "      <td>0</td>\n",
       "      <td>0</td>\n",
       "      <td>0</td>\n",
       "      <td>...</td>\n",
       "      <td>0</td>\n",
       "      <td>0</td>\n",
       "      <td>0</td>\n",
       "      <td>0</td>\n",
       "      <td>0</td>\n",
       "      <td>0</td>\n",
       "      <td>0</td>\n",
       "      <td>0</td>\n",
       "      <td>0</td>\n",
       "      <td>0</td>\n",
       "    </tr>\n",
       "    <tr>\n",
       "      <th>75</th>\n",
       "      <td>0.481082</td>\n",
       "      <td>-0.448339</td>\n",
       "      <td>923.0</td>\n",
       "      <td>0.009023</td>\n",
       "      <td>F</td>\n",
       "      <td>1</td>\n",
       "      <td>0</td>\n",
       "      <td>0</td>\n",
       "      <td>0</td>\n",
       "      <td>0</td>\n",
       "      <td>...</td>\n",
       "      <td>0</td>\n",
       "      <td>0</td>\n",
       "      <td>0</td>\n",
       "      <td>0</td>\n",
       "      <td>0</td>\n",
       "      <td>0</td>\n",
       "      <td>0</td>\n",
       "      <td>0</td>\n",
       "      <td>0</td>\n",
       "      <td>0</td>\n",
       "    </tr>\n",
       "  </tbody>\n",
       "</table>\n",
       "<p>5 rows × 24 columns</p>\n",
       "</div>"
      ],
      "text/plain": [
       "         age  MEDHINC_CY    time  TOTHH_CY fel_misd  sex_M  sex_U  day_1  \\\n",
       "7  -0.759528   -0.788811  1716.0 -0.405740        C      1      0      0   \n",
       "35 -1.586601   -1.455490  2144.0 -0.874763        M      1      0      0   \n",
       "51 -0.511406   -0.009893  2143.0 -1.133433        M      1      0      0   \n",
       "68  0.481082   -0.448339   923.0  0.009023        F      1      0      0   \n",
       "75  0.481082   -0.448339   923.0  0.009023        F      1      0      0   \n",
       "\n",
       "    day_2  day_3  ...  month_2  month_3  month_4  month_5  month_6  month_7  \\\n",
       "7       0      0  ...        0        0        0        0        0        0   \n",
       "35      0      0  ...        0        0        0        0        0        0   \n",
       "51      0      0  ...        0        0        0        0        0        0   \n",
       "68      0      0  ...        0        0        0        0        0        0   \n",
       "75      0      0  ...        0        0        0        0        0        0   \n",
       "\n",
       "    month_8  month_9  month_10  month_11  \n",
       "7         0        0         0         0  \n",
       "35        0        0         0         0  \n",
       "51        0        0         0         0  \n",
       "68        0        0         0         0  \n",
       "75        0        0         0         0  \n",
       "\n",
       "[5 rows x 24 columns]"
      ]
     },
     "execution_count": 29,
     "metadata": {},
     "output_type": "execute_result"
    }
   ],
   "source": [
    "df_pandas_encoded = pd.get_dummies(df, columns=['sex', 'day', 'month'], drop_first=True)\n",
    "df_pandas_encoded = df_pandas_encoded.drop(\"WLTHINDXCY\", axis=1)\n",
    "df_pandas_encoded = df_pandas_encoded.drop(\"index\", axis=1)\n",
    "df_pandas_encoded.dropna()\n",
    "df_pandas_encoded.head()"
   ]
  },
  {
   "cell_type": "markdown",
   "id": "b4b3927c",
   "metadata": {},
   "source": [
    "- - - - - - - - - - - - - - - - - - -\n",
    "# 3. Pre-Training\n",
    "- Find the train and test sets (0.8 train split)\n",
    "- Find all the combinations of the inputs\n",
    "- Perform 5-fold cross validation for each combination"
   ]
  },
  {
   "cell_type": "markdown",
   "id": "56ace448",
   "metadata": {},
   "source": [
    "---\n",
    "## 3.1 Find the Input and Output names"
   ]
  },
  {
   "cell_type": "code",
   "execution_count": 30,
   "id": "ef65e17a",
   "metadata": {},
   "outputs": [
    {
     "data": {
      "text/plain": [
       "(['age',\n",
       "  'MEDHINC_CY',\n",
       "  'time',\n",
       "  'TOTHH_CY',\n",
       "  'sex_M',\n",
       "  'sex_U',\n",
       "  'day_1',\n",
       "  'day_2',\n",
       "  'day_3',\n",
       "  'day_4',\n",
       "  'day_5',\n",
       "  'day_6',\n",
       "  'month_1',\n",
       "  'month_2',\n",
       "  'month_3',\n",
       "  'month_4',\n",
       "  'month_5',\n",
       "  'month_6',\n",
       "  'month_7',\n",
       "  'month_8',\n",
       "  'month_9',\n",
       "  'month_10',\n",
       "  'month_11'],\n",
       " ['fel_misd'])"
      ]
     },
     "execution_count": 30,
     "metadata": {},
     "output_type": "execute_result"
    }
   ],
   "source": [
    "inp = list(df_pandas_encoded.columns)\n",
    "oup = [\"fel_misd\"]\n",
    "for x in oup:\n",
    "    inp.remove(x)\n",
    "inp, oup"
   ]
  },
  {
   "cell_type": "markdown",
   "id": "34a3cb75",
   "metadata": {},
   "source": [
    "---\n",
    "## 3.2 Split Train and Test Data"
   ]
  },
  {
   "cell_type": "code",
   "execution_count": 31,
   "id": "ff11304c",
   "metadata": {},
   "outputs": [],
   "source": [
    "x,y = df_pandas_encoded[inp], df_pandas_encoded[oup]\n",
    "x_train, x_test, y_train, y_test = train_test_split(x,y, train_size=0.8, test_size=0.2, shuffle=True)"
   ]
  },
  {
   "cell_type": "markdown",
   "id": "c9093fb3",
   "metadata": {},
   "source": [
    "---\n",
    "## 3.3 Find Combinations"
   ]
  },
  {
   "cell_type": "code",
   "execution_count": 32,
   "id": "e83dfa4a",
   "metadata": {},
   "outputs": [],
   "source": [
    "import itertools\n",
    "items = ['MEDHINC_CY','age','sex_M', 'day', 'month']\n",
    "combs = []\n",
    "for i in range(1, len(items)):\n",
    "    combs.append(list(set(itertools.combinations(items, i))))"
   ]
  },
  {
   "cell_type": "code",
   "execution_count": 33,
   "id": "a908adf4",
   "metadata": {},
   "outputs": [
    {
     "data": {
      "text/plain": [
       "{'features': ['MEDHINC_CY',\n",
       "  'age',\n",
       "  'sex_M',\n",
       "  'day_1',\n",
       "  'day_2',\n",
       "  'day_3',\n",
       "  'day_4',\n",
       "  'day_5',\n",
       "  'day_6'],\n",
       " 'score': 0.3853513395967956}"
      ]
     },
     "execution_count": 33,
     "metadata": {},
     "output_type": "execute_result"
    }
   ],
   "source": [
    "day_vals = ['day_1',\n",
    "          'day_2',\n",
    "          'day_3',\n",
    "          'day_4',\n",
    "          'day_5',\n",
    "          'day_6']\n",
    "\n",
    "month_vals = ['month_1',\n",
    "              'month_2',\n",
    "              'month_3',\n",
    "              'month_4',\n",
    "              'month_5',\n",
    "              'month_6',\n",
    "              'month_7',\n",
    "              'month_8',\n",
    "              'month_9',\n",
    "              'month_10',\n",
    "              'month_11']\n",
    "\n",
    "best_dict = {\"features\": [], \"score\": -2**31}\n",
    "for k_amt in combs:\n",
    "    for ind_comb in k_amt:\n",
    "        comb = list(ind_comb)\n",
    "        if 'day' in comb:\n",
    "            comb.remove('day')\n",
    "            comb += day_vals\n",
    "        if 'month' in comb:\n",
    "            comb.remove('month')\n",
    "            comb += month_vals\n",
    "\n",
    "        \n",
    "        x_subset = x_train[comb].values\n",
    "        cvs = cross_val_score(linear_model.LogisticRegression(multi_class='ovr'), x_subset, y_train)\n",
    "        \n",
    "        if cvs.mean() > best_dict[\"score\"]:\n",
    "            best_dict[\"features\"] = comb\n",
    "            best_dict[\"score\"] = cvs.mean()\n",
    "best_dict"
   ]
  },
  {
   "cell_type": "markdown",
   "id": "791284b7",
   "metadata": {},
   "source": [
    "-------\n",
    "# 4. Training Logistic Model\n",
    "- Train a 5-class logistic regression using one-vs-rest classification\n",
    "    - Use the best features calculated in cross validation\n",
    "- Fit the train data\n",
    "- Find the predicted data for the test set and show the accuracy\n",
    "- Visualize and show the confusion matrix using heatmap\n",
    "- Show the classification report\n",
    "- Show the weights for each input and model\n",
    "    - Both tabular and heatmap"
   ]
  },
  {
   "cell_type": "markdown",
   "id": "7a083725",
   "metadata": {},
   "source": [
    "---\n",
    "## 4.1 Training"
   ]
  },
  {
   "cell_type": "code",
   "execution_count": 34,
   "id": "cb748acc",
   "metadata": {},
   "outputs": [],
   "source": [
    "log_r = linear_model.LogisticRegression(penalty='l2', multi_class=\"ovr\")"
   ]
  },
  {
   "cell_type": "code",
   "execution_count": 35,
   "id": "ceeac175",
   "metadata": {},
   "outputs": [
    {
     "data": {
      "text/plain": [
       "['MEDHINC_CY',\n",
       " 'age',\n",
       " 'sex_M',\n",
       " 'day_1',\n",
       " 'day_2',\n",
       " 'day_3',\n",
       " 'day_4',\n",
       " 'day_5',\n",
       " 'day_6']"
      ]
     },
     "execution_count": 35,
     "metadata": {},
     "output_type": "execute_result"
    }
   ],
   "source": [
    "best_dict[\"features\"]"
   ]
  },
  {
   "cell_type": "code",
   "execution_count": 36,
   "id": "44aaea70",
   "metadata": {},
   "outputs": [
    {
     "data": {
      "text/html": [
       "<style>#sk-container-id-1 {color: black;}#sk-container-id-1 pre{padding: 0;}#sk-container-id-1 div.sk-toggleable {background-color: white;}#sk-container-id-1 label.sk-toggleable__label {cursor: pointer;display: block;width: 100%;margin-bottom: 0;padding: 0.3em;box-sizing: border-box;text-align: center;}#sk-container-id-1 label.sk-toggleable__label-arrow:before {content: \"▸\";float: left;margin-right: 0.25em;color: #696969;}#sk-container-id-1 label.sk-toggleable__label-arrow:hover:before {color: black;}#sk-container-id-1 div.sk-estimator:hover label.sk-toggleable__label-arrow:before {color: black;}#sk-container-id-1 div.sk-toggleable__content {max-height: 0;max-width: 0;overflow: hidden;text-align: left;background-color: #f0f8ff;}#sk-container-id-1 div.sk-toggleable__content pre {margin: 0.2em;color: black;border-radius: 0.25em;background-color: #f0f8ff;}#sk-container-id-1 input.sk-toggleable__control:checked~div.sk-toggleable__content {max-height: 200px;max-width: 100%;overflow: auto;}#sk-container-id-1 input.sk-toggleable__control:checked~label.sk-toggleable__label-arrow:before {content: \"▾\";}#sk-container-id-1 div.sk-estimator input.sk-toggleable__control:checked~label.sk-toggleable__label {background-color: #d4ebff;}#sk-container-id-1 div.sk-label input.sk-toggleable__control:checked~label.sk-toggleable__label {background-color: #d4ebff;}#sk-container-id-1 input.sk-hidden--visually {border: 0;clip: rect(1px 1px 1px 1px);clip: rect(1px, 1px, 1px, 1px);height: 1px;margin: -1px;overflow: hidden;padding: 0;position: absolute;width: 1px;}#sk-container-id-1 div.sk-estimator {font-family: monospace;background-color: #f0f8ff;border: 1px dotted black;border-radius: 0.25em;box-sizing: border-box;margin-bottom: 0.5em;}#sk-container-id-1 div.sk-estimator:hover {background-color: #d4ebff;}#sk-container-id-1 div.sk-parallel-item::after {content: \"\";width: 100%;border-bottom: 1px solid gray;flex-grow: 1;}#sk-container-id-1 div.sk-label:hover label.sk-toggleable__label {background-color: #d4ebff;}#sk-container-id-1 div.sk-serial::before {content: \"\";position: absolute;border-left: 1px solid gray;box-sizing: border-box;top: 0;bottom: 0;left: 50%;z-index: 0;}#sk-container-id-1 div.sk-serial {display: flex;flex-direction: column;align-items: center;background-color: white;padding-right: 0.2em;padding-left: 0.2em;position: relative;}#sk-container-id-1 div.sk-item {position: relative;z-index: 1;}#sk-container-id-1 div.sk-parallel {display: flex;align-items: stretch;justify-content: center;background-color: white;position: relative;}#sk-container-id-1 div.sk-item::before, #sk-container-id-1 div.sk-parallel-item::before {content: \"\";position: absolute;border-left: 1px solid gray;box-sizing: border-box;top: 0;bottom: 0;left: 50%;z-index: -1;}#sk-container-id-1 div.sk-parallel-item {display: flex;flex-direction: column;z-index: 1;position: relative;background-color: white;}#sk-container-id-1 div.sk-parallel-item:first-child::after {align-self: flex-end;width: 50%;}#sk-container-id-1 div.sk-parallel-item:last-child::after {align-self: flex-start;width: 50%;}#sk-container-id-1 div.sk-parallel-item:only-child::after {width: 0;}#sk-container-id-1 div.sk-dashed-wrapped {border: 1px dashed gray;margin: 0 0.4em 0.5em 0.4em;box-sizing: border-box;padding-bottom: 0.4em;background-color: white;}#sk-container-id-1 div.sk-label label {font-family: monospace;font-weight: bold;display: inline-block;line-height: 1.2em;}#sk-container-id-1 div.sk-label-container {text-align: center;}#sk-container-id-1 div.sk-container {/* jupyter's `normalize.less` sets `[hidden] { display: none; }` but bootstrap.min.css set `[hidden] { display: none !important; }` so we also need the `!important` here to be able to override the default hidden behavior on the sphinx rendered scikit-learn.org. See: https://github.com/scikit-learn/scikit-learn/issues/21755 */display: inline-block !important;position: relative;}#sk-container-id-1 div.sk-text-repr-fallback {display: none;}</style><div id=\"sk-container-id-1\" class=\"sk-top-container\"><div class=\"sk-text-repr-fallback\"><pre>LogisticRegression(multi_class=&#x27;ovr&#x27;)</pre><b>In a Jupyter environment, please rerun this cell to show the HTML representation or trust the notebook. <br />On GitHub, the HTML representation is unable to render, please try loading this page with nbviewer.org.</b></div><div class=\"sk-container\" hidden><div class=\"sk-item\"><div class=\"sk-estimator sk-toggleable\"><input class=\"sk-toggleable__control sk-hidden--visually\" id=\"sk-estimator-id-1\" type=\"checkbox\" checked><label for=\"sk-estimator-id-1\" class=\"sk-toggleable__label sk-toggleable__label-arrow\">LogisticRegression</label><div class=\"sk-toggleable__content\"><pre>LogisticRegression(multi_class=&#x27;ovr&#x27;)</pre></div></div></div></div></div>"
      ],
      "text/plain": [
       "LogisticRegression(multi_class='ovr')"
      ]
     },
     "execution_count": 36,
     "metadata": {},
     "output_type": "execute_result"
    }
   ],
   "source": [
    "x_train = x_train[best_dict[\"features\"]]\n",
    "x_test = x_test[best_dict[\"features\"]]\n",
    "\n",
    "log_r.fit(x_train, y_train)"
   ]
  },
  {
   "cell_type": "markdown",
   "id": "32c1fcbc",
   "metadata": {},
   "source": [
    "---\n",
    "## 4.2 Analysis\n",
    "---\n",
    "### 4.2.1 Accuracy"
   ]
  },
  {
   "cell_type": "code",
   "execution_count": 37,
   "id": "17438081",
   "metadata": {},
   "outputs": [
    {
     "name": "stdout",
     "output_type": "stream",
     "text": [
      "Accuracy train: 0.38980937110279706\n",
      "Accuracy Test: 0.36894586894586895\n"
     ]
    }
   ],
   "source": [
    "y_pred = log_r.predict(x_test)\n",
    "print(f\"Accuracy train: {log_r.score(x_train,y_train)}\")\n",
    "print(f\"Accuracy Test: {log_r.score(x_test,y_test)}\")"
   ]
  },
  {
   "cell_type": "markdown",
   "id": "da591921",
   "metadata": {},
   "source": [
    "---\n",
    "### 4.2.2 Confusion Matrix"
   ]
  },
  {
   "cell_type": "code",
   "execution_count": 38,
   "id": "91840c46",
   "metadata": {},
   "outputs": [
    {
     "data": {
      "image/png": "[encoded data removed]",
      "text/plain": [
       "<Figure size 640x480 with 2 Axes>"
      ]
     },
     "metadata": {},
     "output_type": "display_data"
    }
   ],
   "source": [
    "temp = np.arange(0.5,5,1)\n",
    "cm = confusion_matrix(y_test, y_pred)\n",
    "sb.heatmap(cm, annot=True, fmt='d', cmap='Blues')\n",
    "plt.xticks(temp, labels=log_r.classes_)\n",
    "plt.yticks(temp, labels=log_r.classes_)\n",
    "\n",
    "plt.xlabel('Predicted')\n",
    "plt.ylabel('True')\n",
    "plt.title(\"Confusion Matrix Heatmap\")\n",
    "plt.show()"
   ]
  },
  {
   "cell_type": "code",
   "execution_count": 39,
   "id": "488d16dc",
   "metadata": {},
   "outputs": [
    {
     "data": {
      "text/plain": [
       "array([[167, 166, 119,   0,   0],\n",
       "       [ 96, 220, 117,   0,   1],\n",
       "       [126, 169, 131,   0,   1],\n",
       "       [  9,   6,   3,   0,   0],\n",
       "       [ 26,  30,  17,   0,   0]])"
      ]
     },
     "execution_count": 39,
     "metadata": {},
     "output_type": "execute_result"
    }
   ],
   "source": [
    "cm"
   ]
  },
  {
   "cell_type": "markdown",
   "id": "b73cb536",
   "metadata": {},
   "source": [
    "---\n",
    "### 4.2.3 Classification Report"
   ]
  },
  {
   "cell_type": "code",
   "execution_count": 40,
   "id": "f49cc909",
   "metadata": {},
   "outputs": [
    {
     "name": "stdout",
     "output_type": "stream",
     "text": [
      "              precision    recall  f1-score   support\n",
      "\n",
      "           C       0.39      0.37      0.38       452\n",
      "           F       0.37      0.51      0.43       434\n",
      "           M       0.34      0.31      0.32       427\n",
      "           P       0.00      0.00      0.00        18\n",
      "           S       0.00      0.00      0.00        73\n",
      "\n",
      "    accuracy                           0.37      1404\n",
      "   macro avg       0.22      0.24      0.23      1404\n",
      "weighted avg       0.34      0.37      0.35      1404\n",
      "\n"
     ]
    }
   ],
   "source": [
    "print(classification_report(y_test, y_pred))"
   ]
  },
  {
   "cell_type": "markdown",
   "id": "f33e9a92",
   "metadata": {},
   "source": [
    "---\n",
    "### 4.2.4 Coefficient Weights"
   ]
  },
  {
   "cell_type": "code",
   "execution_count": 41,
   "id": "59f244b7",
   "metadata": {},
   "outputs": [
    {
     "data": {
      "text/html": [
       "<div>\n",
       "<style scoped>\n",
       "    .dataframe tbody tr th:only-of-type {\n",
       "        vertical-align: middle;\n",
       "    }\n",
       "\n",
       "    .dataframe tbody tr th {\n",
       "        vertical-align: top;\n",
       "    }\n",
       "\n",
       "    .dataframe thead th {\n",
       "        text-align: right;\n",
       "    }\n",
       "</style>\n",
       "<table border=\"1\" class=\"dataframe\">\n",
       "  <thead>\n",
       "    <tr style=\"text-align: right;\">\n",
       "      <th></th>\n",
       "      <th>MEDHINC_CY</th>\n",
       "      <th>age</th>\n",
       "      <th>sex_M</th>\n",
       "      <th>day_1</th>\n",
       "      <th>day_2</th>\n",
       "      <th>day_3</th>\n",
       "      <th>day_4</th>\n",
       "      <th>day_5</th>\n",
       "      <th>day_6</th>\n",
       "    </tr>\n",
       "  </thead>\n",
       "  <tbody>\n",
       "    <tr>\n",
       "      <th>C</th>\n",
       "      <td>0.214741</td>\n",
       "      <td>-0.001827</td>\n",
       "      <td>-0.039218</td>\n",
       "      <td>-0.319444</td>\n",
       "      <td>-0.368545</td>\n",
       "      <td>-0.399883</td>\n",
       "      <td>-0.421232</td>\n",
       "      <td>-0.359391</td>\n",
       "      <td>0.127716</td>\n",
       "    </tr>\n",
       "    <tr>\n",
       "      <th>F</th>\n",
       "      <td>-0.127671</td>\n",
       "      <td>-0.028463</td>\n",
       "      <td>0.580149</td>\n",
       "      <td>0.223906</td>\n",
       "      <td>0.284450</td>\n",
       "      <td>0.594454</td>\n",
       "      <td>0.571762</td>\n",
       "      <td>0.415394</td>\n",
       "      <td>-0.020789</td>\n",
       "    </tr>\n",
       "    <tr>\n",
       "      <th>M</th>\n",
       "      <td>-0.090709</td>\n",
       "      <td>0.189758</td>\n",
       "      <td>-0.310284</td>\n",
       "      <td>-0.000649</td>\n",
       "      <td>-0.059013</td>\n",
       "      <td>-0.268305</td>\n",
       "      <td>-0.121643</td>\n",
       "      <td>-0.094852</td>\n",
       "      <td>-0.203685</td>\n",
       "    </tr>\n",
       "    <tr>\n",
       "      <th>P</th>\n",
       "      <td>0.079541</td>\n",
       "      <td>-0.334346</td>\n",
       "      <td>0.477331</td>\n",
       "      <td>-0.475541</td>\n",
       "      <td>-0.397658</td>\n",
       "      <td>0.224378</td>\n",
       "      <td>-0.068385</td>\n",
       "      <td>-0.353788</td>\n",
       "      <td>-0.527297</td>\n",
       "    </tr>\n",
       "    <tr>\n",
       "      <th>S</th>\n",
       "      <td>-0.103146</td>\n",
       "      <td>-0.977460</td>\n",
       "      <td>-0.771002</td>\n",
       "      <td>0.669826</td>\n",
       "      <td>0.781746</td>\n",
       "      <td>0.296862</td>\n",
       "      <td>-0.158507</td>\n",
       "      <td>0.415343</td>\n",
       "      <td>0.508110</td>\n",
       "    </tr>\n",
       "  </tbody>\n",
       "</table>\n",
       "</div>"
      ],
      "text/plain": [
       "   MEDHINC_CY       age     sex_M     day_1     day_2     day_3     day_4  \\\n",
       "C    0.214741 -0.001827 -0.039218 -0.319444 -0.368545 -0.399883 -0.421232   \n",
       "F   -0.127671 -0.028463  0.580149  0.223906  0.284450  0.594454  0.571762   \n",
       "M   -0.090709  0.189758 -0.310284 -0.000649 -0.059013 -0.268305 -0.121643   \n",
       "P    0.079541 -0.334346  0.477331 -0.475541 -0.397658  0.224378 -0.068385   \n",
       "S   -0.103146 -0.977460 -0.771002  0.669826  0.781746  0.296862 -0.158507   \n",
       "\n",
       "      day_5     day_6  \n",
       "C -0.359391  0.127716  \n",
       "F  0.415394 -0.020789  \n",
       "M -0.094852 -0.203685  \n",
       "P -0.353788 -0.527297  \n",
       "S  0.415343  0.508110  "
      ]
     },
     "execution_count": 41,
     "metadata": {},
     "output_type": "execute_result"
    }
   ],
   "source": [
    "df = pd.DataFrame(log_r.coef_, columns=log_r.feature_names_in_)\n",
    "df = df.set_index(log_r.classes_)\n",
    "df"
   ]
  },
  {
   "cell_type": "code",
   "execution_count": 42,
   "id": "9e84c7cb",
   "metadata": {},
   "outputs": [
    {
     "data": {
      "image/png": "[encoded data removed]",
      "text/plain": [
       "<Figure size 640x480 with 2 Axes>"
      ]
     },
     "metadata": {},
     "output_type": "display_data"
    }
   ],
   "source": [
    "sb.heatmap(df.T, annot=True, cmap='Blues')\n",
    "plt.xlabel('Class')\n",
    "plt.ylabel('Input')\n",
    "plt.title(\"Heatmap of Coefficients for Logistic Regression\")\n",
    "plt.show()"
   ]
  },
  {
   "cell_type": "markdown",
   "id": "59b1b014",
   "metadata": {},
   "source": [
    "### 4.2.5 T-Test\n",
    "- $H_0 \\leq 0.2 \\implies$ If randomly guessing, there are five classes so $\\frac{1}{5}$ chance\n",
    "- $H_a > 0.2 \\implies$ From the trained one-vs-rest logisitc classifer \n",
    "- T Stat:\n",
    "    - $\\mu = 0.2$\n",
    "    - $\\hat p$ probability by the classifier\n",
    "    - $n$ is length of test set\n",
    "    - $\\hat \\sigma^2$ is the sample variance found by:\n",
    "        - $\\hat \\sigma^2 = \\frac{\\hat p(1-\\hat p)}{n-1}$ \n",
    "    - $T = \\frac{\\sqrt{n}(\\hat p - \\mu_0)}{\\hat\\sigma}$\n",
    "- Find $p = 1-F_{n-1}(T)$\n",
    "- Compare $p$ to $\\alpha = 0.05$ significance level"
   ]
  },
  {
   "cell_type": "code",
   "execution_count": 43,
   "id": "fb0b10f9",
   "metadata": {},
   "outputs": [
    {
     "name": "stdout",
     "output_type": "stream",
     "text": [
      "Sample accuracy: 0.36894586894586895\n",
      "n: 1404\n",
      "Sample variance: 0.00016594783658848658\n",
      "\n",
      "T-Stat: 491.41151999983435\n",
      "P-value: 0.0\n",
      "Hypothesis: 0.0000<0.05\n"
     ]
    }
   ],
   "source": [
    "p = log_r.score(x_test,y_test) # sample mean\n",
    "print(f'Sample accuracy: {p}')\n",
    "print(f'n: {len(x_test)}')\n",
    "\n",
    "\n",
    "var = (p*(1-p))/(len(x_test)-1) # t distribution sample variance\n",
    "print(f'Sample variance: {var}\\n')\n",
    "\n",
    "t_stat = np.sqrt(len(x_test))*(p-0.2)/np.sqrt(var)\n",
    "\n",
    "p_val = 1-t.cdf(t_stat, len(x_test)-1)\n",
    "hyp_alpha = 0.05\n",
    "relationship = '<' if p_val < hyp_alpha else '>='\n",
    "print(f'T-Stat: {t_stat}\\nP-value: {p_val}\\nHypothesis: {p_val:.4f}{relationship}{hyp_alpha}')"
   ]
  },
  {
   "cell_type": "markdown",
   "id": "de4f5b3e",
   "metadata": {},
   "source": [
    "---\n",
    "# 5. Pre-Training\n",
    "- Find the train and test sets (0.8 train split)\n",
    "- Find all the combinations of the inputs\n",
    "- Perform 5-fold cross validation for each combination\n",
    "---\n",
    "## 5.1 Find the Input and Output  Names"
   ]
  },
  {
   "cell_type": "code",
   "execution_count": 44,
   "id": "3f50daed",
   "metadata": {},
   "outputs": [
    {
     "data": {
      "text/plain": [
       "(['age',\n",
       "  'time',\n",
       "  'TOTHH_CY',\n",
       "  'sex_M',\n",
       "  'sex_U',\n",
       "  'day_1',\n",
       "  'day_2',\n",
       "  'day_3',\n",
       "  'day_4',\n",
       "  'day_5',\n",
       "  'day_6',\n",
       "  'month_1',\n",
       "  'month_2',\n",
       "  'month_3',\n",
       "  'month_4',\n",
       "  'month_5',\n",
       "  'month_6',\n",
       "  'month_7',\n",
       "  'month_8',\n",
       "  'month_9',\n",
       "  'month_10',\n",
       "  'month_11'],\n",
       " ['MEDHINC_CY'])"
      ]
     },
     "execution_count": 44,
     "metadata": {},
     "output_type": "execute_result"
    }
   ],
   "source": [
    "inp = list(df_pandas_encoded.columns)\n",
    "oup = [\"MEDHINC_CY\"]\n",
    "for x in oup:\n",
    "    inp.remove(x)\n",
    "inp.remove('fel_misd')\n",
    "inp, oup"
   ]
  },
  {
   "cell_type": "markdown",
   "id": "c306bf0d",
   "metadata": {},
   "source": [
    "---\n",
    "## 5.2 Split Train and Test Data"
   ]
  },
  {
   "cell_type": "code",
   "execution_count": 45,
   "id": "a9589e32",
   "metadata": {},
   "outputs": [],
   "source": [
    "x,y = df_pandas_encoded[inp], df_pandas_encoded[oup]\n",
    "x_train, x_test, y_train, y_test = train_test_split(x,y, train_size=0.8, test_size=0.2)"
   ]
  },
  {
   "cell_type": "markdown",
   "id": "79d5c104",
   "metadata": {},
   "source": [
    "---\n",
    "## 5.3 Find Combinations\n",
    "---\n",
    "### 5.3.1 5-Fold CV for Ridge Regression"
   ]
  },
  {
   "cell_type": "code",
   "execution_count": 46,
   "id": "b47b7c5e",
   "metadata": {},
   "outputs": [],
   "source": [
    "items = ['age','sex_M', 'day', 'month']\n",
    "combs = []\n",
    "for i in range(1, len(items)):\n",
    "    combs.append(list(set(itertools.combinations(items, i))))"
   ]
  },
  {
   "cell_type": "code",
   "execution_count": 47,
   "id": "85139c9c",
   "metadata": {},
   "outputs": [
    {
     "data": {
      "text/plain": [
       "{'features': ['sex_M', 'day_1', 'day_2', 'day_3', 'day_4', 'day_5', 'day_6'],\n",
       " 'score': -0.0005741596212547773,\n",
       " 'alpha': 0}"
      ]
     },
     "execution_count": 47,
     "metadata": {},
     "output_type": "execute_result"
    }
   ],
   "source": [
    "day_vals = ['day_1',\n",
    "          'day_2',\n",
    "          'day_3',\n",
    "          'day_4',\n",
    "          'day_5',\n",
    "          'day_6']\n",
    "\n",
    "month_vals = ['month_1',\n",
    "              'month_2',\n",
    "              'month_3',\n",
    "              'month_4',\n",
    "              'month_5',\n",
    "              'month_6',\n",
    "              'month_7',\n",
    "              'month_8',\n",
    "              'month_9',\n",
    "              'month_10',\n",
    "              'month_11']\n",
    "\n",
    "best_dict = {\"features\": [], \"score\": -2**31, \"alpha\": 0}\n",
    "alpha_vals = np.logspace(-1,3,50)\n",
    "for k_amt in combs:\n",
    "    for ind_comb in k_amt:\n",
    "        comb = list(ind_comb)\n",
    "        if 'day' in comb:\n",
    "            comb.remove('day')\n",
    "            comb += day_vals\n",
    "        if 'month' in comb:\n",
    "            comb.remove('month')\n",
    "            comb += month_vals\n",
    "\n",
    "        \n",
    "        x_subset = x_train[comb].values\n",
    "        \n",
    "        for alpha in alpha_vals:\n",
    "            cvs = cross_val_score(linear_model.Ridge(alpha=alpha), x_subset, y_train)\n",
    "        \n",
    "        if cvs.mean() > best_dict[\"score\"]:\n",
    "            best_dict[\"features\"] = comb\n",
    "            best_dict[\"score\"] = cvs.mean()\n",
    "best_dict"
   ]
  },
  {
   "cell_type": "markdown",
   "id": "0b549f98",
   "metadata": {},
   "source": [
    "---\n",
    "### 5.3.2 20-Fold CV for Lasso Regression"
   ]
  },
  {
   "cell_type": "code",
   "execution_count": 48,
   "id": "2db5cf74",
   "metadata": {},
   "outputs": [
    {
     "data": {
      "text/plain": [
       "Index(['age', 'time', 'TOTHH_CY', 'sex_M', 'sex_U', 'day_1', 'day_2', 'day_3',\n",
       "       'day_4', 'day_5', 'day_6', 'month_1', 'month_2', 'month_3', 'month_4',\n",
       "       'month_5', 'month_6', 'month_7', 'month_8', 'month_9', 'month_10',\n",
       "       'month_11'],\n",
       "      dtype='object')"
      ]
     },
     "execution_count": 48,
     "metadata": {},
     "output_type": "execute_result"
    }
   ],
   "source": [
    "x_train.columns"
   ]
  },
  {
   "cell_type": "code",
   "execution_count": 49,
   "id": "618b7a9f",
   "metadata": {},
   "outputs": [
    {
     "name": "stdout",
     "output_type": "stream",
     "text": [
      "Best Average MSE: 1.0635330110137016 with min_alpha=0.0054072422483765585\n"
     ]
    }
   ],
   "source": [
    "lasso = linear_model.LassoLarsCV(cv=20)\n",
    "lasso.fit(x_train, y_train)\n",
    "lasso_mse=lasso.mse_path_\n",
    "lasso_alphas = lasso.cv_alphas_\n",
    "mse_mean = []\n",
    "mse_std = []\n",
    "for i in range(len(lasso_mse)):\n",
    "    mse_mean.append(lasso_mse[i].mean())\n",
    "    mse_std.append(lasso_mse[i].std())\n",
    "    \n",
    "min_alpha = lasso_alphas[np.argmin(mse_mean)]\n",
    "print(f\"Best Average MSE: {min(mse_mean)} with {min_alpha=}\")"
   ]
  },
  {
   "cell_type": "code",
   "execution_count": 50,
   "id": "e05e8381",
   "metadata": {},
   "outputs": [
    {
     "data": {
      "image/png": "[encoded data removed]",
      "text/plain": [
       "<Figure size 640x480 with 1 Axes>"
      ]
     },
     "metadata": {},
     "output_type": "display_data"
    }
   ],
   "source": [
    "plt.errorbar(lasso_alphas,mse_mean, yerr=mse_std,fmt=\"o\", capsize=5, color=\"blue\")\n",
    "plt.scatter(lasso_alphas, mse_mean, color='blue')\n",
    "plt.xscale('log')\n",
    "\n",
    "plt.axvline(x=min_alpha, color='red')\n",
    "plt.xlabel('Alpha')\n",
    "plt.ylabel('Mean MSE')\n",
    "plt.title('Alpha vs Mean MSE');"
   ]
  },
  {
   "cell_type": "markdown",
   "id": "0a71b1a8",
   "metadata": {},
   "source": [
    "-----\n",
    "# 6. Training Regression Models\n",
    "- Find the input variables wanted\n",
    "- Split the data\n",
    "- Find all the possible combinations of inputs\n",
    "- Use cross validation for multiple alpha values for a Ridge model\n",
    "- Use cross validation on the Lasso model\n",
    "- Visualize the Lasso alphas\n",
    "- Fit the Ridge regression (Linear regression since $\\alpha=0$\n",
    "- Show the relevent information\n",
    "    - $R^2$ \n",
    "    - Residual plot\n",
    "- Fit the Lasso regression with the best $\\alpha$\n",
    "- Show the relevent information\n",
    "    - $R^2$ \n",
    "    - Residual plot\n",
    "- Show the weights for each input and model\n",
    "    - Both tabular and heatmap\n",
    "\n",
    "---\n",
    "## 6.1 Training Linear Regression\n",
    "- Note that the $\\alpha$ found from Ridge is 0 so the documentation suggests to just use linear regression\n",
    "    - https://scikitlearn.org/1.5/modules/generated/sklearn.linear_model.Ridge.html\n"
   ]
  },
  {
   "cell_type": "code",
   "execution_count": 51,
   "id": "5d861fe7",
   "metadata": {},
   "outputs": [
    {
     "data": {
      "text/html": [
       "<style>#sk-container-id-2 {color: black;}#sk-container-id-2 pre{padding: 0;}#sk-container-id-2 div.sk-toggleable {background-color: white;}#sk-container-id-2 label.sk-toggleable__label {cursor: pointer;display: block;width: 100%;margin-bottom: 0;padding: 0.3em;box-sizing: border-box;text-align: center;}#sk-container-id-2 label.sk-toggleable__label-arrow:before {content: \"▸\";float: left;margin-right: 0.25em;color: #696969;}#sk-container-id-2 label.sk-toggleable__label-arrow:hover:before {color: black;}#sk-container-id-2 div.sk-estimator:hover label.sk-toggleable__label-arrow:before {color: black;}#sk-container-id-2 div.sk-toggleable__content {max-height: 0;max-width: 0;overflow: hidden;text-align: left;background-color: #f0f8ff;}#sk-container-id-2 div.sk-toggleable__content pre {margin: 0.2em;color: black;border-radius: 0.25em;background-color: #f0f8ff;}#sk-container-id-2 input.sk-toggleable__control:checked~div.sk-toggleable__content {max-height: 200px;max-width: 100%;overflow: auto;}#sk-container-id-2 input.sk-toggleable__control:checked~label.sk-toggleable__label-arrow:before {content: \"▾\";}#sk-container-id-2 div.sk-estimator input.sk-toggleable__control:checked~label.sk-toggleable__label {background-color: #d4ebff;}#sk-container-id-2 div.sk-label input.sk-toggleable__control:checked~label.sk-toggleable__label {background-color: #d4ebff;}#sk-container-id-2 input.sk-hidden--visually {border: 0;clip: rect(1px 1px 1px 1px);clip: rect(1px, 1px, 1px, 1px);height: 1px;margin: -1px;overflow: hidden;padding: 0;position: absolute;width: 1px;}#sk-container-id-2 div.sk-estimator {font-family: monospace;background-color: #f0f8ff;border: 1px dotted black;border-radius: 0.25em;box-sizing: border-box;margin-bottom: 0.5em;}#sk-container-id-2 div.sk-estimator:hover {background-color: #d4ebff;}#sk-container-id-2 div.sk-parallel-item::after {content: \"\";width: 100%;border-bottom: 1px solid gray;flex-grow: 1;}#sk-container-id-2 div.sk-label:hover label.sk-toggleable__label {background-color: #d4ebff;}#sk-container-id-2 div.sk-serial::before {content: \"\";position: absolute;border-left: 1px solid gray;box-sizing: border-box;top: 0;bottom: 0;left: 50%;z-index: 0;}#sk-container-id-2 div.sk-serial {display: flex;flex-direction: column;align-items: center;background-color: white;padding-right: 0.2em;padding-left: 0.2em;position: relative;}#sk-container-id-2 div.sk-item {position: relative;z-index: 1;}#sk-container-id-2 div.sk-parallel {display: flex;align-items: stretch;justify-content: center;background-color: white;position: relative;}#sk-container-id-2 div.sk-item::before, #sk-container-id-2 div.sk-parallel-item::before {content: \"\";position: absolute;border-left: 1px solid gray;box-sizing: border-box;top: 0;bottom: 0;left: 50%;z-index: -1;}#sk-container-id-2 div.sk-parallel-item {display: flex;flex-direction: column;z-index: 1;position: relative;background-color: white;}#sk-container-id-2 div.sk-parallel-item:first-child::after {align-self: flex-end;width: 50%;}#sk-container-id-2 div.sk-parallel-item:last-child::after {align-self: flex-start;width: 50%;}#sk-container-id-2 div.sk-parallel-item:only-child::after {width: 0;}#sk-container-id-2 div.sk-dashed-wrapped {border: 1px dashed gray;margin: 0 0.4em 0.5em 0.4em;box-sizing: border-box;padding-bottom: 0.4em;background-color: white;}#sk-container-id-2 div.sk-label label {font-family: monospace;font-weight: bold;display: inline-block;line-height: 1.2em;}#sk-container-id-2 div.sk-label-container {text-align: center;}#sk-container-id-2 div.sk-container {/* jupyter's `normalize.less` sets `[hidden] { display: none; }` but bootstrap.min.css set `[hidden] { display: none !important; }` so we also need the `!important` here to be able to override the default hidden behavior on the sphinx rendered scikit-learn.org. See: https://github.com/scikit-learn/scikit-learn/issues/21755 */display: inline-block !important;position: relative;}#sk-container-id-2 div.sk-text-repr-fallback {display: none;}</style><div id=\"sk-container-id-2\" class=\"sk-top-container\"><div class=\"sk-text-repr-fallback\"><pre>LinearRegression()</pre><b>In a Jupyter environment, please rerun this cell to show the HTML representation or trust the notebook. <br />On GitHub, the HTML representation is unable to render, please try loading this page with nbviewer.org.</b></div><div class=\"sk-container\" hidden><div class=\"sk-item\"><div class=\"sk-estimator sk-toggleable\"><input class=\"sk-toggleable__control sk-hidden--visually\" id=\"sk-estimator-id-2\" type=\"checkbox\" checked><label for=\"sk-estimator-id-2\" class=\"sk-toggleable__label sk-toggleable__label-arrow\">LinearRegression</label><div class=\"sk-toggleable__content\"><pre>LinearRegression()</pre></div></div></div></div></div>"
      ],
      "text/plain": [
       "LinearRegression()"
      ]
     },
     "execution_count": 51,
     "metadata": {},
     "output_type": "execute_result"
    }
   ],
   "source": [
    "lr = linear_model.LinearRegression()\n",
    "\n",
    "x_train = x_train[best_dict[\"features\"]]\n",
    "x_test = x_test[best_dict[\"features\"]]\n",
    "\n",
    "lr.fit(x_train, y_train)"
   ]
  },
  {
   "cell_type": "markdown",
   "id": "705b780f",
   "metadata": {},
   "source": [
    "---\n",
    "## 6.2 Analysis\n",
    "---\n",
    "### 6.2.1 Coefficient of Determination: $R^2$ "
   ]
  },
  {
   "cell_type": "code",
   "execution_count": 52,
   "id": "69d0882e",
   "metadata": {},
   "outputs": [
    {
     "name": "stdout",
     "output_type": "stream",
     "text": [
      "R2 train: 0.001970106362371715\n",
      "R2 Test: 0.0005099544702280578\n"
     ]
    }
   ],
   "source": [
    "y_pred = lr.predict(x_test)\n",
    "print(f\"R2 train: {lr.score(x_train,y_train)}\")\n",
    "print(f\"R2 Test: {lr.score(x_test,y_test)}\")"
   ]
  },
  {
   "cell_type": "markdown",
   "id": "8949c8fc",
   "metadata": {},
   "source": [
    "---\n",
    "### 6.2.2 Residual Plot "
   ]
  },
  {
   "cell_type": "code",
   "execution_count": 53,
   "id": "8a197ebd",
   "metadata": {},
   "outputs": [
    {
     "data": {
      "image/png": "[encoded data removed]",
      "text/plain": [
       "<Figure size 640x480 with 1 Axes>"
      ]
     },
     "metadata": {},
     "output_type": "display_data"
    }
   ],
   "source": [
    "plt.scatter([i for i in range(len(y_test))],y_test-y_pred);\n",
    "plt.xlabel(\"Index\")\n",
    "plt.ylabel(\"y_actual-y_predicted\")\n",
    "plt.title(\"Residual Plot\");"
   ]
  },
  {
   "cell_type": "markdown",
   "id": "f9868ad6",
   "metadata": {},
   "source": [
    "---\n",
    "## 6.3 Training Lasso Regression"
   ]
  },
  {
   "cell_type": "code",
   "execution_count": 54,
   "id": "12a7328f",
   "metadata": {},
   "outputs": [
    {
     "data": {
      "text/html": [
       "<style>#sk-container-id-3 {color: black;}#sk-container-id-3 pre{padding: 0;}#sk-container-id-3 div.sk-toggleable {background-color: white;}#sk-container-id-3 label.sk-toggleable__label {cursor: pointer;display: block;width: 100%;margin-bottom: 0;padding: 0.3em;box-sizing: border-box;text-align: center;}#sk-container-id-3 label.sk-toggleable__label-arrow:before {content: \"▸\";float: left;margin-right: 0.25em;color: #696969;}#sk-container-id-3 label.sk-toggleable__label-arrow:hover:before {color: black;}#sk-container-id-3 div.sk-estimator:hover label.sk-toggleable__label-arrow:before {color: black;}#sk-container-id-3 div.sk-toggleable__content {max-height: 0;max-width: 0;overflow: hidden;text-align: left;background-color: #f0f8ff;}#sk-container-id-3 div.sk-toggleable__content pre {margin: 0.2em;color: black;border-radius: 0.25em;background-color: #f0f8ff;}#sk-container-id-3 input.sk-toggleable__control:checked~div.sk-toggleable__content {max-height: 200px;max-width: 100%;overflow: auto;}#sk-container-id-3 input.sk-toggleable__control:checked~label.sk-toggleable__label-arrow:before {content: \"▾\";}#sk-container-id-3 div.sk-estimator input.sk-toggleable__control:checked~label.sk-toggleable__label {background-color: #d4ebff;}#sk-container-id-3 div.sk-label input.sk-toggleable__control:checked~label.sk-toggleable__label {background-color: #d4ebff;}#sk-container-id-3 input.sk-hidden--visually {border: 0;clip: rect(1px 1px 1px 1px);clip: rect(1px, 1px, 1px, 1px);height: 1px;margin: -1px;overflow: hidden;padding: 0;position: absolute;width: 1px;}#sk-container-id-3 div.sk-estimator {font-family: monospace;background-color: #f0f8ff;border: 1px dotted black;border-radius: 0.25em;box-sizing: border-box;margin-bottom: 0.5em;}#sk-container-id-3 div.sk-estimator:hover {background-color: #d4ebff;}#sk-container-id-3 div.sk-parallel-item::after {content: \"\";width: 100%;border-bottom: 1px solid gray;flex-grow: 1;}#sk-container-id-3 div.sk-label:hover label.sk-toggleable__label {background-color: #d4ebff;}#sk-container-id-3 div.sk-serial::before {content: \"\";position: absolute;border-left: 1px solid gray;box-sizing: border-box;top: 0;bottom: 0;left: 50%;z-index: 0;}#sk-container-id-3 div.sk-serial {display: flex;flex-direction: column;align-items: center;background-color: white;padding-right: 0.2em;padding-left: 0.2em;position: relative;}#sk-container-id-3 div.sk-item {position: relative;z-index: 1;}#sk-container-id-3 div.sk-parallel {display: flex;align-items: stretch;justify-content: center;background-color: white;position: relative;}#sk-container-id-3 div.sk-item::before, #sk-container-id-3 div.sk-parallel-item::before {content: \"\";position: absolute;border-left: 1px solid gray;box-sizing: border-box;top: 0;bottom: 0;left: 50%;z-index: -1;}#sk-container-id-3 div.sk-parallel-item {display: flex;flex-direction: column;z-index: 1;position: relative;background-color: white;}#sk-container-id-3 div.sk-parallel-item:first-child::after {align-self: flex-end;width: 50%;}#sk-container-id-3 div.sk-parallel-item:last-child::after {align-self: flex-start;width: 50%;}#sk-container-id-3 div.sk-parallel-item:only-child::after {width: 0;}#sk-container-id-3 div.sk-dashed-wrapped {border: 1px dashed gray;margin: 0 0.4em 0.5em 0.4em;box-sizing: border-box;padding-bottom: 0.4em;background-color: white;}#sk-container-id-3 div.sk-label label {font-family: monospace;font-weight: bold;display: inline-block;line-height: 1.2em;}#sk-container-id-3 div.sk-label-container {text-align: center;}#sk-container-id-3 div.sk-container {/* jupyter's `normalize.less` sets `[hidden] { display: none; }` but bootstrap.min.css set `[hidden] { display: none !important; }` so we also need the `!important` here to be able to override the default hidden behavior on the sphinx rendered scikit-learn.org. See: https://github.com/scikit-learn/scikit-learn/issues/21755 */display: inline-block !important;position: relative;}#sk-container-id-3 div.sk-text-repr-fallback {display: none;}</style><div id=\"sk-container-id-3\" class=\"sk-top-container\"><div class=\"sk-text-repr-fallback\"><pre>Lasso(alpha=0.0054072422483765585)</pre><b>In a Jupyter environment, please rerun this cell to show the HTML representation or trust the notebook. <br />On GitHub, the HTML representation is unable to render, please try loading this page with nbviewer.org.</b></div><div class=\"sk-container\" hidden><div class=\"sk-item\"><div class=\"sk-estimator sk-toggleable\"><input class=\"sk-toggleable__control sk-hidden--visually\" id=\"sk-estimator-id-3\" type=\"checkbox\" checked><label for=\"sk-estimator-id-3\" class=\"sk-toggleable__label sk-toggleable__label-arrow\">Lasso</label><div class=\"sk-toggleable__content\"><pre>Lasso(alpha=0.0054072422483765585)</pre></div></div></div></div></div>"
      ],
      "text/plain": [
       "Lasso(alpha=0.0054072422483765585)"
      ]
     },
     "execution_count": 54,
     "metadata": {},
     "output_type": "execute_result"
    }
   ],
   "source": [
    "lr_lasso = linear_model.Lasso(alpha=min_alpha)\n",
    "lr_lasso.fit(x_train, y_train)"
   ]
  },
  {
   "cell_type": "markdown",
   "id": "4678f0cb",
   "metadata": {},
   "source": [
    "---\n",
    "## 6.4 Analysis\n",
    "---\n",
    "### 6.4.1 Coefficient of Determination: $R^2$"
   ]
  },
  {
   "cell_type": "code",
   "execution_count": 55,
   "id": "b0466b08",
   "metadata": {},
   "outputs": [
    {
     "name": "stdout",
     "output_type": "stream",
     "text": [
      "R2 train: 0.0013023960075648766\n",
      "R2 Test: -0.0003890654305305219\n"
     ]
    }
   ],
   "source": [
    "y_lasso_pred = lr_lasso.predict(x_test)\n",
    "print(f\"R2 train: {lr_lasso.score(x_train,y_train)}\")\n",
    "print(f\"R2 Test: {lr_lasso.score(x_test,y_test)}\")"
   ]
  },
  {
   "cell_type": "markdown",
   "id": "c5130400",
   "metadata": {},
   "source": [
    "---\n",
    "### 6.4.2 Residual Plot"
   ]
  },
  {
   "cell_type": "code",
   "execution_count": 56,
   "id": "5f4d2b13",
   "metadata": {},
   "outputs": [
    {
     "data": {
      "image/png": "[encoded data removed]",
      "text/plain": [
       "<Figure size 640x480 with 1 Axes>"
      ]
     },
     "metadata": {},
     "output_type": "display_data"
    }
   ],
   "source": [
    "plt.scatter([i for i in range(len(y_test))],y_test.values.reshape(-1)-y_lasso_pred);\n",
    "plt.xlabel(\"Index\")\n",
    "plt.ylabel(\"y_actual-y_predicted\")\n",
    "plt.title(\"Residual Plot\");"
   ]
  },
  {
   "cell_type": "markdown",
   "id": "eb1787ea",
   "metadata": {},
   "source": [
    "---\n",
    "## 6.5 Coefficient Weights"
   ]
  },
  {
   "cell_type": "code",
   "execution_count": 57,
   "id": "aca9b9aa",
   "metadata": {},
   "outputs": [
    {
     "data": {
      "text/html": [
       "<div>\n",
       "<style scoped>\n",
       "    .dataframe tbody tr th:only-of-type {\n",
       "        vertical-align: middle;\n",
       "    }\n",
       "\n",
       "    .dataframe tbody tr th {\n",
       "        vertical-align: top;\n",
       "    }\n",
       "\n",
       "    .dataframe thead th {\n",
       "        text-align: right;\n",
       "    }\n",
       "</style>\n",
       "<table border=\"1\" class=\"dataframe\">\n",
       "  <thead>\n",
       "    <tr style=\"text-align: right;\">\n",
       "      <th></th>\n",
       "      <th>sex_M</th>\n",
       "      <th>day_1</th>\n",
       "      <th>day_2</th>\n",
       "      <th>day_3</th>\n",
       "      <th>day_4</th>\n",
       "      <th>day_5</th>\n",
       "      <th>day_6</th>\n",
       "    </tr>\n",
       "    <tr>\n",
       "      <th>Name</th>\n",
       "      <th></th>\n",
       "      <th></th>\n",
       "      <th></th>\n",
       "      <th></th>\n",
       "      <th></th>\n",
       "      <th></th>\n",
       "      <th></th>\n",
       "    </tr>\n",
       "  </thead>\n",
       "  <tbody>\n",
       "    <tr>\n",
       "      <th>Linear Regression</th>\n",
       "      <td>-0.058285</td>\n",
       "      <td>-0.024533</td>\n",
       "      <td>-0.005987</td>\n",
       "      <td>-0.027754</td>\n",
       "      <td>-0.033236</td>\n",
       "      <td>0.087199</td>\n",
       "      <td>0.018827</td>\n",
       "    </tr>\n",
       "    <tr>\n",
       "      <th>Lasso</th>\n",
       "      <td>-0.028852</td>\n",
       "      <td>-0.000000</td>\n",
       "      <td>-0.000000</td>\n",
       "      <td>-0.000000</td>\n",
       "      <td>-0.000000</td>\n",
       "      <td>0.053737</td>\n",
       "      <td>0.000000</td>\n",
       "    </tr>\n",
       "  </tbody>\n",
       "</table>\n",
       "</div>"
      ],
      "text/plain": [
       "                      sex_M     day_1     day_2     day_3     day_4     day_5  \\\n",
       "Name                                                                            \n",
       "Linear Regression -0.058285 -0.024533 -0.005987 -0.027754 -0.033236  0.087199   \n",
       "Lasso             -0.028852 -0.000000 -0.000000 -0.000000 -0.000000  0.053737   \n",
       "\n",
       "                      day_6  \n",
       "Name                         \n",
       "Linear Regression  0.018827  \n",
       "Lasso              0.000000  "
      ]
     },
     "execution_count": 57,
     "metadata": {},
     "output_type": "execute_result"
    }
   ],
   "source": [
    "# Insert code here\n",
    "df1 = pd.DataFrame(lr.coef_, columns=lr.feature_names_in_)\n",
    "df2 = pd.DataFrame(lr_lasso.coef_.reshape(1,-1), columns=lr_lasso.feature_names_in_)\n",
    "df = pd.concat([df1,df2])\n",
    "df[\"Name\"] = [\"Linear Regression\", \"Lasso\"]\n",
    "df = df.set_index(df[\"Name\"])\n",
    "df = df.drop(\"Name\", axis=1)\n",
    "df"
   ]
  },
  {
   "cell_type": "code",
   "execution_count": 58,
   "id": "f0e226ea",
   "metadata": {},
   "outputs": [
    {
     "data": {
      "image/png": "[encoded data removed]",
      "text/plain": [
       "<Figure size 640x480 with 2 Axes>"
      ]
     },
     "metadata": {},
     "output_type": "display_data"
    }
   ],
   "source": [
    "sb.heatmap(df.T, annot=True, cmap='Blues')\n",
    "plt.xlabel('Type of Model')\n",
    "plt.ylabel('Input')\n",
    "plt.title(\"Heatmap of Coefficients for Inputs per Model\")\n",
    "plt.show()"
   ]
  }
 ],
 "metadata": {
  "kernelspec": {
   "display_name": "Python 3 (ipykernel)",
   "language": "python",
   "name": "python3"
  },
  "language_info": {
   "codemirror_mode": {
    "name": "ipython",
    "version": 3
   },
   "file_extension": ".py",
   "mimetype": "text/x-python",
   "name": "python",
   "nbconvert_exporter": "python",
   "pygments_lexer": "ipython3",
   "version": "3.11.4"
  }
 },
 "nbformat": 4,
 "nbformat_minor": 5
}
