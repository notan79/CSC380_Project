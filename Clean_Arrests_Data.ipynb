{
 "cells": [
  {
   "cell_type": "code",
   "execution_count": 1,
   "id": "fa7d441a",
   "metadata": {},
   "outputs": [],
   "source": [
    "import pandas as pd\n",
    "import matplotlib.pyplot as plt\n",
    "import numpy as np\n",
    "from sklearn.preprocessing import OneHotEncoder\n",
    "\n",
    "import datetime\n",
    "import calendar"
   ]
  },
  {
   "cell_type": "code",
   "execution_count": 2,
   "id": "e7faf778",
   "metadata": {},
   "outputs": [],
   "source": [
    "loc = \"./data/Arrests_2020.csv\"\n",
    "df = pd.read_csv(loc)"
   ]
  },
  {
   "cell_type": "code",
   "execution_count": 3,
   "id": "5de70528",
   "metadata": {},
   "outputs": [],
   "source": [
    "valid_cols = [\"NHA_NAME\", \"sex\", \"age\", \"date_arr\", \"fel_misd\"]\n",
    "df = df[valid_cols].dropna()"
   ]
  },
  {
   "cell_type": "code",
   "execution_count": 4,
   "id": "4f0aaaed",
   "metadata": {},
   "outputs": [
    {
     "data": {
      "text/html": [
       "<div>\n",
       "<style scoped>\n",
       "    .dataframe tbody tr th:only-of-type {\n",
       "        vertical-align: middle;\n",
       "    }\n",
       "\n",
       "    .dataframe tbody tr th {\n",
       "        vertical-align: top;\n",
       "    }\n",
       "\n",
       "    .dataframe thead th {\n",
       "        text-align: right;\n",
       "    }\n",
       "</style>\n",
       "<table border=\"1\" class=\"dataframe\">\n",
       "  <thead>\n",
       "    <tr style=\"text-align: right;\">\n",
       "      <th></th>\n",
       "      <th>NHA_NAME</th>\n",
       "      <th>sex</th>\n",
       "      <th>age</th>\n",
       "      <th>date_arr</th>\n",
       "      <th>fel_misd</th>\n",
       "    </tr>\n",
       "  </thead>\n",
       "  <tbody>\n",
       "    <tr>\n",
       "      <th>12</th>\n",
       "      <td>Dodge Flower</td>\n",
       "      <td>1</td>\n",
       "      <td>21</td>\n",
       "      <td>2020/01/02 00:00:00+00</td>\n",
       "      <td>2</td>\n",
       "    </tr>\n",
       "    <tr>\n",
       "      <th>13</th>\n",
       "      <td>Dodge Flower</td>\n",
       "      <td>1</td>\n",
       "      <td>21</td>\n",
       "      <td>2020/01/02 00:00:00+00</td>\n",
       "      <td>2</td>\n",
       "    </tr>\n",
       "    <tr>\n",
       "      <th>15</th>\n",
       "      <td>West University</td>\n",
       "      <td>1</td>\n",
       "      <td>24</td>\n",
       "      <td>2020/01/03 00:00:00+00</td>\n",
       "      <td>2</td>\n",
       "    </tr>\n",
       "    <tr>\n",
       "      <th>16</th>\n",
       "      <td>West University</td>\n",
       "      <td>1</td>\n",
       "      <td>24</td>\n",
       "      <td>2020/01/03 00:00:00+00</td>\n",
       "      <td>2</td>\n",
       "    </tr>\n",
       "    <tr>\n",
       "      <th>17</th>\n",
       "      <td>Dodge Flower</td>\n",
       "      <td>1</td>\n",
       "      <td>21</td>\n",
       "      <td>2020/01/02 00:00:00+00</td>\n",
       "      <td>2</td>\n",
       "    </tr>\n",
       "  </tbody>\n",
       "</table>\n",
       "</div>"
      ],
      "text/plain": [
       "           NHA_NAME sex age                date_arr fel_misd\n",
       "12     Dodge Flower   1  21  2020/01/02 00:00:00+00        2\n",
       "13     Dodge Flower   1  21  2020/01/02 00:00:00+00        2\n",
       "15  West University   1  24  2020/01/03 00:00:00+00        2\n",
       "16  West University   1  24  2020/01/03 00:00:00+00        2\n",
       "17     Dodge Flower   1  21  2020/01/02 00:00:00+00        2"
      ]
     },
     "execution_count": 4,
     "metadata": {},
     "output_type": "execute_result"
    }
   ],
   "source": [
    "# Format day, month, sex, fel_misd\n",
    "date_arr = []\n",
    "month_arr = []\n",
    "for i in range(len(df)):\n",
    "    date = list(df[\"date_arr\"])[i][:10]                           # extract date from df\n",
    "    calc_date = datetime.datetime.strptime(date, '%Y/%m/%d') \n",
    "    \n",
    "    day = (calc_date.weekday() + 1) % 7\n",
    "    date_arr.append(day)\n",
    "    month_arr.append(calc_date.month-1)\n",
    "    \n",
    "    # Set sex to [0,1]\n",
    "    if df.iloc[i][\"sex\"] == 'F':\n",
    "        df.iloc[i][\"sex\"] = 0\n",
    "    else:\n",
    "        df.iloc[i][\"sex\"] = 1\n",
    "        \n",
    "    # Set fel_misd to [0,5]\n",
    "    if df.iloc[i][\"fel_misd\"] == 'P':\n",
    "        df.iloc[i][\"fel_misd\"] = 0\n",
    "    elif df.iloc[i][\"fel_misd\"] == 'F':\n",
    "        df.iloc[i][\"fel_misd\"] = 1\n",
    "    elif df.iloc[i][\"fel_misd\"] == 'M':\n",
    "        df.iloc[i][\"fel_misd\"] = 2\n",
    "    elif df.iloc[i][\"fel_misd\"] == 'S':\n",
    "        df.iloc[i][\"fel_misd\"] = 3\n",
    "    elif df.iloc[i][\"fel_misd\"] == 'C':\n",
    "        df.iloc[i][\"fel_misd\"] = 4\n",
    "    else:\n",
    "        df.iloc[i][\"fel_misd\"] = 5\n",
    "        \n",
    "df.head()"
   ]
  },
  {
   "cell_type": "code",
   "execution_count": 5,
   "id": "ed69df05",
   "metadata": {},
   "outputs": [
    {
     "name": "stdout",
     "output_type": "stream",
     "text": [
      "Range of days: [0, 6]\n",
      "Range of months: [0,11]\n",
      "Range of sex: [0,1]\n",
      "Range of fel_misd: [0,5]\n"
     ]
    }
   ],
   "source": [
    "df = df.drop(\"date_arr\", axis=1)\n",
    "df[\"day\"] = date_arr\n",
    "df[\"month\"] = month_arr\n",
    "\n",
    "sex_col = df[\"sex\"]\n",
    "fel_misd_col = df[\"fel_misd\"]\n",
    "\n",
    "print(f\"Range of days: [{min(date_arr)}, {max(date_arr)}]\")\n",
    "print(f\"Range of months: [{min(month_arr)},{max(month_arr)}]\")\n",
    "print(f\"Range of sex: [{min(sex_col)},{max(sex_col)}]\")\n",
    "print(f\"Range of fel_misd: [{min(fel_misd_col)},{max(fel_misd_col)}]\")"
   ]
  },
  {
   "cell_type": "code",
   "execution_count": 6,
   "id": "379f8740",
   "metadata": {},
   "outputs": [
    {
     "name": "stdout",
     "output_type": "stream",
     "text": [
      "Range of year: [2020,2020]\n"
     ]
    }
   ],
   "source": [
    "df[\"year\"] = [2020 for i in range(len(df))]\n",
    "year_col = df[\"year\"]\n",
    "print(f\"Range of year: [{min(year_col)},{max(year_col)}]\")"
   ]
  },
  {
   "cell_type": "code",
   "execution_count": 7,
   "id": "cb59f845",
   "metadata": {
    "scrolled": true
   },
   "outputs": [
    {
     "data": {
      "text/html": [
       "<div>\n",
       "<style scoped>\n",
       "    .dataframe tbody tr th:only-of-type {\n",
       "        vertical-align: middle;\n",
       "    }\n",
       "\n",
       "    .dataframe tbody tr th {\n",
       "        vertical-align: top;\n",
       "    }\n",
       "\n",
       "    .dataframe thead th {\n",
       "        text-align: right;\n",
       "    }\n",
       "</style>\n",
       "<table border=\"1\" class=\"dataframe\">\n",
       "  <thead>\n",
       "    <tr style=\"text-align: right;\">\n",
       "      <th></th>\n",
       "      <th>NHA_NAME</th>\n",
       "      <th>sex</th>\n",
       "      <th>age</th>\n",
       "      <th>day</th>\n",
       "      <th>month</th>\n",
       "      <th>year</th>\n",
       "      <th>fel_misd</th>\n",
       "    </tr>\n",
       "  </thead>\n",
       "  <tbody>\n",
       "    <tr>\n",
       "      <th>12</th>\n",
       "      <td>Dodge Flower</td>\n",
       "      <td>1</td>\n",
       "      <td>21</td>\n",
       "      <td>4</td>\n",
       "      <td>0</td>\n",
       "      <td>2020</td>\n",
       "      <td>2</td>\n",
       "    </tr>\n",
       "    <tr>\n",
       "      <th>13</th>\n",
       "      <td>Dodge Flower</td>\n",
       "      <td>1</td>\n",
       "      <td>21</td>\n",
       "      <td>4</td>\n",
       "      <td>0</td>\n",
       "      <td>2020</td>\n",
       "      <td>2</td>\n",
       "    </tr>\n",
       "    <tr>\n",
       "      <th>15</th>\n",
       "      <td>West University</td>\n",
       "      <td>1</td>\n",
       "      <td>24</td>\n",
       "      <td>5</td>\n",
       "      <td>0</td>\n",
       "      <td>2020</td>\n",
       "      <td>2</td>\n",
       "    </tr>\n",
       "    <tr>\n",
       "      <th>16</th>\n",
       "      <td>West University</td>\n",
       "      <td>1</td>\n",
       "      <td>24</td>\n",
       "      <td>5</td>\n",
       "      <td>0</td>\n",
       "      <td>2020</td>\n",
       "      <td>2</td>\n",
       "    </tr>\n",
       "    <tr>\n",
       "      <th>17</th>\n",
       "      <td>Dodge Flower</td>\n",
       "      <td>1</td>\n",
       "      <td>21</td>\n",
       "      <td>4</td>\n",
       "      <td>0</td>\n",
       "      <td>2020</td>\n",
       "      <td>2</td>\n",
       "    </tr>\n",
       "  </tbody>\n",
       "</table>\n",
       "</div>"
      ],
      "text/plain": [
       "           NHA_NAME sex age  day  month  year fel_misd\n",
       "12     Dodge Flower   1  21    4      0  2020        2\n",
       "13     Dodge Flower   1  21    4      0  2020        2\n",
       "15  West University   1  24    5      0  2020        2\n",
       "16  West University   1  24    5      0  2020        2\n",
       "17     Dodge Flower   1  21    4      0  2020        2"
      ]
     },
     "execution_count": 7,
     "metadata": {},
     "output_type": "execute_result"
    }
   ],
   "source": [
    "df = df[[\"NHA_NAME\", \"sex\", \"age\", \"day\", \"month\",\"year\", \"fel_misd\"]]\n",
    "df.head()"
   ]
  },
  {
   "cell_type": "code",
   "execution_count": 8,
   "id": "5b12c33f",
   "metadata": {},
   "outputs": [],
   "source": [
    "# save df\n",
    "df_1 = df"
   ]
  },
  {
   "cell_type": "code",
   "execution_count": 9,
   "id": "00139692",
   "metadata": {},
   "outputs": [],
   "source": [
    "loc = \"./data/Arrests_2021.csv\"\n",
    "df = pd.read_csv(loc)"
   ]
  },
  {
   "cell_type": "code",
   "execution_count": 10,
   "id": "3615f147",
   "metadata": {},
   "outputs": [],
   "source": [
    "df = df[valid_cols].dropna()"
   ]
  },
  {
   "cell_type": "code",
   "execution_count": 11,
   "id": "3d9e43e1",
   "metadata": {},
   "outputs": [
    {
     "data": {
      "text/html": [
       "<div>\n",
       "<style scoped>\n",
       "    .dataframe tbody tr th:only-of-type {\n",
       "        vertical-align: middle;\n",
       "    }\n",
       "\n",
       "    .dataframe tbody tr th {\n",
       "        vertical-align: top;\n",
       "    }\n",
       "\n",
       "    .dataframe thead th {\n",
       "        text-align: right;\n",
       "    }\n",
       "</style>\n",
       "<table border=\"1\" class=\"dataframe\">\n",
       "  <thead>\n",
       "    <tr style=\"text-align: right;\">\n",
       "      <th></th>\n",
       "      <th>NHA_NAME</th>\n",
       "      <th>sex</th>\n",
       "      <th>age</th>\n",
       "      <th>date_arr</th>\n",
       "      <th>fel_misd</th>\n",
       "    </tr>\n",
       "  </thead>\n",
       "  <tbody>\n",
       "    <tr>\n",
       "      <th>3</th>\n",
       "      <td>Eastside</td>\n",
       "      <td>1</td>\n",
       "      <td>15</td>\n",
       "      <td>2021/01/02 00:00:00+00</td>\n",
       "      <td>2</td>\n",
       "    </tr>\n",
       "    <tr>\n",
       "      <th>4</th>\n",
       "      <td>Eastside</td>\n",
       "      <td>1</td>\n",
       "      <td>15</td>\n",
       "      <td>2021/01/02 00:00:00+00</td>\n",
       "      <td>2</td>\n",
       "    </tr>\n",
       "    <tr>\n",
       "      <th>5</th>\n",
       "      <td>Rita Ranch</td>\n",
       "      <td>0</td>\n",
       "      <td>25</td>\n",
       "      <td>2021/01/02 20:05:12+00</td>\n",
       "      <td>2</td>\n",
       "    </tr>\n",
       "    <tr>\n",
       "      <th>6</th>\n",
       "      <td>Garden District</td>\n",
       "      <td>1</td>\n",
       "      <td>34</td>\n",
       "      <td>2021/01/02 00:00:00+00</td>\n",
       "      <td>1</td>\n",
       "    </tr>\n",
       "    <tr>\n",
       "      <th>8</th>\n",
       "      <td>Garden District</td>\n",
       "      <td>1</td>\n",
       "      <td>34</td>\n",
       "      <td>2021/01/02 00:00:00+00</td>\n",
       "      <td>1</td>\n",
       "    </tr>\n",
       "  </tbody>\n",
       "</table>\n",
       "</div>"
      ],
      "text/plain": [
       "          NHA_NAME sex age                date_arr fel_misd\n",
       "3         Eastside   1  15  2021/01/02 00:00:00+00        2\n",
       "4         Eastside   1  15  2021/01/02 00:00:00+00        2\n",
       "5       Rita Ranch   0  25  2021/01/02 20:05:12+00        2\n",
       "6  Garden District   1  34  2021/01/02 00:00:00+00        1\n",
       "8  Garden District   1  34  2021/01/02 00:00:00+00        1"
      ]
     },
     "execution_count": 11,
     "metadata": {},
     "output_type": "execute_result"
    }
   ],
   "source": [
    "# Format day, month, sex, fel_misd\n",
    "date_arr = []\n",
    "month_arr = []\n",
    "for i in range(len(df)):\n",
    "    date = list(df[\"date_arr\"])[i][:10]                           # extract date from df\n",
    "    calc_date = datetime.datetime.strptime(date, '%Y/%m/%d') \n",
    "    \n",
    "    day = (calc_date.weekday() + 1) % 7\n",
    "    date_arr.append(day)\n",
    "    month_arr.append(calc_date.month-1)\n",
    "    \n",
    "    # Set sex to [0,1]\n",
    "    if df.iloc[i][\"sex\"] == 'F':\n",
    "        df.iloc[i][\"sex\"] = 0\n",
    "    else:\n",
    "        df.iloc[i][\"sex\"] = 1\n",
    "        \n",
    "    # Set fel_misd to [0,5]\n",
    "    if df.iloc[i][\"fel_misd\"] == 'P':\n",
    "        df.iloc[i][\"fel_misd\"] = 0\n",
    "    elif df.iloc[i][\"fel_misd\"] == 'F':\n",
    "        df.iloc[i][\"fel_misd\"] = 1\n",
    "    elif df.iloc[i][\"fel_misd\"] == 'M':\n",
    "        df.iloc[i][\"fel_misd\"] = 2\n",
    "    elif df.iloc[i][\"fel_misd\"] == 'S':\n",
    "        df.iloc[i][\"fel_misd\"] = 3\n",
    "    elif df.iloc[i][\"fel_misd\"] == 'C':\n",
    "        df.iloc[i][\"fel_misd\"] = 4\n",
    "    else:\n",
    "        df.iloc[i][\"fel_misd\"] = 5\n",
    "        \n",
    "df.head()"
   ]
  },
  {
   "cell_type": "code",
   "execution_count": 12,
   "id": "3638199c",
   "metadata": {},
   "outputs": [
    {
     "name": "stdout",
     "output_type": "stream",
     "text": [
      "Range of days: [0, 6]\n",
      "Range of months: [0,11]\n",
      "Range of sex: [0,1]\n",
      "Range of fel_misd: [0,5]\n"
     ]
    }
   ],
   "source": [
    "df = df.drop(\"date_arr\", axis=1)\n",
    "df[\"day\"] = date_arr\n",
    "df[\"month\"] = month_arr\n",
    "\n",
    "sex_col = df[\"sex\"]\n",
    "fel_misd_col = df[\"fel_misd\"]\n",
    "\n",
    "print(f\"Range of days: [{min(date_arr)}, {max(date_arr)}]\")\n",
    "print(f\"Range of months: [{min(month_arr)},{max(month_arr)}]\")\n",
    "print(f\"Range of sex: [{min(sex_col)},{max(sex_col)}]\")\n",
    "print(f\"Range of fel_misd: [{min(fel_misd_col)},{max(fel_misd_col)}]\")"
   ]
  },
  {
   "cell_type": "code",
   "execution_count": 13,
   "id": "fac7c316",
   "metadata": {},
   "outputs": [
    {
     "name": "stdout",
     "output_type": "stream",
     "text": [
      "Range of year: [2021,2021]\n"
     ]
    }
   ],
   "source": [
    "df[\"year\"] = [2021 for i in range(len(df))]\n",
    "year_col = df[\"year\"]\n",
    "print(f\"Range of year: [{min(year_col)},{max(year_col)}]\")"
   ]
  },
  {
   "cell_type": "code",
   "execution_count": 14,
   "id": "1c89c82a",
   "metadata": {},
   "outputs": [
    {
     "data": {
      "text/html": [
       "<div>\n",
       "<style scoped>\n",
       "    .dataframe tbody tr th:only-of-type {\n",
       "        vertical-align: middle;\n",
       "    }\n",
       "\n",
       "    .dataframe tbody tr th {\n",
       "        vertical-align: top;\n",
       "    }\n",
       "\n",
       "    .dataframe thead th {\n",
       "        text-align: right;\n",
       "    }\n",
       "</style>\n",
       "<table border=\"1\" class=\"dataframe\">\n",
       "  <thead>\n",
       "    <tr style=\"text-align: right;\">\n",
       "      <th></th>\n",
       "      <th>NHA_NAME</th>\n",
       "      <th>sex</th>\n",
       "      <th>age</th>\n",
       "      <th>day</th>\n",
       "      <th>month</th>\n",
       "      <th>year</th>\n",
       "      <th>fel_misd</th>\n",
       "    </tr>\n",
       "  </thead>\n",
       "  <tbody>\n",
       "    <tr>\n",
       "      <th>3</th>\n",
       "      <td>Eastside</td>\n",
       "      <td>1</td>\n",
       "      <td>15</td>\n",
       "      <td>6</td>\n",
       "      <td>0</td>\n",
       "      <td>2021</td>\n",
       "      <td>2</td>\n",
       "    </tr>\n",
       "    <tr>\n",
       "      <th>4</th>\n",
       "      <td>Eastside</td>\n",
       "      <td>1</td>\n",
       "      <td>15</td>\n",
       "      <td>6</td>\n",
       "      <td>0</td>\n",
       "      <td>2021</td>\n",
       "      <td>2</td>\n",
       "    </tr>\n",
       "    <tr>\n",
       "      <th>5</th>\n",
       "      <td>Rita Ranch</td>\n",
       "      <td>0</td>\n",
       "      <td>25</td>\n",
       "      <td>6</td>\n",
       "      <td>0</td>\n",
       "      <td>2021</td>\n",
       "      <td>2</td>\n",
       "    </tr>\n",
       "    <tr>\n",
       "      <th>6</th>\n",
       "      <td>Garden District</td>\n",
       "      <td>1</td>\n",
       "      <td>34</td>\n",
       "      <td>6</td>\n",
       "      <td>0</td>\n",
       "      <td>2021</td>\n",
       "      <td>1</td>\n",
       "    </tr>\n",
       "    <tr>\n",
       "      <th>8</th>\n",
       "      <td>Garden District</td>\n",
       "      <td>1</td>\n",
       "      <td>34</td>\n",
       "      <td>6</td>\n",
       "      <td>0</td>\n",
       "      <td>2021</td>\n",
       "      <td>1</td>\n",
       "    </tr>\n",
       "  </tbody>\n",
       "</table>\n",
       "</div>"
      ],
      "text/plain": [
       "          NHA_NAME sex age  day  month  year fel_misd\n",
       "3         Eastside   1  15    6      0  2021        2\n",
       "4         Eastside   1  15    6      0  2021        2\n",
       "5       Rita Ranch   0  25    6      0  2021        2\n",
       "6  Garden District   1  34    6      0  2021        1\n",
       "8  Garden District   1  34    6      0  2021        1"
      ]
     },
     "execution_count": 14,
     "metadata": {},
     "output_type": "execute_result"
    }
   ],
   "source": [
    "df = df[[\"NHA_NAME\", \"sex\", \"age\", \"day\", \"month\",\"year\", \"fel_misd\"]]\n",
    "df.head()"
   ]
  },
  {
   "cell_type": "code",
   "execution_count": 15,
   "id": "6d9ed143",
   "metadata": {},
   "outputs": [],
   "source": [
    "df_1.to_csv('./clean_data/Arrests_2020_cleaned.csv', index=False)\n",
    "df.to_csv('./clean_data/Arrests_2021_cleaned.csv', index=False)"
   ]
  },
  {
   "cell_type": "code",
   "execution_count": null,
   "id": "8ffda832",
   "metadata": {},
   "outputs": [],
   "source": []
  }
 ],
 "metadata": {
  "kernelspec": {
   "display_name": "Python 3 (ipykernel)",
   "language": "python",
   "name": "python3"
  },
  "language_info": {
   "codemirror_mode": {
    "name": "ipython",
    "version": 3
   },
   "file_extension": ".py",
   "mimetype": "text/x-python",
   "name": "python",
   "nbconvert_exporter": "python",
   "pygments_lexer": "ipython3",
   "version": "3.11.4"
  }
 },
 "nbformat": 4,
 "nbformat_minor": 5
}
