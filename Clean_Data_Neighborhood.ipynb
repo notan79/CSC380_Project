{
 "cells": [
  {
   "cell_type": "code",
   "execution_count": null,
   "metadata": {},
   "outputs": [],
   "source": [
    "import pandas as pd"
   ]
  },
  {
   "cell_type": "code",
   "execution_count": null,
   "metadata": {},
   "outputs": [],
   "source": [
    "neighborhood = pd.read_csv(\"./data/Neighborhood_Income.csv\")"
   ]
  },
  {
   "cell_type": "code",
   "execution_count": null,
   "metadata": {},
   "outputs": [],
   "source": [
    "neighborhood.set_index('NAME', inplace=True)"
   ]
  },
  {
   "cell_type": "code",
   "execution_count": null,
   "metadata": {},
   "outputs": [
    {
     "name": "stdout",
     "output_type": "stream",
     "text": [
      "                       MEDHINC_CY  WLTHINDXCY  TOTHH_CY\n",
      "NAME                                                   \n",
      "A Mountain                  39293          32      1103\n",
      "Adelanto                    33635          28       117\n",
      "Alvernon Heights            29762          26        99\n",
      "Amphi                       20213          20      3105\n",
      "Armory Park                 36870          48      1223\n",
      "...                           ...         ...       ...\n",
      "West Lamar City Acres       38082          46       121\n",
      "Loma Verde                  43696          73       233\n",
      "Downtown                    36471          26       111\n",
      "Barrio Santa Cruz           27188          33        64\n",
      "Bonanza                     62571          69      2319\n",
      "\n",
      "[159 rows x 3 columns]\n"
     ]
    }
   ],
   "source": [
    "neighborhood = neighborhood[[\"MEDHINC_CY\", \"WLTHINDXCY\", \"TOTHH_CY\"]]\n",
    "print(neighborhood)"
   ]
  },
  {
   "cell_type": "code",
   "execution_count": null,
   "metadata": {},
   "outputs": [],
   "source": [
    "neighborhood.to_csv('./clean_data/neighborhood_cleaned.csv', index=True)"
   ]
  }
 ],
 "metadata": {
  "kernelspec": {
   "display_name": "base",
   "language": "python",
   "name": "python3"
  },
  "language_info": {
   "codemirror_mode": {
    "name": "ipython",
    "version": 3
   },
   "file_extension": ".py",
   "mimetype": "text/x-python",
   "name": "python",
   "nbconvert_exporter": "python",
   "pygments_lexer": "ipython3",
   "version": "3.12.7"
  }
 },
 "nbformat": 4,
 "nbformat_minor": 2
}
