{
 "cells": [
  {
   "cell_type": "code",
   "execution_count": null,
   "id": "822d49b6",
   "metadata": {},
   "outputs": [],
   "source": [
    "import warnings\n",
    "warnings.filterwarnings('ignore')"
   ]
  },
  {
   "cell_type": "code",
   "execution_count": null,
   "id": "77cd318b",
   "metadata": {},
   "outputs": [],
   "source": [
    "import pandas as pd\n",
    "import numpy as np\n",
    "from sklearn import linear_model\n",
    "from sklearn.model_selection import train_test_split\n",
    "from sklearn.preprocessing import OneHotEncoder\n",
    "from random import shuffle\n",
    "\n",
    "from sklearn.metrics import confusion_matrix, classification_report\n",
    "from sklearn.model_selection import cross_val_score\n",
    "\n",
    "#testy"
   ]
  },
  {
   "cell_type": "code",
   "execution_count": null,
   "id": "fdbc07a7",
   "metadata": {},
   "outputs": [],
   "source": [
    "df = pd.read_csv(\"./clean_data/fully_merged_data.csv\")\n",
    "df"
   ]
  },
  {
   "cell_type": "code",
   "execution_count": null,
   "id": "13c3e633",
   "metadata": {},
   "outputs": [],
   "source": [
    "# delete empty values\n",
    "df = df.dropna()\n",
    "df"
   ]
  },
  {
   "cell_type": "code",
   "execution_count": null,
   "id": "17ea565e",
   "metadata": {},
   "outputs": [],
   "source": [
    "# remove null values\n",
    "arr = df.index[df[\"fel_misd\"] == ' ']\n",
    "df = df.drop(arr, axis=0)\n",
    "arr = df.index[df[\"fel_misd\"] == '\\xa0']\n",
    "df = df.drop(arr, axis=0)\n",
    "df"
   ]
  },
  {
   "cell_type": "code",
   "execution_count": null,
   "id": "10866368",
   "metadata": {},
   "outputs": [],
   "source": [
    "# z-score normalize desired columns\n",
    "from scipy.stats import zscore\n",
    "\n",
    "need_norm = [\"age\",\"MEDHINC_CY\", \"WLTHINDXCY\", \"TOTHH_CY\"]\n",
    "norm = df[need_norm].apply(zscore)\n",
    "norm"
   ]
  },
  {
   "cell_type": "code",
   "execution_count": null,
   "id": "27409b55",
   "metadata": {},
   "outputs": [],
   "source": [
    "df[need_norm] = norm\n",
    "df"
   ]
  },
  {
   "cell_type": "code",
   "execution_count": null,
   "id": "c7f63c21",
   "metadata": {},
   "outputs": [],
   "source": [
    "# removing the imbalanced classes\n",
    "# temp1 = df[df['fel_misd'] == 2.0]\n",
    "# temp2 = df[df['fel_misd'] == 1.0]\n",
    "# df = pd.concat([temp1, temp2])\n",
    "# df = df.drop(temp)\n",
    "# temp = df.index[df['fel_misd'] == 1.0].tolist()\n",
    "# df = df.drop(temp)"
   ]
  },
  {
   "cell_type": "code",
   "execution_count": null,
   "id": "0c8117a0",
   "metadata": {},
   "outputs": [],
   "source": [
    "df[\"fel_misd\"].value_counts()"
   ]
  },
  {
   "cell_type": "code",
   "execution_count": null,
   "id": "b87be109",
   "metadata": {},
   "outputs": [],
   "source": [
    "df_pandas_encoded = pd.get_dummies(df, columns=['sex', 'day', 'month'], drop_first=True)\n",
    "# df_pandas_encoded = pd.get_dummies(df_pandas_encoded, columns=[\"fel_misd\"], drop_first=False)\n",
    "df_pandas_encoded.head()"
   ]
  },
  {
   "cell_type": "code",
   "execution_count": null,
   "id": "4eb2e60e",
   "metadata": {},
   "outputs": [],
   "source": [
    "m_arr = df_pandas_encoded.index[df_pandas_encoded[\"fel_misd\"] == 'M'].tolist()\n",
    "f_arr = df_pandas_encoded.index[df_pandas_encoded[\"fel_misd\"] == 'F'].tolist()\n",
    "\n",
    "shuffle(m_arr)\n",
    "shuffle(f_arr)"
   ]
  },
  {
   "cell_type": "code",
   "execution_count": null,
   "id": "0c398285",
   "metadata": {},
   "outputs": [],
   "source": [
    "df_pandas_encoded = df_pandas_encoded.drop(m_arr[0:44000], axis = 0)\n",
    "df_pandas_encoded = df_pandas_encoded.drop(f_arr[0:14000], axis = 0)\n",
    "df_pandas_encoded['fel_misd'].value_counts()"
   ]
  },
  {
   "cell_type": "code",
   "execution_count": null,
   "id": "1ac9b352",
   "metadata": {},
   "outputs": [],
   "source": [
    "df_pandas_encoded = df_pandas_encoded.drop(\"WLTHINDXCY\", axis=1)"
   ]
  },
  {
   "cell_type": "code",
   "execution_count": null,
   "id": "20486ace",
   "metadata": {},
   "outputs": [],
   "source": [
    "inp = list(df_pandas_encoded.columns)\n",
    "# oup = ['fel_misd_0.0',\n",
    "#      'fel_misd_1.0',\n",
    "#      'fel_misd_2.0',\n",
    "#      'fel_misd_3.0',\n",
    "#      'fel_misd_4.0',\n",
    "#      'fel_misd_5.0']\n",
    "oup = [\"fel_misd\"]\n",
    "for x in oup:\n",
    "    inp.remove(x)\n",
    "inp, oup"
   ]
  },
  {
   "cell_type": "code",
   "execution_count": null,
   "id": "ff11304c",
   "metadata": {},
   "outputs": [],
   "source": [
    "x,y = df_pandas_encoded[inp], df_pandas_encoded[oup]\n",
    "x_train, x_test, y_train, y_test = train_test_split(x,y, train_size=0.8, test_size=0.2)"
   ]
  },
  {
   "cell_type": "code",
   "execution_count": null,
   "id": "e83dfa4a",
   "metadata": {},
   "outputs": [],
   "source": [
    "import itertools\n",
    "items = ['MEDHINC_CY','age','sex_M', 'day', 'month']\n",
    "combs = []\n",
    "for i in range(1, len(items)):\n",
    "    combs.append(list(set(itertools.combinations(items, i))))"
   ]
  },
  {
   "cell_type": "code",
   "execution_count": null,
   "id": "a908adf4",
   "metadata": {},
   "outputs": [],
   "source": [
    "day_vals = ['day_1',\n",
    "          'day_2',\n",
    "          'day_3',\n",
    "          'day_4',\n",
    "          'day_5',\n",
    "          'day_6']\n",
    "\n",
    "month_vals = ['month_1',\n",
    "              'month_2',\n",
    "              'month_3',\n",
    "              'month_4',\n",
    "              'month_5',\n",
    "              'month_6',\n",
    "              'month_7',\n",
    "              'month_8',\n",
    "              'month_9',\n",
    "              'month_10',\n",
    "              'month_11']\n",
    "fel_misd_vals = [ 'fel_misd_1',\n",
    "                  'fel_misd_2',\n",
    "                  'fel_misd_3',\n",
    "                  'fel_misd_4',\n",
    "                  'fel_misd_5']\n",
    "\n",
    "best_dict = {\"features\": [], \"score\": -2**31}\n",
    "for k_amt in combs:\n",
    "    for ind_comb in k_amt:\n",
    "        comb = list(ind_comb)\n",
    "        if 'day' in comb:\n",
    "            comb.remove('day')\n",
    "            comb += day_vals\n",
    "        if 'month' in comb:\n",
    "            comb.remove('month')\n",
    "            comb += month_vals\n",
    "        if 'fel_misd' in comb:\n",
    "            comb.remove('fel_misd')\n",
    "            comb += fel_misd_vals\n",
    "        \n",
    "        x_subset = x_train[comb].values\n",
    "        cvs = cross_val_score(linear_model.LogisticRegression(multi_class='ovr'), x_subset, y_train)\n",
    "        \n",
    "        if cvs.mean() > best_dict[\"score\"]:\n",
    "            best_dict[\"features\"] = comb\n",
    "            best_dict[\"score\"] = cvs.mean()\n",
    "best_dict"
   ]
  },
  {
   "cell_type": "code",
   "execution_count": null,
   "id": "cb748acc",
   "metadata": {},
   "outputs": [],
   "source": [
    "lr = linear_model.LogisticRegression(multi_class=\"ovr\")"
   ]
  },
  {
   "cell_type": "code",
   "execution_count": null,
   "id": "ceeac175",
   "metadata": {},
   "outputs": [],
   "source": [
    "best_dict[\"features\"]"
   ]
  },
  {
   "cell_type": "code",
   "execution_count": null,
   "id": "44aaea70",
   "metadata": {},
   "outputs": [],
   "source": [
    "x_train = x_train[best_dict[\"features\"]]\n",
    "x_test = x_test[best_dict[\"features\"]]\n",
    "\n",
    "lr.fit(x_train, y_train)"
   ]
  },
  {
   "cell_type": "code",
   "execution_count": null,
   "id": "17438081",
   "metadata": {},
   "outputs": [],
   "source": [
    "y_pred = lr.predict(x_test)\n",
    "print(f\"Accuracy train: {lr.score(x_train,y_train)}\")\n",
    "print(f\"Accuracy Test: {lr.score(x_test,y_test)}\")"
   ]
  },
  {
   "cell_type": "code",
   "execution_count": null,
   "id": "91840c46",
   "metadata": {},
   "outputs": [],
   "source": [
    "confusion_matrix(y_test, y_pred)"
   ]
  },
  {
   "cell_type": "code",
   "execution_count": null,
   "id": "f49cc909",
   "metadata": {},
   "outputs": [],
   "source": [
    "print(classification_report(y_test, y_pred))"
   ]
  },
  {
   "cell_type": "code",
   "execution_count": null,
   "id": "3f50daed",
   "metadata": {},
   "outputs": [],
   "source": []
  }
 ],
 "metadata": {
  "kernelspec": {
   "display_name": "base",
   "language": "python",
   "name": "python3"
  },
  "language_info": {
   "codemirror_mode": {
    "name": "ipython",
    "version": 3
   },
   "file_extension": ".py",
   "mimetype": "text/x-python",
   "name": "python",
   "nbconvert_exporter": "python",
   "pygments_lexer": "ipython3",
   "version": "3.12.4"
  }
 },
 "nbformat": 4,
 "nbformat_minor": 5
}
