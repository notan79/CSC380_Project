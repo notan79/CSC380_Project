{
 "cells": [
  {
   "cell_type": "markdown",
   "id": "9ec401b5",
   "metadata": {},
   "source": [
    "---\n",
    "## Final Project:\n",
    "### Nathan Crutchfield and Trevor Nemitz\n",
    "### CSC380: Principles of Data Science\n",
    "### Cesim Erten  "
   ]
  },
  {
   "cell_type": "markdown",
   "id": "0666946a",
   "metadata": {},
   "source": [
    "- - - - - - - - - - - - - - - - - - -\n",
    "# 1. Imports\n",
    "## Relevent Modules:\n",
    "    - Pandas     - dataframe, data representation\n",
    "    - Numpy      - data manipulation, random generation\n",
    "    - Sklearn    - Regression models, data split, one-hot encoding, \n",
    "                   metrics, cross validation\n",
    "    - Matplotlib - Data visualization\n",
    "    - Seaborn    - Data visualization\n",
    "    - Random     - Shuffling data\n",
    "    - Scipy      - T-Test\n",
    "\n",
    "## Module Versions:\n",
    "    - Pandas:     '1.5.3'\n",
    "    - Numpy:      '1.24.3'\n",
    "    - Sklearn:    '1.3.0'\n",
    "    - Matplotlib: '3.7.1'\n",
    "    - Seaborn:    '0.12.2'\n",
    "    - Scipy:      '1.10.1'"
   ]
  },
  {
   "cell_type": "code",
   "execution_count": 1,
   "id": "822d49b6",
   "metadata": {},
   "outputs": [],
   "source": [
    "import warnings\n",
    "warnings.filterwarnings('ignore')"
   ]
  },
  {
   "cell_type": "code",
   "execution_count": 2,
   "id": "77cd318b",
   "metadata": {},
   "outputs": [],
   "source": [
    "import pandas as pd\n",
    "import numpy as np\n",
    "from sklearn import linear_model\n",
    "from sklearn.model_selection import train_test_split\n",
    "from sklearn.preprocessing import OneHotEncoder\n",
    "from random import shuffle\n",
    "\n",
    "from sklearn.metrics import confusion_matrix, classification_report\n",
    "from sklearn.model_selection import cross_val_score\n",
    "\n",
    "import matplotlib.pyplot as plt\n",
    "import seaborn as sb\n",
    "\n",
    "from scipy.stats import t"
   ]
  },
  {
   "cell_type": "markdown",
   "id": "1e4fa37a",
   "metadata": {},
   "source": [
    "- - - - - - - - - - - - - - - - - - -\n",
    "# 2. Data\n",
    " - Reads in the data from a cleaned file\n",
    " - Removes null lines and corrects empty class for 'fel_misd'\n",
    " - Normalizes the relevent columns\n",
    " - Remove the oversized and generate data for undersized classes:\n",
    "     - M: 46803 $\\to$ 2194\n",
    "     - F: 16407 $\\to$ 2194\n",
    "     - C: 2194  $\\to$ 2194\n",
    "     - S: 240   $\\to$  360\n",
    "     - P: 50    $\\to$   75\n",
    "     \n",
    "     - Note that the data generation is done using the distribution\n",
    "       of each of the inputs per each class. Since the inputs have\n",
    "       low correleation (see the correlation heatmap) the joint pdf\n",
    "       will be extremely close to the individual pdf for each input.\n",
    " - One hot encode the inputs"
   ]
  },
  {
   "cell_type": "markdown",
   "id": "dc292f1a",
   "metadata": {},
   "source": [
    "---\n",
    "## 2.1 Reading Data"
   ]
  },
  {
   "cell_type": "code",
   "execution_count": 3,
   "id": "fdbc07a7",
   "metadata": {},
   "outputs": [
    {
     "data": {
      "text/plain": [
       "(68078, 10)"
      ]
     },
     "execution_count": 3,
     "metadata": {},
     "output_type": "execute_result"
    }
   ],
   "source": [
    "df = pd.read_csv(\"./clean_data/fully_merged_data.csv\")\n",
    "df.shape"
   ]
  },
  {
   "cell_type": "code",
   "execution_count": 4,
   "id": "13c3e633",
   "metadata": {},
   "outputs": [
    {
     "data": {
      "text/plain": [
       "(67927, 10)"
      ]
     },
     "execution_count": 4,
     "metadata": {},
     "output_type": "execute_result"
    }
   ],
   "source": [
    "# delete empty values\n",
    "df = df.dropna()\n",
    "df.shape"
   ]
  },
  {
   "cell_type": "code",
   "execution_count": 5,
   "id": "17ea565e",
   "metadata": {},
   "outputs": [
    {
     "data": {
      "text/plain": [
       "(65694, 10)"
      ]
     },
     "execution_count": 5,
     "metadata": {},
     "output_type": "execute_result"
    }
   ],
   "source": [
    "# remove null values\n",
    "arr = df.index[df[\"fel_misd\"] == ' ']\n",
    "df = df.drop(arr, axis=0)\n",
    "arr = df.index[df[\"fel_misd\"] == '\\xa0']\n",
    "df = df.drop(arr, axis=0)\n",
    "df.shape"
   ]
  },
  {
   "cell_type": "markdown",
   "id": "28fde93a",
   "metadata": {},
   "source": [
    "---\n",
    "## 2.2 Normalizing data"
   ]
  },
  {
   "cell_type": "code",
   "execution_count": 6,
   "id": "10866368",
   "metadata": {},
   "outputs": [
    {
     "data": {
      "text/html": [
       "<div>\n",
       "<style scoped>\n",
       "    .dataframe tbody tr th:only-of-type {\n",
       "        vertical-align: middle;\n",
       "    }\n",
       "\n",
       "    .dataframe tbody tr th {\n",
       "        vertical-align: top;\n",
       "    }\n",
       "\n",
       "    .dataframe thead th {\n",
       "        text-align: right;\n",
       "    }\n",
       "</style>\n",
       "<table border=\"1\" class=\"dataframe\">\n",
       "  <thead>\n",
       "    <tr style=\"text-align: right;\">\n",
       "      <th></th>\n",
       "      <th>age</th>\n",
       "      <th>MEDHINC_CY</th>\n",
       "      <th>WLTHINDXCY</th>\n",
       "      <th>TOTHH_CY</th>\n",
       "    </tr>\n",
       "  </thead>\n",
       "  <tbody>\n",
       "    <tr>\n",
       "      <th>0</th>\n",
       "      <td>-1.007650</td>\n",
       "      <td>-0.795643</td>\n",
       "      <td>-0.502892</td>\n",
       "      <td>-0.442905</td>\n",
       "    </tr>\n",
       "    <tr>\n",
       "      <th>1</th>\n",
       "      <td>-1.007650</td>\n",
       "      <td>-0.795643</td>\n",
       "      <td>-0.502892</td>\n",
       "      <td>-0.442905</td>\n",
       "    </tr>\n",
       "    <tr>\n",
       "      <th>2</th>\n",
       "      <td>-0.759528</td>\n",
       "      <td>-0.788811</td>\n",
       "      <td>-0.373469</td>\n",
       "      <td>-0.405740</td>\n",
       "    </tr>\n",
       "    <tr>\n",
       "      <th>3</th>\n",
       "      <td>-0.759528</td>\n",
       "      <td>-0.788811</td>\n",
       "      <td>-0.373469</td>\n",
       "      <td>-0.405740</td>\n",
       "    </tr>\n",
       "    <tr>\n",
       "      <th>4</th>\n",
       "      <td>-1.007650</td>\n",
       "      <td>-0.795643</td>\n",
       "      <td>-0.502892</td>\n",
       "      <td>-0.442905</td>\n",
       "    </tr>\n",
       "  </tbody>\n",
       "</table>\n",
       "</div>"
      ],
      "text/plain": [
       "        age  MEDHINC_CY  WLTHINDXCY  TOTHH_CY\n",
       "0 -1.007650   -0.795643   -0.502892 -0.442905\n",
       "1 -1.007650   -0.795643   -0.502892 -0.442905\n",
       "2 -0.759528   -0.788811   -0.373469 -0.405740\n",
       "3 -0.759528   -0.788811   -0.373469 -0.405740\n",
       "4 -1.007650   -0.795643   -0.502892 -0.442905"
      ]
     },
     "execution_count": 6,
     "metadata": {},
     "output_type": "execute_result"
    }
   ],
   "source": [
    "# z-score normalize desired columns\n",
    "from scipy.stats import zscore\n",
    "\n",
    "need_norm = [\"age\",\"MEDHINC_CY\", \"WLTHINDXCY\", \"TOTHH_CY\"]\n",
    "norm = df[need_norm].apply(zscore)\n",
    "norm.head()"
   ]
  },
  {
   "cell_type": "code",
   "execution_count": 7,
   "id": "27409b55",
   "metadata": {},
   "outputs": [
    {
     "data": {
      "text/html": [
       "<div>\n",
       "<style scoped>\n",
       "    .dataframe tbody tr th:only-of-type {\n",
       "        vertical-align: middle;\n",
       "    }\n",
       "\n",
       "    .dataframe tbody tr th {\n",
       "        vertical-align: top;\n",
       "    }\n",
       "\n",
       "    .dataframe thead th {\n",
       "        text-align: right;\n",
       "    }\n",
       "</style>\n",
       "<table border=\"1\" class=\"dataframe\">\n",
       "  <thead>\n",
       "    <tr style=\"text-align: right;\">\n",
       "      <th></th>\n",
       "      <th>index</th>\n",
       "      <th>sex</th>\n",
       "      <th>age</th>\n",
       "      <th>day</th>\n",
       "      <th>month</th>\n",
       "      <th>MEDHINC_CY</th>\n",
       "      <th>WLTHINDXCY</th>\n",
       "      <th>time</th>\n",
       "      <th>TOTHH_CY</th>\n",
       "      <th>fel_misd</th>\n",
       "    </tr>\n",
       "  </thead>\n",
       "  <tbody>\n",
       "    <tr>\n",
       "      <th>0</th>\n",
       "      <td>0</td>\n",
       "      <td>M</td>\n",
       "      <td>-1.007650</td>\n",
       "      <td>4</td>\n",
       "      <td>0</td>\n",
       "      <td>-0.795643</td>\n",
       "      <td>-0.502892</td>\n",
       "      <td>1610</td>\n",
       "      <td>-0.442905</td>\n",
       "      <td>M</td>\n",
       "    </tr>\n",
       "    <tr>\n",
       "      <th>1</th>\n",
       "      <td>1</td>\n",
       "      <td>M</td>\n",
       "      <td>-1.007650</td>\n",
       "      <td>4</td>\n",
       "      <td>0</td>\n",
       "      <td>-0.795643</td>\n",
       "      <td>-0.502892</td>\n",
       "      <td>1610</td>\n",
       "      <td>-0.442905</td>\n",
       "      <td>M</td>\n",
       "    </tr>\n",
       "    <tr>\n",
       "      <th>2</th>\n",
       "      <td>2</td>\n",
       "      <td>M</td>\n",
       "      <td>-0.759528</td>\n",
       "      <td>5</td>\n",
       "      <td>0</td>\n",
       "      <td>-0.788811</td>\n",
       "      <td>-0.373469</td>\n",
       "      <td>1716</td>\n",
       "      <td>-0.405740</td>\n",
       "      <td>M</td>\n",
       "    </tr>\n",
       "    <tr>\n",
       "      <th>3</th>\n",
       "      <td>3</td>\n",
       "      <td>M</td>\n",
       "      <td>-0.759528</td>\n",
       "      <td>5</td>\n",
       "      <td>0</td>\n",
       "      <td>-0.788811</td>\n",
       "      <td>-0.373469</td>\n",
       "      <td>1716</td>\n",
       "      <td>-0.405740</td>\n",
       "      <td>M</td>\n",
       "    </tr>\n",
       "    <tr>\n",
       "      <th>4</th>\n",
       "      <td>4</td>\n",
       "      <td>M</td>\n",
       "      <td>-1.007650</td>\n",
       "      <td>4</td>\n",
       "      <td>0</td>\n",
       "      <td>-0.795643</td>\n",
       "      <td>-0.502892</td>\n",
       "      <td>1610</td>\n",
       "      <td>-0.442905</td>\n",
       "      <td>M</td>\n",
       "    </tr>\n",
       "  </tbody>\n",
       "</table>\n",
       "</div>"
      ],
      "text/plain": [
       "   index sex       age  day  month  MEDHINC_CY  WLTHINDXCY  time  TOTHH_CY  \\\n",
       "0      0   M -1.007650    4      0   -0.795643   -0.502892  1610 -0.442905   \n",
       "1      1   M -1.007650    4      0   -0.795643   -0.502892  1610 -0.442905   \n",
       "2      2   M -0.759528    5      0   -0.788811   -0.373469  1716 -0.405740   \n",
       "3      3   M -0.759528    5      0   -0.788811   -0.373469  1716 -0.405740   \n",
       "4      4   M -1.007650    4      0   -0.795643   -0.502892  1610 -0.442905   \n",
       "\n",
       "  fel_misd  \n",
       "0        M  \n",
       "1        M  \n",
       "2        M  \n",
       "3        M  \n",
       "4        M  "
      ]
     },
     "execution_count": 7,
     "metadata": {},
     "output_type": "execute_result"
    }
   ],
   "source": [
    "df[need_norm] = norm\n",
    "df.head()"
   ]
  },
  {
   "cell_type": "markdown",
   "id": "f794c8f7",
   "metadata": {},
   "source": [
    "---\n",
    "## 2.3 Over and under-sized classes"
   ]
  },
  {
   "cell_type": "code",
   "execution_count": 8,
   "id": "0c8117a0",
   "metadata": {},
   "outputs": [
    {
     "data": {
      "text/plain": [
       "M    46803\n",
       "F    16407\n",
       "C     2194\n",
       "S      240\n",
       "P       50\n",
       "Name: fel_misd, dtype: int64"
      ]
     },
     "execution_count": 8,
     "metadata": {},
     "output_type": "execute_result"
    }
   ],
   "source": [
    "df[\"fel_misd\"].value_counts()"
   ]
  },
  {
   "cell_type": "markdown",
   "id": "83c6642e",
   "metadata": {},
   "source": [
    "---\n",
    "### 2.3.1 Drop random points from oversized data"
   ]
  },
  {
   "cell_type": "code",
   "execution_count": 9,
   "id": "4eb2e60e",
   "metadata": {},
   "outputs": [
    {
     "data": {
      "text/plain": [
       "M    2194\n",
       "C    2194\n",
       "F    2194\n",
       "S     240\n",
       "P      50\n",
       "Name: fel_misd, dtype: int64"
      ]
     },
     "execution_count": 9,
     "metadata": {},
     "output_type": "execute_result"
    }
   ],
   "source": [
    "m_arr = df.index[df[\"fel_misd\"] == 'M'].tolist()\n",
    "shuffle(m_arr)\n",
    "\n",
    "\n",
    "df = df.drop(m_arr[0:len(m_arr)-2194], axis = 0)\n",
    "\n",
    "\n",
    "s_arr = df.index[df[\"fel_misd\"] == 'S'].tolist()\n",
    "p_arr = df.index[df[\"fel_misd\"] == 'P'].tolist()\n",
    "\n",
    "f_arr = df.index[df[\"fel_misd\"] == 'F'].tolist()\n",
    "shuffle(f_arr)\n",
    "df = df.drop(f_arr[0:len(f_arr)-2194], axis = 0)\n",
    "\n",
    "df['fel_misd'].value_counts()"
   ]
  },
  {
   "cell_type": "markdown",
   "id": "edc7ac65",
   "metadata": {},
   "source": [
    "---\n",
    "### 2.3.2 Statistical Generation for Undersized Classes"
   ]
  },
  {
   "cell_type": "code",
   "execution_count": 10,
   "id": "b91f83db",
   "metadata": {},
   "outputs": [
    {
     "data": {
      "text/plain": [
       "M    2194\n",
       "C    2194\n",
       "F    2194\n",
       "S     360\n",
       "P      75\n",
       "Name: fel_misd, dtype: int64"
      ]
     },
     "execution_count": 10,
     "metadata": {},
     "output_type": "execute_result"
    }
   ],
   "source": [
    "def gen_rand_df(temp_df,samples=1):\n",
    "    ''' \n",
    "    Assume that temp_df is only populated with same fel_misd class and no one-hot \n",
    "    encoding\n",
    "    Age, MEDHINC_CY, WLTHINDXCY, time_arr, TOTHH_CY should be normalized prior\n",
    "    to calling this function \n",
    "    '''\n",
    "\n",
    "    # Dictionary to put into data frame\n",
    "    d = {}\n",
    "    \n",
    "    # Find the pdf for the 'sex' input\n",
    "    choices = temp_df['sex'].value_counts().index.to_list()\n",
    "    v_c = temp_df['sex'].value_counts()\n",
    "    probs = v_c/sum(v_c)\n",
    "    \n",
    "    # Update the dictionary at 'sex' to data generated from pdf\n",
    "    d['sex'] = np.random.choice(choices, p=probs, size=samples)\n",
    "    \n",
    "    # Repeat...\n",
    "    choices = temp_df['day'].value_counts().index.to_list()\n",
    "    v_c = temp_df['day'].value_counts()\n",
    "    probs = v_c/sum(v_c)    \n",
    "    d['day'] = np.random.choice(choices, p=probs,size=samples)\n",
    "    \n",
    "    choices = temp_df['month'].value_counts().index.to_list()\n",
    "    v_c = temp_df['month'].value_counts()\n",
    "    probs = v_c/sum(v_c)    \n",
    "    d['month'] = np.random.choice(choices, p=probs, size=samples)\n",
    "    \n",
    "    x = np.random.standard_t(len(temp_df)-1,size=(5,samples)) # df = amt_samples - 1\n",
    "    d['age'] = x[0]\n",
    "    d['MEDHINC_CY'] = x[1]\n",
    "    d['WLTHINDXCY'] = x[2]\n",
    "    d['time'] = x[3]\n",
    "    d['TOTHH_CY'] = x[4]\n",
    "    d['fel_misd'] = [temp_df['fel_misd'].to_list()[0] for i in range(samples)]\n",
    "    \n",
    "    df_return = pd.DataFrame.from_dict(d)\n",
    "\n",
    "    \n",
    "    return df_return\n",
    "\n",
    "# Increase the undersized class by 50%\n",
    "\n",
    "s_amt = (int) (0.5*240)  \n",
    "p_amt = (int) (0.5*50)    \n",
    "inp = df[df['fel_misd'] == 'S']\n",
    "s_temp = gen_rand_df(inp,s_amt)\n",
    "\n",
    "inp = df[df['fel_misd'] == 'P']\n",
    "p_temp = gen_rand_df(inp,p_amt)\n",
    "\n",
    "df = pd.concat([df,s_temp,p_temp])\n",
    "df['fel_misd'].value_counts()"
   ]
  },
  {
   "cell_type": "markdown",
   "id": "31d04227",
   "metadata": {},
   "source": [
    "---\n",
    "## 2.4 One-Hot Encoding"
   ]
  },
  {
   "cell_type": "code",
   "execution_count": 11,
   "id": "1ac9b352",
   "metadata": {},
   "outputs": [
    {
     "data": {
      "text/html": [
       "<div>\n",
       "<style scoped>\n",
       "    .dataframe tbody tr th:only-of-type {\n",
       "        vertical-align: middle;\n",
       "    }\n",
       "\n",
       "    .dataframe tbody tr th {\n",
       "        vertical-align: top;\n",
       "    }\n",
       "\n",
       "    .dataframe thead th {\n",
       "        text-align: right;\n",
       "    }\n",
       "</style>\n",
       "<table border=\"1\" class=\"dataframe\">\n",
       "  <thead>\n",
       "    <tr style=\"text-align: right;\">\n",
       "      <th></th>\n",
       "      <th>age</th>\n",
       "      <th>MEDHINC_CY</th>\n",
       "      <th>time</th>\n",
       "      <th>TOTHH_CY</th>\n",
       "      <th>fel_misd</th>\n",
       "      <th>sex_M</th>\n",
       "      <th>sex_U</th>\n",
       "      <th>day_1</th>\n",
       "      <th>day_2</th>\n",
       "      <th>day_3</th>\n",
       "      <th>...</th>\n",
       "      <th>month_2</th>\n",
       "      <th>month_3</th>\n",
       "      <th>month_4</th>\n",
       "      <th>month_5</th>\n",
       "      <th>month_6</th>\n",
       "      <th>month_7</th>\n",
       "      <th>month_8</th>\n",
       "      <th>month_9</th>\n",
       "      <th>month_10</th>\n",
       "      <th>month_11</th>\n",
       "    </tr>\n",
       "  </thead>\n",
       "  <tbody>\n",
       "    <tr>\n",
       "      <th>5</th>\n",
       "      <td>-0.594113</td>\n",
       "      <td>0.040333</td>\n",
       "      <td>1656.0</td>\n",
       "      <td>-1.333381</td>\n",
       "      <td>M</td>\n",
       "      <td>1</td>\n",
       "      <td>0</td>\n",
       "      <td>0</td>\n",
       "      <td>0</td>\n",
       "      <td>0</td>\n",
       "      <td>...</td>\n",
       "      <td>0</td>\n",
       "      <td>0</td>\n",
       "      <td>0</td>\n",
       "      <td>0</td>\n",
       "      <td>0</td>\n",
       "      <td>0</td>\n",
       "      <td>0</td>\n",
       "      <td>0</td>\n",
       "      <td>0</td>\n",
       "      <td>0</td>\n",
       "    </tr>\n",
       "    <tr>\n",
       "      <th>7</th>\n",
       "      <td>-0.759528</td>\n",
       "      <td>-0.788811</td>\n",
       "      <td>1716.0</td>\n",
       "      <td>-0.405740</td>\n",
       "      <td>C</td>\n",
       "      <td>1</td>\n",
       "      <td>0</td>\n",
       "      <td>0</td>\n",
       "      <td>0</td>\n",
       "      <td>0</td>\n",
       "      <td>...</td>\n",
       "      <td>0</td>\n",
       "      <td>0</td>\n",
       "      <td>0</td>\n",
       "      <td>0</td>\n",
       "      <td>0</td>\n",
       "      <td>0</td>\n",
       "      <td>0</td>\n",
       "      <td>0</td>\n",
       "      <td>0</td>\n",
       "      <td>0</td>\n",
       "    </tr>\n",
       "    <tr>\n",
       "      <th>24</th>\n",
       "      <td>-0.180577</td>\n",
       "      <td>0.016459</td>\n",
       "      <td>2203.0</td>\n",
       "      <td>0.379188</td>\n",
       "      <td>M</td>\n",
       "      <td>1</td>\n",
       "      <td>0</td>\n",
       "      <td>0</td>\n",
       "      <td>0</td>\n",
       "      <td>0</td>\n",
       "      <td>...</td>\n",
       "      <td>0</td>\n",
       "      <td>0</td>\n",
       "      <td>0</td>\n",
       "      <td>0</td>\n",
       "      <td>0</td>\n",
       "      <td>0</td>\n",
       "      <td>0</td>\n",
       "      <td>0</td>\n",
       "      <td>0</td>\n",
       "      <td>0</td>\n",
       "    </tr>\n",
       "    <tr>\n",
       "      <th>29</th>\n",
       "      <td>-1.007650</td>\n",
       "      <td>-0.174385</td>\n",
       "      <td>2042.0</td>\n",
       "      <td>0.805843</td>\n",
       "      <td>F</td>\n",
       "      <td>1</td>\n",
       "      <td>0</td>\n",
       "      <td>0</td>\n",
       "      <td>0</td>\n",
       "      <td>0</td>\n",
       "      <td>...</td>\n",
       "      <td>0</td>\n",
       "      <td>0</td>\n",
       "      <td>0</td>\n",
       "      <td>0</td>\n",
       "      <td>0</td>\n",
       "      <td>0</td>\n",
       "      <td>0</td>\n",
       "      <td>0</td>\n",
       "      <td>0</td>\n",
       "      <td>0</td>\n",
       "    </tr>\n",
       "    <tr>\n",
       "      <th>34</th>\n",
       "      <td>1.308155</td>\n",
       "      <td>-0.670641</td>\n",
       "      <td>1746.0</td>\n",
       "      <td>-1.079915</td>\n",
       "      <td>M</td>\n",
       "      <td>1</td>\n",
       "      <td>0</td>\n",
       "      <td>0</td>\n",
       "      <td>0</td>\n",
       "      <td>0</td>\n",
       "      <td>...</td>\n",
       "      <td>0</td>\n",
       "      <td>0</td>\n",
       "      <td>0</td>\n",
       "      <td>0</td>\n",
       "      <td>0</td>\n",
       "      <td>0</td>\n",
       "      <td>0</td>\n",
       "      <td>0</td>\n",
       "      <td>0</td>\n",
       "      <td>0</td>\n",
       "    </tr>\n",
       "  </tbody>\n",
       "</table>\n",
       "<p>5 rows × 24 columns</p>\n",
       "</div>"
      ],
      "text/plain": [
       "         age  MEDHINC_CY    time  TOTHH_CY fel_misd  sex_M  sex_U  day_1  \\\n",
       "5  -0.594113    0.040333  1656.0 -1.333381        M      1      0      0   \n",
       "7  -0.759528   -0.788811  1716.0 -0.405740        C      1      0      0   \n",
       "24 -0.180577    0.016459  2203.0  0.379188        M      1      0      0   \n",
       "29 -1.007650   -0.174385  2042.0  0.805843        F      1      0      0   \n",
       "34  1.308155   -0.670641  1746.0 -1.079915        M      1      0      0   \n",
       "\n",
       "    day_2  day_3  ...  month_2  month_3  month_4  month_5  month_6  month_7  \\\n",
       "5       0      0  ...        0        0        0        0        0        0   \n",
       "7       0      0  ...        0        0        0        0        0        0   \n",
       "24      0      0  ...        0        0        0        0        0        0   \n",
       "29      0      0  ...        0        0        0        0        0        0   \n",
       "34      0      0  ...        0        0        0        0        0        0   \n",
       "\n",
       "    month_8  month_9  month_10  month_11  \n",
       "5         0        0         0         0  \n",
       "7         0        0         0         0  \n",
       "24        0        0         0         0  \n",
       "29        0        0         0         0  \n",
       "34        0        0         0         0  \n",
       "\n",
       "[5 rows x 24 columns]"
      ]
     },
     "execution_count": 11,
     "metadata": {},
     "output_type": "execute_result"
    }
   ],
   "source": [
    "df_pandas_encoded = pd.get_dummies(df, columns=['sex', 'day', 'month'], drop_first=True)\n",
    "df_pandas_encoded = df_pandas_encoded.drop(\"WLTHINDXCY\", axis=1)\n",
    "df_pandas_encoded = df_pandas_encoded.drop(\"index\", axis=1)\n",
    "df_pandas_encoded.dropna()\n",
    "df_pandas_encoded.head()"
   ]
  },
  {
   "cell_type": "markdown",
   "id": "b4b3927c",
   "metadata": {},
   "source": [
    "- - - - - - - - - - - - - - - - - - -\n",
    "# 3. Pre-Training\n",
    "- Find the train and test sets (0.8 train split)\n",
    "- Find all the combinations of the inputs\n",
    "- Perform 5-fold cross validation for each combination"
   ]
  },
  {
   "cell_type": "markdown",
   "id": "56ace448",
   "metadata": {},
   "source": [
    "---\n",
    "## 3.1 Find the Input and Output names"
   ]
  },
  {
   "cell_type": "code",
   "execution_count": 12,
   "id": "ef65e17a",
   "metadata": {},
   "outputs": [
    {
     "data": {
      "text/plain": [
       "(['age',\n",
       "  'MEDHINC_CY',\n",
       "  'time',\n",
       "  'TOTHH_CY',\n",
       "  'sex_M',\n",
       "  'sex_U',\n",
       "  'day_1',\n",
       "  'day_2',\n",
       "  'day_3',\n",
       "  'day_4',\n",
       "  'day_5',\n",
       "  'day_6',\n",
       "  'month_1',\n",
       "  'month_2',\n",
       "  'month_3',\n",
       "  'month_4',\n",
       "  'month_5',\n",
       "  'month_6',\n",
       "  'month_7',\n",
       "  'month_8',\n",
       "  'month_9',\n",
       "  'month_10',\n",
       "  'month_11'],\n",
       " ['fel_misd'])"
      ]
     },
     "execution_count": 12,
     "metadata": {},
     "output_type": "execute_result"
    }
   ],
   "source": [
    "inp = list(df_pandas_encoded.columns)\n",
    "oup = [\"fel_misd\"]\n",
    "for x in oup:\n",
    "    inp.remove(x)\n",
    "inp, oup"
   ]
  },
  {
   "cell_type": "markdown",
   "id": "34a3cb75",
   "metadata": {},
   "source": [
    "---\n",
    "## 3.2 Split Train and Test Data"
   ]
  },
  {
   "cell_type": "code",
   "execution_count": 13,
   "id": "ff11304c",
   "metadata": {},
   "outputs": [],
   "source": [
    "x,y = df_pandas_encoded[inp], df_pandas_encoded[oup]\n",
    "x_train, x_test, y_train, y_test = train_test_split(x,y, train_size=0.8, test_size=0.2, shuffle=True)"
   ]
  },
  {
   "cell_type": "markdown",
   "id": "c9093fb3",
   "metadata": {},
   "source": [
    "---\n",
    "## 3.3 Find Combinations"
   ]
  },
  {
   "cell_type": "code",
   "execution_count": 14,
   "id": "e83dfa4a",
   "metadata": {},
   "outputs": [],
   "source": [
    "import itertools\n",
    "items = ['MEDHINC_CY','age','sex_M', 'day', 'month']\n",
    "combs = []\n",
    "for i in range(1, len(items)):\n",
    "    combs.append(list(set(itertools.combinations(items, i))))"
   ]
  },
  {
   "cell_type": "code",
   "execution_count": 15,
   "id": "a908adf4",
   "metadata": {},
   "outputs": [
    {
     "data": {
      "text/plain": [
       "{'features': ['MEDHINC_CY',\n",
       "  'age',\n",
       "  'sex_M',\n",
       "  'day_1',\n",
       "  'day_2',\n",
       "  'day_3',\n",
       "  'day_4',\n",
       "  'day_5',\n",
       "  'day_6'],\n",
       " 'score': 0.3864249852778479}"
      ]
     },
     "execution_count": 15,
     "metadata": {},
     "output_type": "execute_result"
    }
   ],
   "source": [
    "day_vals = ['day_1',\n",
    "          'day_2',\n",
    "          'day_3',\n",
    "          'day_4',\n",
    "          'day_5',\n",
    "          'day_6']\n",
    "\n",
    "month_vals = ['month_1',\n",
    "              'month_2',\n",
    "              'month_3',\n",
    "              'month_4',\n",
    "              'month_5',\n",
    "              'month_6',\n",
    "              'month_7',\n",
    "              'month_8',\n",
    "              'month_9',\n",
    "              'month_10',\n",
    "              'month_11']\n",
    "\n",
    "best_dict = {\"features\": [], \"score\": -2**31}\n",
    "for k_amt in combs:\n",
    "    for ind_comb in k_amt:\n",
    "        comb = list(ind_comb)\n",
    "        if 'day' in comb:\n",
    "            comb.remove('day')\n",
    "            comb += day_vals\n",
    "        if 'month' in comb:\n",
    "            comb.remove('month')\n",
    "            comb += month_vals\n",
    "\n",
    "        \n",
    "        x_subset = x_train[comb].values\n",
    "        cvs = cross_val_score(linear_model.LogisticRegression(multi_class='ovr'), x_subset, y_train)\n",
    "        \n",
    "        if cvs.mean() > best_dict[\"score\"]:\n",
    "            best_dict[\"features\"] = comb\n",
    "            best_dict[\"score\"] = cvs.mean()\n",
    "best_dict"
   ]
  },
  {
   "cell_type": "markdown",
   "id": "791284b7",
   "metadata": {},
   "source": [
    "-------\n",
    "# 4. Training Logistic Model\n",
    "- Train a 5-class logistic regression using one-vs-rest classification\n",
    "    - Use the best features calculated in cross validation\n",
    "- Fit the train data\n",
    "- Find the predicted data for the test set and show the accuracy\n",
    "- Visualize and show the confusion matrix using heatmap\n",
    "- Show the classification report\n",
    "- Show the weights for each input and model\n",
    "    - Both tabular and heatmap"
   ]
  },
  {
   "cell_type": "markdown",
   "id": "7a083725",
   "metadata": {},
   "source": [
    "---\n",
    "## 4.1 Training"
   ]
  },
  {
   "cell_type": "code",
   "execution_count": 16,
   "id": "cb748acc",
   "metadata": {},
   "outputs": [],
   "source": [
    "log_r = linear_model.LogisticRegression(penalty='l2', multi_class=\"ovr\")"
   ]
  },
  {
   "cell_type": "code",
   "execution_count": 17,
   "id": "ceeac175",
   "metadata": {},
   "outputs": [
    {
     "data": {
      "text/plain": [
       "['MEDHINC_CY',\n",
       " 'age',\n",
       " 'sex_M',\n",
       " 'day_1',\n",
       " 'day_2',\n",
       " 'day_3',\n",
       " 'day_4',\n",
       " 'day_5',\n",
       " 'day_6']"
      ]
     },
     "execution_count": 17,
     "metadata": {},
     "output_type": "execute_result"
    }
   ],
   "source": [
    "best_dict[\"features\"]"
   ]
  },
  {
   "cell_type": "code",
   "execution_count": 18,
   "id": "44aaea70",
   "metadata": {},
   "outputs": [
    {
     "data": {
      "text/html": [
       "<style>#sk-container-id-1 {color: black;}#sk-container-id-1 pre{padding: 0;}#sk-container-id-1 div.sk-toggleable {background-color: white;}#sk-container-id-1 label.sk-toggleable__label {cursor: pointer;display: block;width: 100%;margin-bottom: 0;padding: 0.3em;box-sizing: border-box;text-align: center;}#sk-container-id-1 label.sk-toggleable__label-arrow:before {content: \"▸\";float: left;margin-right: 0.25em;color: #696969;}#sk-container-id-1 label.sk-toggleable__label-arrow:hover:before {color: black;}#sk-container-id-1 div.sk-estimator:hover label.sk-toggleable__label-arrow:before {color: black;}#sk-container-id-1 div.sk-toggleable__content {max-height: 0;max-width: 0;overflow: hidden;text-align: left;background-color: #f0f8ff;}#sk-container-id-1 div.sk-toggleable__content pre {margin: 0.2em;color: black;border-radius: 0.25em;background-color: #f0f8ff;}#sk-container-id-1 input.sk-toggleable__control:checked~div.sk-toggleable__content {max-height: 200px;max-width: 100%;overflow: auto;}#sk-container-id-1 input.sk-toggleable__control:checked~label.sk-toggleable__label-arrow:before {content: \"▾\";}#sk-container-id-1 div.sk-estimator input.sk-toggleable__control:checked~label.sk-toggleable__label {background-color: #d4ebff;}#sk-container-id-1 div.sk-label input.sk-toggleable__control:checked~label.sk-toggleable__label {background-color: #d4ebff;}#sk-container-id-1 input.sk-hidden--visually {border: 0;clip: rect(1px 1px 1px 1px);clip: rect(1px, 1px, 1px, 1px);height: 1px;margin: -1px;overflow: hidden;padding: 0;position: absolute;width: 1px;}#sk-container-id-1 div.sk-estimator {font-family: monospace;background-color: #f0f8ff;border: 1px dotted black;border-radius: 0.25em;box-sizing: border-box;margin-bottom: 0.5em;}#sk-container-id-1 div.sk-estimator:hover {background-color: #d4ebff;}#sk-container-id-1 div.sk-parallel-item::after {content: \"\";width: 100%;border-bottom: 1px solid gray;flex-grow: 1;}#sk-container-id-1 div.sk-label:hover label.sk-toggleable__label {background-color: #d4ebff;}#sk-container-id-1 div.sk-serial::before {content: \"\";position: absolute;border-left: 1px solid gray;box-sizing: border-box;top: 0;bottom: 0;left: 50%;z-index: 0;}#sk-container-id-1 div.sk-serial {display: flex;flex-direction: column;align-items: center;background-color: white;padding-right: 0.2em;padding-left: 0.2em;position: relative;}#sk-container-id-1 div.sk-item {position: relative;z-index: 1;}#sk-container-id-1 div.sk-parallel {display: flex;align-items: stretch;justify-content: center;background-color: white;position: relative;}#sk-container-id-1 div.sk-item::before, #sk-container-id-1 div.sk-parallel-item::before {content: \"\";position: absolute;border-left: 1px solid gray;box-sizing: border-box;top: 0;bottom: 0;left: 50%;z-index: -1;}#sk-container-id-1 div.sk-parallel-item {display: flex;flex-direction: column;z-index: 1;position: relative;background-color: white;}#sk-container-id-1 div.sk-parallel-item:first-child::after {align-self: flex-end;width: 50%;}#sk-container-id-1 div.sk-parallel-item:last-child::after {align-self: flex-start;width: 50%;}#sk-container-id-1 div.sk-parallel-item:only-child::after {width: 0;}#sk-container-id-1 div.sk-dashed-wrapped {border: 1px dashed gray;margin: 0 0.4em 0.5em 0.4em;box-sizing: border-box;padding-bottom: 0.4em;background-color: white;}#sk-container-id-1 div.sk-label label {font-family: monospace;font-weight: bold;display: inline-block;line-height: 1.2em;}#sk-container-id-1 div.sk-label-container {text-align: center;}#sk-container-id-1 div.sk-container {/* jupyter's `normalize.less` sets `[hidden] { display: none; }` but bootstrap.min.css set `[hidden] { display: none !important; }` so we also need the `!important` here to be able to override the default hidden behavior on the sphinx rendered scikit-learn.org. See: https://github.com/scikit-learn/scikit-learn/issues/21755 */display: inline-block !important;position: relative;}#sk-container-id-1 div.sk-text-repr-fallback {display: none;}</style><div id=\"sk-container-id-1\" class=\"sk-top-container\"><div class=\"sk-text-repr-fallback\"><pre>LogisticRegression(multi_class=&#x27;ovr&#x27;)</pre><b>In a Jupyter environment, please rerun this cell to show the HTML representation or trust the notebook. <br />On GitHub, the HTML representation is unable to render, please try loading this page with nbviewer.org.</b></div><div class=\"sk-container\" hidden><div class=\"sk-item\"><div class=\"sk-estimator sk-toggleable\"><input class=\"sk-toggleable__control sk-hidden--visually\" id=\"sk-estimator-id-1\" type=\"checkbox\" checked><label for=\"sk-estimator-id-1\" class=\"sk-toggleable__label sk-toggleable__label-arrow\">LogisticRegression</label><div class=\"sk-toggleable__content\"><pre>LogisticRegression(multi_class=&#x27;ovr&#x27;)</pre></div></div></div></div></div>"
      ],
      "text/plain": [
       "LogisticRegression(multi_class='ovr')"
      ]
     },
     "execution_count": 18,
     "metadata": {},
     "output_type": "execute_result"
    }
   ],
   "source": [
    "x_train = x_train[best_dict[\"features\"]]\n",
    "x_test = x_test[best_dict[\"features\"]]\n",
    "\n",
    "log_r.fit(x_train, y_train)"
   ]
  },
  {
   "cell_type": "markdown",
   "id": "32c1fcbc",
   "metadata": {},
   "source": [
    "---\n",
    "## 4.2 Analysis\n",
    "---\n",
    "### 4.2.1 Accuracy"
   ]
  },
  {
   "cell_type": "code",
   "execution_count": 19,
   "id": "17438081",
   "metadata": {},
   "outputs": [
    {
     "name": "stdout",
     "output_type": "stream",
     "text": [
      "Accuracy train: 0.39087831818991625\n",
      "Accuracy Test: 0.3611111111111111\n"
     ]
    }
   ],
   "source": [
    "y_pred = log_r.predict(x_test)\n",
    "print(f\"Accuracy train: {log_r.score(x_train,y_train)}\")\n",
    "print(f\"Accuracy Test: {log_r.score(x_test,y_test)}\")"
   ]
  },
  {
   "cell_type": "markdown",
   "id": "da591921",
   "metadata": {},
   "source": [
    "---\n",
    "### 4.2.2 Confusion Matrix"
   ]
  },
  {
   "cell_type": "code",
   "execution_count": 20,
   "id": "91840c46",
   "metadata": {},
   "outputs": [
    {
     "data": {
      "image/png": "[encoded data removed]",
      "text/plain": [
       "<Figure size 640x480 with 2 Axes>"
      ]
     },
     "metadata": {},
     "output_type": "display_data"
    }
   ],
   "source": [
    "temp = np.arange(0.5,5,1)\n",
    "cm = confusion_matrix(y_test, y_pred)\n",
    "sb.heatmap(cm, annot=True, fmt='d', cmap='Blues')\n",
    "plt.xticks(temp, labels=log_r.classes_)\n",
    "plt.yticks(temp, labels=log_r.classes_)\n",
    "\n",
    "plt.xlabel('Predicted')\n",
    "plt.ylabel('True')\n",
    "plt.title(\"Confusion Matrix Heatmap\")\n",
    "plt.show()"
   ]
  },
  {
   "cell_type": "code",
   "execution_count": 21,
   "id": "488d16dc",
   "metadata": {},
   "outputs": [
    {
     "data": {
      "text/plain": [
       "array([[176, 173,  89,   0,   1],\n",
       "       [102, 221, 113,   0,   0],\n",
       "       [148, 177, 107,   0,   0],\n",
       "       [  9,   9,   2,   0,   0],\n",
       "       [ 27,  31,  16,   0,   3]])"
      ]
     },
     "execution_count": 21,
     "metadata": {},
     "output_type": "execute_result"
    }
   ],
   "source": [
    "cm"
   ]
  },
  {
   "cell_type": "markdown",
   "id": "b73cb536",
   "metadata": {},
   "source": [
    "---\n",
    "### 4.2.3 Classification Report"
   ]
  },
  {
   "cell_type": "code",
   "execution_count": 22,
   "id": "f49cc909",
   "metadata": {},
   "outputs": [
    {
     "name": "stdout",
     "output_type": "stream",
     "text": [
      "              precision    recall  f1-score   support\n",
      "\n",
      "           C       0.38      0.40      0.39       439\n",
      "           F       0.36      0.51      0.42       436\n",
      "           M       0.33      0.25      0.28       432\n",
      "           P       0.00      0.00      0.00        20\n",
      "           S       0.75      0.04      0.07        77\n",
      "\n",
      "    accuracy                           0.36      1404\n",
      "   macro avg       0.36      0.24      0.23      1404\n",
      "weighted avg       0.37      0.36      0.34      1404\n",
      "\n"
     ]
    }
   ],
   "source": [
    "print(classification_report(y_test, y_pred))"
   ]
  },
  {
   "cell_type": "markdown",
   "id": "f33e9a92",
   "metadata": {},
   "source": [
    "---\n",
    "### 4.2.4 Coefficient Weights"
   ]
  },
  {
   "cell_type": "code",
   "execution_count": 23,
   "id": "59f244b7",
   "metadata": {},
   "outputs": [
    {
     "data": {
      "text/html": [
       "<div>\n",
       "<style scoped>\n",
       "    .dataframe tbody tr th:only-of-type {\n",
       "        vertical-align: middle;\n",
       "    }\n",
       "\n",
       "    .dataframe tbody tr th {\n",
       "        vertical-align: top;\n",
       "    }\n",
       "\n",
       "    .dataframe thead th {\n",
       "        text-align: right;\n",
       "    }\n",
       "</style>\n",
       "<table border=\"1\" class=\"dataframe\">\n",
       "  <thead>\n",
       "    <tr style=\"text-align: right;\">\n",
       "      <th></th>\n",
       "      <th>MEDHINC_CY</th>\n",
       "      <th>age</th>\n",
       "      <th>sex_M</th>\n",
       "      <th>day_1</th>\n",
       "      <th>day_2</th>\n",
       "      <th>day_3</th>\n",
       "      <th>day_4</th>\n",
       "      <th>day_5</th>\n",
       "      <th>day_6</th>\n",
       "    </tr>\n",
       "  </thead>\n",
       "  <tbody>\n",
       "    <tr>\n",
       "      <th>C</th>\n",
       "      <td>0.219933</td>\n",
       "      <td>0.005040</td>\n",
       "      <td>-0.114921</td>\n",
       "      <td>-0.234718</td>\n",
       "      <td>-0.328337</td>\n",
       "      <td>-0.412844</td>\n",
       "      <td>-0.251748</td>\n",
       "      <td>-0.308682</td>\n",
       "      <td>0.302076</td>\n",
       "    </tr>\n",
       "    <tr>\n",
       "      <th>F</th>\n",
       "      <td>-0.210168</td>\n",
       "      <td>0.024522</td>\n",
       "      <td>0.464472</td>\n",
       "      <td>0.010711</td>\n",
       "      <td>0.237672</td>\n",
       "      <td>0.399216</td>\n",
       "      <td>0.367824</td>\n",
       "      <td>0.253596</td>\n",
       "      <td>-0.273400</td>\n",
       "    </tr>\n",
       "    <tr>\n",
       "      <th>M</th>\n",
       "      <td>-0.030676</td>\n",
       "      <td>0.145948</td>\n",
       "      <td>-0.154048</td>\n",
       "      <td>0.175507</td>\n",
       "      <td>-0.056004</td>\n",
       "      <td>-0.051187</td>\n",
       "      <td>-0.098072</td>\n",
       "      <td>-0.031252</td>\n",
       "      <td>-0.181202</td>\n",
       "    </tr>\n",
       "    <tr>\n",
       "      <th>P</th>\n",
       "      <td>0.051166</td>\n",
       "      <td>-0.196298</td>\n",
       "      <td>0.483685</td>\n",
       "      <td>-1.394424</td>\n",
       "      <td>-0.399682</td>\n",
       "      <td>0.178277</td>\n",
       "      <td>-0.486385</td>\n",
       "      <td>-0.135075</td>\n",
       "      <td>-0.266666</td>\n",
       "    </tr>\n",
       "    <tr>\n",
       "      <th>S</th>\n",
       "      <td>-0.062583</td>\n",
       "      <td>-1.171318</td>\n",
       "      <td>-0.721309</td>\n",
       "      <td>0.476141</td>\n",
       "      <td>0.697716</td>\n",
       "      <td>0.159957</td>\n",
       "      <td>0.083463</td>\n",
       "      <td>0.483159</td>\n",
       "      <td>0.502359</td>\n",
       "    </tr>\n",
       "  </tbody>\n",
       "</table>\n",
       "</div>"
      ],
      "text/plain": [
       "   MEDHINC_CY       age     sex_M     day_1     day_2     day_3     day_4  \\\n",
       "C    0.219933  0.005040 -0.114921 -0.234718 -0.328337 -0.412844 -0.251748   \n",
       "F   -0.210168  0.024522  0.464472  0.010711  0.237672  0.399216  0.367824   \n",
       "M   -0.030676  0.145948 -0.154048  0.175507 -0.056004 -0.051187 -0.098072   \n",
       "P    0.051166 -0.196298  0.483685 -1.394424 -0.399682  0.178277 -0.486385   \n",
       "S   -0.062583 -1.171318 -0.721309  0.476141  0.697716  0.159957  0.083463   \n",
       "\n",
       "      day_5     day_6  \n",
       "C -0.308682  0.302076  \n",
       "F  0.253596 -0.273400  \n",
       "M -0.031252 -0.181202  \n",
       "P -0.135075 -0.266666  \n",
       "S  0.483159  0.502359  "
      ]
     },
     "execution_count": 23,
     "metadata": {},
     "output_type": "execute_result"
    }
   ],
   "source": [
    "df = pd.DataFrame(log_r.coef_, columns=log_r.feature_names_in_)\n",
    "df = df.set_index(log_r.classes_)\n",
    "df"
   ]
  },
  {
   "cell_type": "code",
   "execution_count": 24,
   "id": "9e84c7cb",
   "metadata": {},
   "outputs": [
    {
     "data": {
      "image/png": "[encoded data removed]",
      "text/plain": [
       "<Figure size 640x480 with 2 Axes>"
      ]
     },
     "metadata": {},
     "output_type": "display_data"
    }
   ],
   "source": [
    "sb.heatmap(df.T, annot=True, cmap='Blues')\n",
    "plt.xlabel('Class')\n",
    "plt.ylabel('Input')\n",
    "plt.title(\"Heatmap of Coefficients for Logistic Regression\")\n",
    "plt.show()"
   ]
  },
  {
   "cell_type": "markdown",
   "id": "59b1b014",
   "metadata": {},
   "source": [
    "### 4.2.5 T-Test\n",
    "- $H_0 \\leq 0.2 \\implies$ If randomly guessing, there are five classes so $\\frac{1}{5}$ chance\n",
    "- $H_a > 0.2 \\implies$ From the trained one-vs-rest logisitc classifer \n",
    "- T Stat:\n",
    "    - $\\mu = 0.2$\n",
    "    - $\\hat p$ probability by the classifier\n",
    "    - $n$ is length of test set\n",
    "    - $\\hat \\sigma^2$ is the sample variance found by:\n",
    "        - $\\hat \\sigma^2 = \\frac{n\\hat p(1-\\hat p)}{n-1}$ \n",
    "    - $T = \\frac{\\sqrt{n}(\\hat p - \\mu_0)}{\\hat\\sigma}$\n",
    "- Find $p = 1-F_{n-1}(T)$\n",
    "- Compare $p$ to $\\alpha = 0.05$ significance level"
   ]
  },
  {
   "cell_type": "code",
   "execution_count": 25,
   "id": "fb0b10f9",
   "metadata": {},
   "outputs": [
    {
     "name": "stdout",
     "output_type": "stream",
     "text": [
      "Sample accuracy: 0.3611111111111111\n",
      "n: 1404\n",
      "Sample variance: 0.2308743169398907\n",
      "\n",
      "T-Stat: 12.563806380601013\n",
      "P-value: 0.0\n",
      "Hypothesis: 0.0000<0.05\n"
     ]
    }
   ],
   "source": [
    "p = log_r.score(x_test,y_test) # sample mean\n",
    "print(f'Sample accuracy: {p}')\n",
    "print(f'n: {len(x_test)}')\n",
    "\n",
    "\n",
    "var = (len(x_test)*p*(1-p))/(len(x_test)-1) # t distribution sample variance\n",
    "print(f'Sample variance: {var}\\n')\n",
    "\n",
    "t_stat = np.sqrt(len(x_test))*(p-0.2)/np.sqrt(var)\n",
    "\n",
    "p_val = 1-t.cdf(t_stat, len(x_test)-1)\n",
    "hyp_alpha = 0.05\n",
    "relationship = '<' if p_val < hyp_alpha else '>='\n",
    "print(f'T-Stat: {t_stat}\\nP-value: {p_val}\\nHypothesis: {p_val:.4f}{relationship}{hyp_alpha}')"
   ]
  },
  {
   "cell_type": "markdown",
   "id": "de4f5b3e",
   "metadata": {},
   "source": [
    "---\n",
    "# 5. Pre-Training\n",
    "- Find the train and test sets (0.8 train split)\n",
    "- Find all the combinations of the inputs\n",
    "- Perform 5-fold cross validation for each combination\n",
    "---\n",
    "## 5.1 Find the Input and Output  Names"
   ]
  },
  {
   "cell_type": "code",
   "execution_count": 26,
   "id": "3f50daed",
   "metadata": {},
   "outputs": [
    {
     "data": {
      "text/plain": [
       "(['age',\n",
       "  'time',\n",
       "  'TOTHH_CY',\n",
       "  'sex_M',\n",
       "  'sex_U',\n",
       "  'day_1',\n",
       "  'day_2',\n",
       "  'day_3',\n",
       "  'day_4',\n",
       "  'day_5',\n",
       "  'day_6',\n",
       "  'month_1',\n",
       "  'month_2',\n",
       "  'month_3',\n",
       "  'month_4',\n",
       "  'month_5',\n",
       "  'month_6',\n",
       "  'month_7',\n",
       "  'month_8',\n",
       "  'month_9',\n",
       "  'month_10',\n",
       "  'month_11'],\n",
       " ['MEDHINC_CY'])"
      ]
     },
     "execution_count": 26,
     "metadata": {},
     "output_type": "execute_result"
    }
   ],
   "source": [
    "inp = list(df_pandas_encoded.columns)\n",
    "oup = [\"MEDHINC_CY\"]\n",
    "for x in oup:\n",
    "    inp.remove(x)\n",
    "inp.remove('fel_misd')\n",
    "inp, oup"
   ]
  },
  {
   "cell_type": "markdown",
   "id": "c306bf0d",
   "metadata": {},
   "source": [
    "---\n",
    "## 5.2 Split Train and Test Data"
   ]
  },
  {
   "cell_type": "code",
   "execution_count": 27,
   "id": "a9589e32",
   "metadata": {},
   "outputs": [],
   "source": [
    "x,y = df_pandas_encoded[inp], df_pandas_encoded[oup]\n",
    "x_train, x_test, y_train, y_test = train_test_split(x,y, train_size=0.8, test_size=0.2)"
   ]
  },
  {
   "cell_type": "markdown",
   "id": "79d5c104",
   "metadata": {},
   "source": [
    "---\n",
    "## 5.3 Find Combinations\n",
    "---\n",
    "### 5.3.1 5-Fold CV for Ridge Regression"
   ]
  },
  {
   "cell_type": "code",
   "execution_count": 28,
   "id": "b47b7c5e",
   "metadata": {},
   "outputs": [],
   "source": [
    "items = ['age','sex_M', 'day', 'month']\n",
    "combs = []\n",
    "for i in range(1, len(items)):\n",
    "    combs.append(list(set(itertools.combinations(items, i))))"
   ]
  },
  {
   "cell_type": "code",
   "execution_count": 29,
   "id": "85139c9c",
   "metadata": {},
   "outputs": [
    {
     "data": {
      "text/plain": [
       "{'features': ['sex_M',\n",
       "  'day_1',\n",
       "  'day_2',\n",
       "  'day_3',\n",
       "  'day_4',\n",
       "  'day_5',\n",
       "  'day_6',\n",
       "  'month_1',\n",
       "  'month_2',\n",
       "  'month_3',\n",
       "  'month_4',\n",
       "  'month_5',\n",
       "  'month_6',\n",
       "  'month_7',\n",
       "  'month_8',\n",
       "  'month_9',\n",
       "  'month_10',\n",
       "  'month_11'],\n",
       " 'score': -0.0006422252451616206,\n",
       " 'alpha': 0}"
      ]
     },
     "execution_count": 29,
     "metadata": {},
     "output_type": "execute_result"
    }
   ],
   "source": [
    "day_vals = ['day_1',\n",
    "          'day_2',\n",
    "          'day_3',\n",
    "          'day_4',\n",
    "          'day_5',\n",
    "          'day_6']\n",
    "\n",
    "month_vals = ['month_1',\n",
    "              'month_2',\n",
    "              'month_3',\n",
    "              'month_4',\n",
    "              'month_5',\n",
    "              'month_6',\n",
    "              'month_7',\n",
    "              'month_8',\n",
    "              'month_9',\n",
    "              'month_10',\n",
    "              'month_11']\n",
    "\n",
    "best_dict = {\"features\": [], \"score\": -2**31, \"alpha\": 0}\n",
    "alpha_vals = np.logspace(-1,3,50)\n",
    "for k_amt in combs:\n",
    "    for ind_comb in k_amt:\n",
    "        comb = list(ind_comb)\n",
    "        if 'day' in comb:\n",
    "            comb.remove('day')\n",
    "            comb += day_vals\n",
    "        if 'month' in comb:\n",
    "            comb.remove('month')\n",
    "            comb += month_vals\n",
    "\n",
    "        \n",
    "        x_subset = x_train[comb].values\n",
    "        \n",
    "        for alpha in alpha_vals:\n",
    "            cvs = cross_val_score(linear_model.Ridge(alpha=alpha), x_subset, y_train)\n",
    "        \n",
    "        if cvs.mean() > best_dict[\"score\"]:\n",
    "            best_dict[\"features\"] = comb\n",
    "            best_dict[\"score\"] = cvs.mean()\n",
    "best_dict"
   ]
  },
  {
   "cell_type": "markdown",
   "id": "0b549f98",
   "metadata": {},
   "source": [
    "---\n",
    "### 5.3.2 20-Fold CV for Lasso Regression"
   ]
  },
  {
   "cell_type": "code",
   "execution_count": 30,
   "id": "00ffe302",
   "metadata": {},
   "outputs": [
    {
     "data": {
      "text/plain": [
       "Index(['age', 'time', 'TOTHH_CY', 'sex_M', 'sex_U', 'day_1', 'day_2', 'day_3',\n",
       "       'day_4', 'day_5', 'day_6', 'month_1', 'month_2', 'month_3', 'month_4',\n",
       "       'month_5', 'month_6', 'month_7', 'month_8', 'month_9', 'month_10',\n",
       "       'month_11'],\n",
       "      dtype='object')"
      ]
     },
     "execution_count": 30,
     "metadata": {},
     "output_type": "execute_result"
    }
   ],
   "source": [
    "x_train.columns"
   ]
  },
  {
   "cell_type": "code",
   "execution_count": 31,
   "id": "c4fc35e3",
   "metadata": {},
   "outputs": [
    {
     "data": {
      "text/html": [
       "<div>\n",
       "<style scoped>\n",
       "    .dataframe tbody tr th:only-of-type {\n",
       "        vertical-align: middle;\n",
       "    }\n",
       "\n",
       "    .dataframe tbody tr th {\n",
       "        vertical-align: top;\n",
       "    }\n",
       "\n",
       "    .dataframe thead th {\n",
       "        text-align: right;\n",
       "    }\n",
       "</style>\n",
       "<table border=\"1\" class=\"dataframe\">\n",
       "  <thead>\n",
       "    <tr style=\"text-align: right;\">\n",
       "      <th></th>\n",
       "      <th>age</th>\n",
       "      <th>time</th>\n",
       "      <th>TOTHH_CY</th>\n",
       "      <th>sex_M</th>\n",
       "      <th>sex_U</th>\n",
       "      <th>day_1</th>\n",
       "      <th>day_2</th>\n",
       "      <th>day_3</th>\n",
       "      <th>day_4</th>\n",
       "      <th>day_5</th>\n",
       "      <th>...</th>\n",
       "      <th>month_2</th>\n",
       "      <th>month_3</th>\n",
       "      <th>month_4</th>\n",
       "      <th>month_5</th>\n",
       "      <th>month_6</th>\n",
       "      <th>month_7</th>\n",
       "      <th>month_8</th>\n",
       "      <th>month_9</th>\n",
       "      <th>month_10</th>\n",
       "      <th>month_11</th>\n",
       "    </tr>\n",
       "  </thead>\n",
       "  <tbody>\n",
       "    <tr>\n",
       "      <th>7993</th>\n",
       "      <td>2.135228</td>\n",
       "      <td>239.0</td>\n",
       "      <td>-0.992948</td>\n",
       "      <td>1</td>\n",
       "      <td>0</td>\n",
       "      <td>1</td>\n",
       "      <td>0</td>\n",
       "      <td>0</td>\n",
       "      <td>0</td>\n",
       "      <td>0</td>\n",
       "      <td>...</td>\n",
       "      <td>0</td>\n",
       "      <td>0</td>\n",
       "      <td>0</td>\n",
       "      <td>0</td>\n",
       "      <td>0</td>\n",
       "      <td>0</td>\n",
       "      <td>0</td>\n",
       "      <td>0</td>\n",
       "      <td>0</td>\n",
       "      <td>0</td>\n",
       "    </tr>\n",
       "    <tr>\n",
       "      <th>50496</th>\n",
       "      <td>0.067545</td>\n",
       "      <td>1230.0</td>\n",
       "      <td>-0.618324</td>\n",
       "      <td>0</td>\n",
       "      <td>0</td>\n",
       "      <td>0</td>\n",
       "      <td>0</td>\n",
       "      <td>0</td>\n",
       "      <td>1</td>\n",
       "      <td>0</td>\n",
       "      <td>...</td>\n",
       "      <td>0</td>\n",
       "      <td>0</td>\n",
       "      <td>0</td>\n",
       "      <td>1</td>\n",
       "      <td>0</td>\n",
       "      <td>0</td>\n",
       "      <td>0</td>\n",
       "      <td>0</td>\n",
       "      <td>0</td>\n",
       "      <td>0</td>\n",
       "    </tr>\n",
       "    <tr>\n",
       "      <th>9141</th>\n",
       "      <td>0.150253</td>\n",
       "      <td>1842.0</td>\n",
       "      <td>1.428731</td>\n",
       "      <td>0</td>\n",
       "      <td>0</td>\n",
       "      <td>0</td>\n",
       "      <td>0</td>\n",
       "      <td>0</td>\n",
       "      <td>0</td>\n",
       "      <td>0</td>\n",
       "      <td>...</td>\n",
       "      <td>1</td>\n",
       "      <td>0</td>\n",
       "      <td>0</td>\n",
       "      <td>0</td>\n",
       "      <td>0</td>\n",
       "      <td>0</td>\n",
       "      <td>0</td>\n",
       "      <td>0</td>\n",
       "      <td>0</td>\n",
       "      <td>0</td>\n",
       "    </tr>\n",
       "    <tr>\n",
       "      <th>17060</th>\n",
       "      <td>0.398375</td>\n",
       "      <td>1010.0</td>\n",
       "      <td>0.449802</td>\n",
       "      <td>1</td>\n",
       "      <td>0</td>\n",
       "      <td>0</td>\n",
       "      <td>1</td>\n",
       "      <td>0</td>\n",
       "      <td>0</td>\n",
       "      <td>0</td>\n",
       "      <td>...</td>\n",
       "      <td>0</td>\n",
       "      <td>0</td>\n",
       "      <td>0</td>\n",
       "      <td>1</td>\n",
       "      <td>0</td>\n",
       "      <td>0</td>\n",
       "      <td>0</td>\n",
       "      <td>0</td>\n",
       "      <td>0</td>\n",
       "      <td>0</td>\n",
       "    </tr>\n",
       "    <tr>\n",
       "      <th>2156</th>\n",
       "      <td>-0.924942</td>\n",
       "      <td>2117.0</td>\n",
       "      <td>-0.405740</td>\n",
       "      <td>0</td>\n",
       "      <td>0</td>\n",
       "      <td>0</td>\n",
       "      <td>0</td>\n",
       "      <td>0</td>\n",
       "      <td>0</td>\n",
       "      <td>0</td>\n",
       "      <td>...</td>\n",
       "      <td>0</td>\n",
       "      <td>0</td>\n",
       "      <td>0</td>\n",
       "      <td>0</td>\n",
       "      <td>0</td>\n",
       "      <td>0</td>\n",
       "      <td>0</td>\n",
       "      <td>0</td>\n",
       "      <td>0</td>\n",
       "      <td>0</td>\n",
       "    </tr>\n",
       "    <tr>\n",
       "      <th>...</th>\n",
       "      <td>...</td>\n",
       "      <td>...</td>\n",
       "      <td>...</td>\n",
       "      <td>...</td>\n",
       "      <td>...</td>\n",
       "      <td>...</td>\n",
       "      <td>...</td>\n",
       "      <td>...</td>\n",
       "      <td>...</td>\n",
       "      <td>...</td>\n",
       "      <td>...</td>\n",
       "      <td>...</td>\n",
       "      <td>...</td>\n",
       "      <td>...</td>\n",
       "      <td>...</td>\n",
       "      <td>...</td>\n",
       "      <td>...</td>\n",
       "      <td>...</td>\n",
       "      <td>...</td>\n",
       "      <td>...</td>\n",
       "      <td>...</td>\n",
       "    </tr>\n",
       "    <tr>\n",
       "      <th>33502</th>\n",
       "      <td>0.067545</td>\n",
       "      <td>1016.0</td>\n",
       "      <td>-1.116337</td>\n",
       "      <td>1</td>\n",
       "      <td>0</td>\n",
       "      <td>0</td>\n",
       "      <td>0</td>\n",
       "      <td>0</td>\n",
       "      <td>0</td>\n",
       "      <td>1</td>\n",
       "      <td>...</td>\n",
       "      <td>0</td>\n",
       "      <td>0</td>\n",
       "      <td>0</td>\n",
       "      <td>0</td>\n",
       "      <td>0</td>\n",
       "      <td>0</td>\n",
       "      <td>0</td>\n",
       "      <td>0</td>\n",
       "      <td>1</td>\n",
       "      <td>0</td>\n",
       "    </tr>\n",
       "    <tr>\n",
       "      <th>47330</th>\n",
       "      <td>-0.428698</td>\n",
       "      <td>1535.0</td>\n",
       "      <td>-0.442905</td>\n",
       "      <td>1</td>\n",
       "      <td>0</td>\n",
       "      <td>0</td>\n",
       "      <td>1</td>\n",
       "      <td>0</td>\n",
       "      <td>0</td>\n",
       "      <td>0</td>\n",
       "      <td>...</td>\n",
       "      <td>0</td>\n",
       "      <td>1</td>\n",
       "      <td>0</td>\n",
       "      <td>0</td>\n",
       "      <td>0</td>\n",
       "      <td>0</td>\n",
       "      <td>0</td>\n",
       "      <td>0</td>\n",
       "      <td>0</td>\n",
       "      <td>0</td>\n",
       "    </tr>\n",
       "    <tr>\n",
       "      <th>63240</th>\n",
       "      <td>0.563789</td>\n",
       "      <td>1201.0</td>\n",
       "      <td>0.055851</td>\n",
       "      <td>1</td>\n",
       "      <td>0</td>\n",
       "      <td>0</td>\n",
       "      <td>1</td>\n",
       "      <td>0</td>\n",
       "      <td>0</td>\n",
       "      <td>0</td>\n",
       "      <td>...</td>\n",
       "      <td>0</td>\n",
       "      <td>0</td>\n",
       "      <td>0</td>\n",
       "      <td>0</td>\n",
       "      <td>0</td>\n",
       "      <td>0</td>\n",
       "      <td>0</td>\n",
       "      <td>0</td>\n",
       "      <td>1</td>\n",
       "      <td>0</td>\n",
       "    </tr>\n",
       "    <tr>\n",
       "      <th>52820</th>\n",
       "      <td>0.563789</td>\n",
       "      <td>2026.0</td>\n",
       "      <td>-1.154988</td>\n",
       "      <td>1</td>\n",
       "      <td>0</td>\n",
       "      <td>0</td>\n",
       "      <td>0</td>\n",
       "      <td>0</td>\n",
       "      <td>0</td>\n",
       "      <td>0</td>\n",
       "      <td>...</td>\n",
       "      <td>0</td>\n",
       "      <td>0</td>\n",
       "      <td>0</td>\n",
       "      <td>0</td>\n",
       "      <td>1</td>\n",
       "      <td>0</td>\n",
       "      <td>0</td>\n",
       "      <td>0</td>\n",
       "      <td>0</td>\n",
       "      <td>0</td>\n",
       "    </tr>\n",
       "    <tr>\n",
       "      <th>12395</th>\n",
       "      <td>-0.180577</td>\n",
       "      <td>713.0</td>\n",
       "      <td>2.004790</td>\n",
       "      <td>1</td>\n",
       "      <td>0</td>\n",
       "      <td>1</td>\n",
       "      <td>0</td>\n",
       "      <td>0</td>\n",
       "      <td>0</td>\n",
       "      <td>0</td>\n",
       "      <td>...</td>\n",
       "      <td>0</td>\n",
       "      <td>1</td>\n",
       "      <td>0</td>\n",
       "      <td>0</td>\n",
       "      <td>0</td>\n",
       "      <td>0</td>\n",
       "      <td>0</td>\n",
       "      <td>0</td>\n",
       "      <td>0</td>\n",
       "      <td>0</td>\n",
       "    </tr>\n",
       "  </tbody>\n",
       "</table>\n",
       "<p>5613 rows × 22 columns</p>\n",
       "</div>"
      ],
      "text/plain": [
       "            age    time  TOTHH_CY  sex_M  sex_U  day_1  day_2  day_3  day_4  \\\n",
       "7993   2.135228   239.0 -0.992948      1      0      1      0      0      0   \n",
       "50496  0.067545  1230.0 -0.618324      0      0      0      0      0      1   \n",
       "9141   0.150253  1842.0  1.428731      0      0      0      0      0      0   \n",
       "17060  0.398375  1010.0  0.449802      1      0      0      1      0      0   \n",
       "2156  -0.924942  2117.0 -0.405740      0      0      0      0      0      0   \n",
       "...         ...     ...       ...    ...    ...    ...    ...    ...    ...   \n",
       "33502  0.067545  1016.0 -1.116337      1      0      0      0      0      0   \n",
       "47330 -0.428698  1535.0 -0.442905      1      0      0      1      0      0   \n",
       "63240  0.563789  1201.0  0.055851      1      0      0      1      0      0   \n",
       "52820  0.563789  2026.0 -1.154988      1      0      0      0      0      0   \n",
       "12395 -0.180577   713.0  2.004790      1      0      1      0      0      0   \n",
       "\n",
       "       day_5  ...  month_2  month_3  month_4  month_5  month_6  month_7  \\\n",
       "7993       0  ...        0        0        0        0        0        0   \n",
       "50496      0  ...        0        0        0        1        0        0   \n",
       "9141       0  ...        1        0        0        0        0        0   \n",
       "17060      0  ...        0        0        0        1        0        0   \n",
       "2156       0  ...        0        0        0        0        0        0   \n",
       "...      ...  ...      ...      ...      ...      ...      ...      ...   \n",
       "33502      1  ...        0        0        0        0        0        0   \n",
       "47330      0  ...        0        1        0        0        0        0   \n",
       "63240      0  ...        0        0        0        0        0        0   \n",
       "52820      0  ...        0        0        0        0        1        0   \n",
       "12395      0  ...        0        1        0        0        0        0   \n",
       "\n",
       "       month_8  month_9  month_10  month_11  \n",
       "7993         0        0         0         0  \n",
       "50496        0        0         0         0  \n",
       "9141         0        0         0         0  \n",
       "17060        0        0         0         0  \n",
       "2156         0        0         0         0  \n",
       "...        ...      ...       ...       ...  \n",
       "33502        0        0         1         0  \n",
       "47330        0        0         0         0  \n",
       "63240        0        0         1         0  \n",
       "52820        0        0         0         0  \n",
       "12395        0        0         0         0  \n",
       "\n",
       "[5613 rows x 22 columns]"
      ]
     },
     "execution_count": 31,
     "metadata": {},
     "output_type": "execute_result"
    }
   ],
   "source": [
    "x_train"
   ]
  },
  {
   "cell_type": "code",
   "execution_count": 32,
   "id": "618b7a9f",
   "metadata": {},
   "outputs": [
    {
     "name": "stdout",
     "output_type": "stream",
     "text": [
      "Best Average MSE: 1.0513676493795707 with min_alpha=0.0015426700490274987\n"
     ]
    }
   ],
   "source": [
    "lasso = linear_model.LassoLarsCV(cv=20)\n",
    "lasso.fit(x_train, y_train)\n",
    "lasso_mse=lasso.mse_path_\n",
    "lasso_alphas = lasso.cv_alphas_\n",
    "mse_mean = []\n",
    "mse_std = []\n",
    "for i in range(len(lasso_mse)):\n",
    "    mse_mean.append(lasso_mse[i].mean())\n",
    "    mse_std.append(lasso_mse[i].std())\n",
    "    \n",
    "min_alpha = lasso_alphas[np.argmin(mse_mean)]\n",
    "print(f\"Best Average MSE: {min(mse_mean)} with {min_alpha=}\")"
   ]
  },
  {
   "cell_type": "code",
   "execution_count": 33,
   "id": "e05e8381",
   "metadata": {},
   "outputs": [
    {
     "data": {
      "image/png": "[encoded data removed]",
      "text/plain": [
       "<Figure size 640x480 with 1 Axes>"
      ]
     },
     "metadata": {},
     "output_type": "display_data"
    }
   ],
   "source": [
    "plt.errorbar(lasso_alphas,mse_mean, yerr=mse_std,fmt=\"o\", capsize=5, color=\"blue\")\n",
    "plt.scatter(lasso_alphas, mse_mean, color='blue')\n",
    "plt.xscale('log')\n",
    "\n",
    "plt.axvline(x=min_alpha, color='red')\n",
    "plt.xlabel('Alpha')\n",
    "plt.ylabel('Mean MSE')\n",
    "plt.title('Alpha vs Mean MSE');"
   ]
  },
  {
   "cell_type": "markdown",
   "id": "0a71b1a8",
   "metadata": {},
   "source": [
    "-----\n",
    "# 6. Training Regression Models\n",
    "- Find the input variables wanted\n",
    "- Split the data\n",
    "- Find all the possible combinations of inputs\n",
    "- Use cross validation for multiple alpha values for a Ridge model\n",
    "- Use cross validation on the Lasso model\n",
    "- Visualize the Lasso alphas\n",
    "- Fit the Ridge regression (Linear regression since $\\alpha=0$\n",
    "- Show the relevent information\n",
    "    - $R^2$ \n",
    "    - Residual plot\n",
    "- Fit the Lasso regression with the best $\\alpha$\n",
    "- Show the relevent information\n",
    "    - $R^2$ \n",
    "    - Residual plot\n",
    "- Show the weights for each input and model\n",
    "    - Both tabular and heatmap\n",
    "\n",
    "---\n",
    "## 6.1 Training Linear Regression\n",
    "- Note that the $\\alpha$ found from Ridge is 0 so the documentation suggests to just use linear regression\n",
    "    - https://scikitlearn.org/1.5/modules/generated/sklearn.linear_model.Ridge.html\n"
   ]
  },
  {
   "cell_type": "code",
   "execution_count": 34,
   "id": "5d861fe7",
   "metadata": {},
   "outputs": [
    {
     "data": {
      "text/html": [
       "<style>#sk-container-id-2 {color: black;}#sk-container-id-2 pre{padding: 0;}#sk-container-id-2 div.sk-toggleable {background-color: white;}#sk-container-id-2 label.sk-toggleable__label {cursor: pointer;display: block;width: 100%;margin-bottom: 0;padding: 0.3em;box-sizing: border-box;text-align: center;}#sk-container-id-2 label.sk-toggleable__label-arrow:before {content: \"▸\";float: left;margin-right: 0.25em;color: #696969;}#sk-container-id-2 label.sk-toggleable__label-arrow:hover:before {color: black;}#sk-container-id-2 div.sk-estimator:hover label.sk-toggleable__label-arrow:before {color: black;}#sk-container-id-2 div.sk-toggleable__content {max-height: 0;max-width: 0;overflow: hidden;text-align: left;background-color: #f0f8ff;}#sk-container-id-2 div.sk-toggleable__content pre {margin: 0.2em;color: black;border-radius: 0.25em;background-color: #f0f8ff;}#sk-container-id-2 input.sk-toggleable__control:checked~div.sk-toggleable__content {max-height: 200px;max-width: 100%;overflow: auto;}#sk-container-id-2 input.sk-toggleable__control:checked~label.sk-toggleable__label-arrow:before {content: \"▾\";}#sk-container-id-2 div.sk-estimator input.sk-toggleable__control:checked~label.sk-toggleable__label {background-color: #d4ebff;}#sk-container-id-2 div.sk-label input.sk-toggleable__control:checked~label.sk-toggleable__label {background-color: #d4ebff;}#sk-container-id-2 input.sk-hidden--visually {border: 0;clip: rect(1px 1px 1px 1px);clip: rect(1px, 1px, 1px, 1px);height: 1px;margin: -1px;overflow: hidden;padding: 0;position: absolute;width: 1px;}#sk-container-id-2 div.sk-estimator {font-family: monospace;background-color: #f0f8ff;border: 1px dotted black;border-radius: 0.25em;box-sizing: border-box;margin-bottom: 0.5em;}#sk-container-id-2 div.sk-estimator:hover {background-color: #d4ebff;}#sk-container-id-2 div.sk-parallel-item::after {content: \"\";width: 100%;border-bottom: 1px solid gray;flex-grow: 1;}#sk-container-id-2 div.sk-label:hover label.sk-toggleable__label {background-color: #d4ebff;}#sk-container-id-2 div.sk-serial::before {content: \"\";position: absolute;border-left: 1px solid gray;box-sizing: border-box;top: 0;bottom: 0;left: 50%;z-index: 0;}#sk-container-id-2 div.sk-serial {display: flex;flex-direction: column;align-items: center;background-color: white;padding-right: 0.2em;padding-left: 0.2em;position: relative;}#sk-container-id-2 div.sk-item {position: relative;z-index: 1;}#sk-container-id-2 div.sk-parallel {display: flex;align-items: stretch;justify-content: center;background-color: white;position: relative;}#sk-container-id-2 div.sk-item::before, #sk-container-id-2 div.sk-parallel-item::before {content: \"\";position: absolute;border-left: 1px solid gray;box-sizing: border-box;top: 0;bottom: 0;left: 50%;z-index: -1;}#sk-container-id-2 div.sk-parallel-item {display: flex;flex-direction: column;z-index: 1;position: relative;background-color: white;}#sk-container-id-2 div.sk-parallel-item:first-child::after {align-self: flex-end;width: 50%;}#sk-container-id-2 div.sk-parallel-item:last-child::after {align-self: flex-start;width: 50%;}#sk-container-id-2 div.sk-parallel-item:only-child::after {width: 0;}#sk-container-id-2 div.sk-dashed-wrapped {border: 1px dashed gray;margin: 0 0.4em 0.5em 0.4em;box-sizing: border-box;padding-bottom: 0.4em;background-color: white;}#sk-container-id-2 div.sk-label label {font-family: monospace;font-weight: bold;display: inline-block;line-height: 1.2em;}#sk-container-id-2 div.sk-label-container {text-align: center;}#sk-container-id-2 div.sk-container {/* jupyter's `normalize.less` sets `[hidden] { display: none; }` but bootstrap.min.css set `[hidden] { display: none !important; }` so we also need the `!important` here to be able to override the default hidden behavior on the sphinx rendered scikit-learn.org. See: https://github.com/scikit-learn/scikit-learn/issues/21755 */display: inline-block !important;position: relative;}#sk-container-id-2 div.sk-text-repr-fallback {display: none;}</style><div id=\"sk-container-id-2\" class=\"sk-top-container\"><div class=\"sk-text-repr-fallback\"><pre>LinearRegression()</pre><b>In a Jupyter environment, please rerun this cell to show the HTML representation or trust the notebook. <br />On GitHub, the HTML representation is unable to render, please try loading this page with nbviewer.org.</b></div><div class=\"sk-container\" hidden><div class=\"sk-item\"><div class=\"sk-estimator sk-toggleable\"><input class=\"sk-toggleable__control sk-hidden--visually\" id=\"sk-estimator-id-2\" type=\"checkbox\" checked><label for=\"sk-estimator-id-2\" class=\"sk-toggleable__label sk-toggleable__label-arrow\">LinearRegression</label><div class=\"sk-toggleable__content\"><pre>LinearRegression()</pre></div></div></div></div></div>"
      ],
      "text/plain": [
       "LinearRegression()"
      ]
     },
     "execution_count": 34,
     "metadata": {},
     "output_type": "execute_result"
    }
   ],
   "source": [
    "lr = linear_model.LinearRegression()\n",
    "\n",
    "x_train = x_train[best_dict[\"features\"]]\n",
    "x_test = x_test[best_dict[\"features\"]]\n",
    "\n",
    "lr.fit(x_train, y_train)"
   ]
  },
  {
   "cell_type": "markdown",
   "id": "705b780f",
   "metadata": {},
   "source": [
    "---\n",
    "## 6.2 Analysis\n",
    "---\n",
    "### 6.2.1 Coefficient of Determination: $R^2$ "
   ]
  },
  {
   "cell_type": "code",
   "execution_count": 35,
   "id": "69d0882e",
   "metadata": {},
   "outputs": [
    {
     "name": "stdout",
     "output_type": "stream",
     "text": [
      "R2 train: 0.006979599210872212\n",
      "R2 Test: 0.00013073254990170202\n"
     ]
    }
   ],
   "source": [
    "y_pred = lr.predict(x_test)\n",
    "print(f\"R2 train: {lr.score(x_train,y_train)}\")\n",
    "print(f\"R2 Test: {lr.score(x_test,y_test)}\")"
   ]
  },
  {
   "cell_type": "markdown",
   "id": "8949c8fc",
   "metadata": {},
   "source": [
    "---\n",
    "### 6.2.2 Residual Plot "
   ]
  },
  {
   "cell_type": "code",
   "execution_count": 36,
   "id": "8a197ebd",
   "metadata": {},
   "outputs": [
    {
     "data": {
      "image/png": "[encoded data removed]",
      "text/plain": [
       "<Figure size 640x480 with 1 Axes>"
      ]
     },
     "metadata": {},
     "output_type": "display_data"
    }
   ],
   "source": [
    "plt.scatter([i for i in range(len(y_test))],y_test-y_pred);\n",
    "plt.xlabel(\"Index\")\n",
    "plt.ylabel(\"y_actual-y_predicted\")\n",
    "plt.title(\"Residual Plot\");"
   ]
  },
  {
   "cell_type": "markdown",
   "id": "f9868ad6",
   "metadata": {},
   "source": [
    "---\n",
    "## 6.3 Training Lasso Regression"
   ]
  },
  {
   "cell_type": "code",
   "execution_count": 37,
   "id": "12a7328f",
   "metadata": {},
   "outputs": [
    {
     "data": {
      "text/html": [
       "<style>#sk-container-id-3 {color: black;}#sk-container-id-3 pre{padding: 0;}#sk-container-id-3 div.sk-toggleable {background-color: white;}#sk-container-id-3 label.sk-toggleable__label {cursor: pointer;display: block;width: 100%;margin-bottom: 0;padding: 0.3em;box-sizing: border-box;text-align: center;}#sk-container-id-3 label.sk-toggleable__label-arrow:before {content: \"▸\";float: left;margin-right: 0.25em;color: #696969;}#sk-container-id-3 label.sk-toggleable__label-arrow:hover:before {color: black;}#sk-container-id-3 div.sk-estimator:hover label.sk-toggleable__label-arrow:before {color: black;}#sk-container-id-3 div.sk-toggleable__content {max-height: 0;max-width: 0;overflow: hidden;text-align: left;background-color: #f0f8ff;}#sk-container-id-3 div.sk-toggleable__content pre {margin: 0.2em;color: black;border-radius: 0.25em;background-color: #f0f8ff;}#sk-container-id-3 input.sk-toggleable__control:checked~div.sk-toggleable__content {max-height: 200px;max-width: 100%;overflow: auto;}#sk-container-id-3 input.sk-toggleable__control:checked~label.sk-toggleable__label-arrow:before {content: \"▾\";}#sk-container-id-3 div.sk-estimator input.sk-toggleable__control:checked~label.sk-toggleable__label {background-color: #d4ebff;}#sk-container-id-3 div.sk-label input.sk-toggleable__control:checked~label.sk-toggleable__label {background-color: #d4ebff;}#sk-container-id-3 input.sk-hidden--visually {border: 0;clip: rect(1px 1px 1px 1px);clip: rect(1px, 1px, 1px, 1px);height: 1px;margin: -1px;overflow: hidden;padding: 0;position: absolute;width: 1px;}#sk-container-id-3 div.sk-estimator {font-family: monospace;background-color: #f0f8ff;border: 1px dotted black;border-radius: 0.25em;box-sizing: border-box;margin-bottom: 0.5em;}#sk-container-id-3 div.sk-estimator:hover {background-color: #d4ebff;}#sk-container-id-3 div.sk-parallel-item::after {content: \"\";width: 100%;border-bottom: 1px solid gray;flex-grow: 1;}#sk-container-id-3 div.sk-label:hover label.sk-toggleable__label {background-color: #d4ebff;}#sk-container-id-3 div.sk-serial::before {content: \"\";position: absolute;border-left: 1px solid gray;box-sizing: border-box;top: 0;bottom: 0;left: 50%;z-index: 0;}#sk-container-id-3 div.sk-serial {display: flex;flex-direction: column;align-items: center;background-color: white;padding-right: 0.2em;padding-left: 0.2em;position: relative;}#sk-container-id-3 div.sk-item {position: relative;z-index: 1;}#sk-container-id-3 div.sk-parallel {display: flex;align-items: stretch;justify-content: center;background-color: white;position: relative;}#sk-container-id-3 div.sk-item::before, #sk-container-id-3 div.sk-parallel-item::before {content: \"\";position: absolute;border-left: 1px solid gray;box-sizing: border-box;top: 0;bottom: 0;left: 50%;z-index: -1;}#sk-container-id-3 div.sk-parallel-item {display: flex;flex-direction: column;z-index: 1;position: relative;background-color: white;}#sk-container-id-3 div.sk-parallel-item:first-child::after {align-self: flex-end;width: 50%;}#sk-container-id-3 div.sk-parallel-item:last-child::after {align-self: flex-start;width: 50%;}#sk-container-id-3 div.sk-parallel-item:only-child::after {width: 0;}#sk-container-id-3 div.sk-dashed-wrapped {border: 1px dashed gray;margin: 0 0.4em 0.5em 0.4em;box-sizing: border-box;padding-bottom: 0.4em;background-color: white;}#sk-container-id-3 div.sk-label label {font-family: monospace;font-weight: bold;display: inline-block;line-height: 1.2em;}#sk-container-id-3 div.sk-label-container {text-align: center;}#sk-container-id-3 div.sk-container {/* jupyter's `normalize.less` sets `[hidden] { display: none; }` but bootstrap.min.css set `[hidden] { display: none !important; }` so we also need the `!important` here to be able to override the default hidden behavior on the sphinx rendered scikit-learn.org. See: https://github.com/scikit-learn/scikit-learn/issues/21755 */display: inline-block !important;position: relative;}#sk-container-id-3 div.sk-text-repr-fallback {display: none;}</style><div id=\"sk-container-id-3\" class=\"sk-top-container\"><div class=\"sk-text-repr-fallback\"><pre>Lasso(alpha=0.0015426700490274987)</pre><b>In a Jupyter environment, please rerun this cell to show the HTML representation or trust the notebook. <br />On GitHub, the HTML representation is unable to render, please try loading this page with nbviewer.org.</b></div><div class=\"sk-container\" hidden><div class=\"sk-item\"><div class=\"sk-estimator sk-toggleable\"><input class=\"sk-toggleable__control sk-hidden--visually\" id=\"sk-estimator-id-3\" type=\"checkbox\" checked><label for=\"sk-estimator-id-3\" class=\"sk-toggleable__label sk-toggleable__label-arrow\">Lasso</label><div class=\"sk-toggleable__content\"><pre>Lasso(alpha=0.0015426700490274987)</pre></div></div></div></div></div>"
      ],
      "text/plain": [
       "Lasso(alpha=0.0015426700490274987)"
      ]
     },
     "execution_count": 37,
     "metadata": {},
     "output_type": "execute_result"
    }
   ],
   "source": [
    "lr_lasso = linear_model.Lasso(alpha=min_alpha)\n",
    "lr_lasso.fit(x_train, y_train)"
   ]
  },
  {
   "cell_type": "markdown",
   "id": "4678f0cb",
   "metadata": {},
   "source": [
    "---\n",
    "## 6.4 Analysis\n",
    "---\n",
    "### 6.4.1 Coefficient of Determination: $R^2$"
   ]
  },
  {
   "cell_type": "code",
   "execution_count": 38,
   "id": "b0466b08",
   "metadata": {},
   "outputs": [
    {
     "name": "stdout",
     "output_type": "stream",
     "text": [
      "R2 train: 0.00661080494387245\n",
      "R2 Test: 0.001487486145747341\n"
     ]
    }
   ],
   "source": [
    "y_lasso_pred = lr_lasso.predict(x_test)\n",
    "print(f\"R2 train: {lr_lasso.score(x_train,y_train)}\")\n",
    "print(f\"R2 Test: {lr_lasso.score(x_test,y_test)}\")"
   ]
  },
  {
   "cell_type": "markdown",
   "id": "c5130400",
   "metadata": {},
   "source": [
    "---\n",
    "### 6.4.2 Residual Plot"
   ]
  },
  {
   "cell_type": "code",
   "execution_count": 39,
   "id": "5f4d2b13",
   "metadata": {},
   "outputs": [
    {
     "data": {
      "image/png": "[encoded data removed]",
      "text/plain": [
       "<Figure size 640x480 with 1 Axes>"
      ]
     },
     "metadata": {},
     "output_type": "display_data"
    }
   ],
   "source": [
    "plt.scatter([i for i in range(len(y_test))],y_test.values.reshape(-1)-y_lasso_pred);\n",
    "plt.xlabel(\"Index\")\n",
    "plt.ylabel(\"y_actual-y_predicted\")\n",
    "plt.title(\"Residual Plot\");"
   ]
  },
  {
   "cell_type": "markdown",
   "id": "eb1787ea",
   "metadata": {},
   "source": [
    "---\n",
    "## 6.5 Coefficient Weights"
   ]
  },
  {
   "cell_type": "code",
   "execution_count": 40,
   "id": "aca9b9aa",
   "metadata": {},
   "outputs": [
    {
     "data": {
      "text/html": [
       "<div>\n",
       "<style scoped>\n",
       "    .dataframe tbody tr th:only-of-type {\n",
       "        vertical-align: middle;\n",
       "    }\n",
       "\n",
       "    .dataframe tbody tr th {\n",
       "        vertical-align: top;\n",
       "    }\n",
       "\n",
       "    .dataframe thead th {\n",
       "        text-align: right;\n",
       "    }\n",
       "</style>\n",
       "<table border=\"1\" class=\"dataframe\">\n",
       "  <thead>\n",
       "    <tr style=\"text-align: right;\">\n",
       "      <th></th>\n",
       "      <th>sex_M</th>\n",
       "      <th>day_1</th>\n",
       "      <th>day_2</th>\n",
       "      <th>day_3</th>\n",
       "      <th>day_4</th>\n",
       "      <th>day_5</th>\n",
       "      <th>day_6</th>\n",
       "      <th>month_1</th>\n",
       "      <th>month_2</th>\n",
       "      <th>month_3</th>\n",
       "      <th>month_4</th>\n",
       "      <th>month_5</th>\n",
       "      <th>month_6</th>\n",
       "      <th>month_7</th>\n",
       "      <th>month_8</th>\n",
       "      <th>month_9</th>\n",
       "      <th>month_10</th>\n",
       "      <th>month_11</th>\n",
       "    </tr>\n",
       "    <tr>\n",
       "      <th>Name</th>\n",
       "      <th></th>\n",
       "      <th></th>\n",
       "      <th></th>\n",
       "      <th></th>\n",
       "      <th></th>\n",
       "      <th></th>\n",
       "      <th></th>\n",
       "      <th></th>\n",
       "      <th></th>\n",
       "      <th></th>\n",
       "      <th></th>\n",
       "      <th></th>\n",
       "      <th></th>\n",
       "      <th></th>\n",
       "      <th></th>\n",
       "      <th></th>\n",
       "      <th></th>\n",
       "      <th></th>\n",
       "    </tr>\n",
       "  </thead>\n",
       "  <tbody>\n",
       "    <tr>\n",
       "      <th>Linear Regression</th>\n",
       "      <td>-0.047795</td>\n",
       "      <td>-0.095105</td>\n",
       "      <td>-0.109859</td>\n",
       "      <td>-0.123495</td>\n",
       "      <td>-0.113723</td>\n",
       "      <td>-0.001314</td>\n",
       "      <td>0.000049</td>\n",
       "      <td>0.085314</td>\n",
       "      <td>0.015773</td>\n",
       "      <td>0.013278</td>\n",
       "      <td>0.026756</td>\n",
       "      <td>0.005319</td>\n",
       "      <td>-0.106605</td>\n",
       "      <td>-0.109365</td>\n",
       "      <td>-0.101664</td>\n",
       "      <td>0.032369</td>\n",
       "      <td>-0.046327</td>\n",
       "      <td>-0.000975</td>\n",
       "    </tr>\n",
       "    <tr>\n",
       "      <th>Lasso</th>\n",
       "      <td>-0.040793</td>\n",
       "      <td>-0.062497</td>\n",
       "      <td>-0.076703</td>\n",
       "      <td>-0.091623</td>\n",
       "      <td>-0.082161</td>\n",
       "      <td>0.009350</td>\n",
       "      <td>0.012127</td>\n",
       "      <td>0.068554</td>\n",
       "      <td>0.000000</td>\n",
       "      <td>0.000000</td>\n",
       "      <td>0.006672</td>\n",
       "      <td>0.000000</td>\n",
       "      <td>-0.089941</td>\n",
       "      <td>-0.093435</td>\n",
       "      <td>-0.085769</td>\n",
       "      <td>0.013968</td>\n",
       "      <td>-0.029093</td>\n",
       "      <td>-0.000000</td>\n",
       "    </tr>\n",
       "  </tbody>\n",
       "</table>\n",
       "</div>"
      ],
      "text/plain": [
       "                      sex_M     day_1     day_2     day_3     day_4     day_5  \\\n",
       "Name                                                                            \n",
       "Linear Regression -0.047795 -0.095105 -0.109859 -0.123495 -0.113723 -0.001314   \n",
       "Lasso             -0.040793 -0.062497 -0.076703 -0.091623 -0.082161  0.009350   \n",
       "\n",
       "                      day_6   month_1   month_2   month_3   month_4   month_5  \\\n",
       "Name                                                                            \n",
       "Linear Regression  0.000049  0.085314  0.015773  0.013278  0.026756  0.005319   \n",
       "Lasso              0.012127  0.068554  0.000000  0.000000  0.006672  0.000000   \n",
       "\n",
       "                    month_6   month_7   month_8   month_9  month_10  month_11  \n",
       "Name                                                                           \n",
       "Linear Regression -0.106605 -0.109365 -0.101664  0.032369 -0.046327 -0.000975  \n",
       "Lasso             -0.089941 -0.093435 -0.085769  0.013968 -0.029093 -0.000000  "
      ]
     },
     "execution_count": 40,
     "metadata": {},
     "output_type": "execute_result"
    }
   ],
   "source": [
    "# Insert code here\n",
    "df1 = pd.DataFrame(lr.coef_, columns=lr.feature_names_in_)\n",
    "df2 = pd.DataFrame(lr_lasso.coef_.reshape(1,-1), columns=lr_lasso.feature_names_in_)\n",
    "df = pd.concat([df1,df2])\n",
    "df[\"Name\"] = [\"Linear Regression\", \"Lasso\"]\n",
    "df = df.set_index(df[\"Name\"])\n",
    "df = df.drop(\"Name\", axis=1)\n",
    "df"
   ]
  },
  {
   "cell_type": "code",
   "execution_count": 41,
   "id": "f0e226ea",
   "metadata": {},
   "outputs": [
    {
     "data": {
      "image/png": "[encoded data removed]",
      "text/plain": [
       "<Figure size 640x480 with 2 Axes>"
      ]
     },
     "metadata": {},
     "output_type": "display_data"
    }
   ],
   "source": [
    "sb.heatmap(df.T, annot=True, cmap='Blues')\n",
    "plt.xlabel('Type of Model')\n",
    "plt.ylabel('Input')\n",
    "plt.title(\"Heatmap of Coefficients for Inputs per Model\")\n",
    "plt.show()"
   ]
  }
 ],
 "metadata": {
  "kernelspec": {
   "display_name": "Python 3 (ipykernel)",
   "language": "python",
   "name": "python3"
  },
  "language_info": {
   "codemirror_mode": {
    "name": "ipython",
    "version": 3
   },
   "file_extension": ".py",
   "mimetype": "text/x-python",
   "name": "python",
   "nbconvert_exporter": "python",
   "pygments_lexer": "ipython3",
   "version": "3.11.4"
  }
 },
 "nbformat": 4,
 "nbformat_minor": 5
}
