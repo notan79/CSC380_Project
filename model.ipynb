{
 "cells": [
  {
   "cell_type": "code",
   "execution_count": 1,
   "id": "77cd318b",
   "metadata": {},
   "outputs": [],
   "source": [
    "import pandas as pd\n",
    "import numpy as np\n",
    "from sklearn import linear_model"
   ]
  },
  {
   "cell_type": "code",
   "execution_count": 2,
   "id": "fdbc07a7",
   "metadata": {},
   "outputs": [
    {
     "data": {
      "text/html": [
       "<div>\n",
       "<style scoped>\n",
       "    .dataframe tbody tr th:only-of-type {\n",
       "        vertical-align: middle;\n",
       "    }\n",
       "\n",
       "    .dataframe tbody tr th {\n",
       "        vertical-align: top;\n",
       "    }\n",
       "\n",
       "    .dataframe thead th {\n",
       "        text-align: right;\n",
       "    }\n",
       "</style>\n",
       "<table border=\"1\" class=\"dataframe\">\n",
       "  <thead>\n",
       "    <tr style=\"text-align: right;\">\n",
       "      <th></th>\n",
       "      <th>sex</th>\n",
       "      <th>age</th>\n",
       "      <th>day</th>\n",
       "      <th>month</th>\n",
       "      <th>MEDHINC_CY</th>\n",
       "      <th>WLTHINDXCY</th>\n",
       "      <th>fel_misd</th>\n",
       "    </tr>\n",
       "  </thead>\n",
       "  <tbody>\n",
       "    <tr>\n",
       "      <th>0</th>\n",
       "      <td>1.0</td>\n",
       "      <td>21.0</td>\n",
       "      <td>4.0</td>\n",
       "      <td>0.0</td>\n",
       "      <td>25336.0</td>\n",
       "      <td>27.0</td>\n",
       "      <td>2.0</td>\n",
       "    </tr>\n",
       "    <tr>\n",
       "      <th>1</th>\n",
       "      <td>1.0</td>\n",
       "      <td>21.0</td>\n",
       "      <td>4.0</td>\n",
       "      <td>0.0</td>\n",
       "      <td>25336.0</td>\n",
       "      <td>27.0</td>\n",
       "      <td>2.0</td>\n",
       "    </tr>\n",
       "    <tr>\n",
       "      <th>2</th>\n",
       "      <td>1.0</td>\n",
       "      <td>24.0</td>\n",
       "      <td>5.0</td>\n",
       "      <td>0.0</td>\n",
       "      <td>25427.0</td>\n",
       "      <td>30.0</td>\n",
       "      <td>2.0</td>\n",
       "    </tr>\n",
       "    <tr>\n",
       "      <th>3</th>\n",
       "      <td>1.0</td>\n",
       "      <td>24.0</td>\n",
       "      <td>5.0</td>\n",
       "      <td>0.0</td>\n",
       "      <td>25427.0</td>\n",
       "      <td>30.0</td>\n",
       "      <td>2.0</td>\n",
       "    </tr>\n",
       "    <tr>\n",
       "      <th>4</th>\n",
       "      <td>1.0</td>\n",
       "      <td>21.0</td>\n",
       "      <td>4.0</td>\n",
       "      <td>0.0</td>\n",
       "      <td>25336.0</td>\n",
       "      <td>27.0</td>\n",
       "      <td>2.0</td>\n",
       "    </tr>\n",
       "  </tbody>\n",
       "</table>\n",
       "</div>"
      ],
      "text/plain": [
       "   sex   age  day  month  MEDHINC_CY  WLTHINDXCY  fel_misd\n",
       "0  1.0  21.0  4.0    0.0     25336.0        27.0       2.0\n",
       "1  1.0  21.0  4.0    0.0     25336.0        27.0       2.0\n",
       "2  1.0  24.0  5.0    0.0     25427.0        30.0       2.0\n",
       "3  1.0  24.0  5.0    0.0     25427.0        30.0       2.0\n",
       "4  1.0  21.0  4.0    0.0     25336.0        27.0       2.0"
      ]
     },
     "execution_count": 2,
     "metadata": {},
     "output_type": "execute_result"
    }
   ],
   "source": [
    "df = pd.read_csv(\"./clean_data/updated_fully_merged_data.csv\", dtype=np.float64)\n",
    "df.head()"
   ]
  },
  {
   "cell_type": "code",
   "execution_count": 11,
   "id": "10866368",
   "metadata": {},
   "outputs": [
    {
     "data": {
      "text/plain": [
       "(sex          -1.069812e-17\n",
       " age           1.486255e-16\n",
       " day           1.001970e-17\n",
       " month        -4.007879e-17\n",
       " MEDHINC_CY    1.008381e-16\n",
       " WLTHINDXCY   -1.062775e-16\n",
       " fel_misd     -1.669950e-17\n",
       " dtype: float64,\n",
       " sex           1.0\n",
       " age           1.0\n",
       " day           1.0\n",
       " month         1.0\n",
       " MEDHINC_CY    1.0\n",
       " WLTHINDXCY    1.0\n",
       " fel_misd      1.0\n",
       " dtype: float64,\n",
       "        sex       age       day     month  MEDHINC_CY  WLTHINDXCY  fel_misd\n",
       " 0  0.57634 -1.008905  0.477886 -1.498356   -0.796520   -0.501925  0.093367\n",
       " 1  0.57634 -1.008905  0.477886 -1.498356   -0.796520   -0.501925  0.093367\n",
       " 2  0.57634 -0.760608  0.979050 -1.498356   -0.789672   -0.372174  0.093367\n",
       " 3  0.57634 -0.760608  0.979050 -1.498356   -0.789672   -0.372174  0.093367\n",
       " 4  0.57634 -1.008905  0.477886 -1.498356   -0.796520   -0.501925  0.093367)"
      ]
     },
     "execution_count": 11,
     "metadata": {},
     "output_type": "execute_result"
    }
   ],
   "source": [
    "norm = (df - df.mean())/df.std()\n",
    "norm.mean(), norm.std(), norm.head()"
   ]
  },
  {
   "cell_type": "code",
   "execution_count": null,
   "id": "27409b55",
   "metadata": {},
   "outputs": [],
   "source": []
  }
 ],
 "metadata": {
  "kernelspec": {
   "display_name": "Python 3 (ipykernel)",
   "language": "python",
   "name": "python3"
  },
  "language_info": {
   "codemirror_mode": {
    "name": "ipython",
    "version": 3
   },
   "file_extension": ".py",
   "mimetype": "text/x-python",
   "name": "python",
   "nbconvert_exporter": "python",
   "pygments_lexer": "ipython3",
   "version": "3.11.4"
  }
 },
 "nbformat": 4,
 "nbformat_minor": 5
}
