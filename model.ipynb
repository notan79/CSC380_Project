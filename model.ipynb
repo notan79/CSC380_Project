{
 "cells": [
  {
   "cell_type": "markdown",
   "id": "9ec401b5",
   "metadata": {},
   "source": [
    "---\n",
    "## Final Project:\n",
    "### Nathan Crutchfield and Trevor Nemitz\n",
    "### CSC380: Principles of Data Science\n",
    "### Cesim Erten  "
   ]
  },
  {
   "cell_type": "markdown",
   "id": "0666946a",
   "metadata": {},
   "source": [
    "- - - - - - - - - - - - - - - - - - -\n",
    "# 1. Imports\n",
    "## Relevent Modules:\n",
    "    - Pandas     - dataframe, data representation\n",
    "    - Numpy      - data manipulation, random generation\n",
    "    - Sklearn    - Regression models, data split, one-hot encoding, \n",
    "                   metrics, cross validation\n",
    "    - Matplotlib - Data visualization\n",
    "    - Seaborn    - Data visualization\n",
    "    - Random     - Shuffling data\n",
    "    - Scipy      - T-Test\n",
    "\n",
    "## Module Versions:\n",
    "    - Pandas:     '1.5.3'\n",
    "    - Numpy:      '1.24.3'\n",
    "    - Sklearn:    '1.3.0'\n",
    "    - Matplotlib: '3.7.1'\n",
    "    - Seaborn:    '0.12.2'\n",
    "    - Scipy:      '1.10.1'"
   ]
  },
  {
   "cell_type": "code",
   "execution_count": 1,
   "id": "822d49b6",
   "metadata": {},
   "outputs": [],
   "source": [
    "import warnings\n",
    "warnings.filterwarnings('ignore')"
   ]
  },
  {
   "cell_type": "code",
   "execution_count": 2,
   "id": "77cd318b",
   "metadata": {},
   "outputs": [],
   "source": [
    "import pandas as pd\n",
    "import numpy as np\n",
    "from sklearn import linear_model\n",
    "from sklearn.model_selection import train_test_split\n",
    "from sklearn.preprocessing import OneHotEncoder\n",
    "from random import shuffle\n",
    "\n",
    "from sklearn.metrics import confusion_matrix, classification_report\n",
    "from sklearn.model_selection import cross_val_score\n",
    "\n",
    "import matplotlib.pyplot as plt\n",
    "import seaborn as sb\n",
    "\n",
    "from scipy.stats import t"
   ]
  },
  {
   "cell_type": "markdown",
   "id": "1e4fa37a",
   "metadata": {},
   "source": [
    "- - - - - - - - - - - - - - - - - - -\n",
    "# 2. Data\n",
    " - Reads in the data from a cleaned file\n",
    " - Removes null lines and corrects empty class for 'fel_misd'\n",
    " - Normalizes the relevent columns\n",
    " - Remove the oversized and generate data for undersized classes:\n",
    "     - M: 46803 $\\to$ 2194\n",
    "     - F: 16407 $\\to$ 2194\n",
    "     - C: 2194  $\\to$ 2194\n",
    "     - S: 240   $\\to$  360\n",
    "     - P: 50    $\\to$   75\n",
    "     \n",
    "     - Note that the data generation is done using the distribution\n",
    "       of each of the inputs per each class. Since the inputs have\n",
    "       low correleation (see the correlation heatmap) the joint pdf\n",
    "       will be extremely close to the individual pdf for each input.\n",
    " - One hot encode the inputs"
   ]
  },
  {
   "cell_type": "markdown",
   "id": "dc292f1a",
   "metadata": {},
   "source": [
    "---\n",
    "## 2.1 Reading Data"
   ]
  },
  {
   "cell_type": "code",
   "execution_count": 3,
   "id": "fdbc07a7",
   "metadata": {},
   "outputs": [
    {
     "data": {
      "text/plain": [
       "(68078, 9)"
      ]
     },
     "execution_count": 3,
     "metadata": {},
     "output_type": "execute_result"
    }
   ],
   "source": [
    "df = pd.read_csv(\"./clean_data/fully_merged_data.csv\")\n",
    "df.shape"
   ]
  },
  {
   "cell_type": "code",
   "execution_count": 4,
   "id": "13c3e633",
   "metadata": {},
   "outputs": [
    {
     "data": {
      "text/plain": [
       "(67927, 9)"
      ]
     },
     "execution_count": 4,
     "metadata": {},
     "output_type": "execute_result"
    }
   ],
   "source": [
    "# delete empty values\n",
    "df = df.dropna()\n",
    "df.shape"
   ]
  },
  {
   "cell_type": "code",
   "execution_count": 5,
   "id": "17ea565e",
   "metadata": {},
   "outputs": [
    {
     "data": {
      "text/plain": [
       "(65694, 9)"
      ]
     },
     "execution_count": 5,
     "metadata": {},
     "output_type": "execute_result"
    }
   ],
   "source": [
    "# remove null values\n",
    "arr = df.index[df[\"fel_misd\"] == ' ']\n",
    "df = df.drop(arr, axis=0)\n",
    "arr = df.index[df[\"fel_misd\"] == '\\xa0']\n",
    "df = df.drop(arr, axis=0)\n",
    "df.shape"
   ]
  },
  {
   "cell_type": "markdown",
   "id": "28fde93a",
   "metadata": {},
   "source": [
    "---\n",
    "## 2.2 Normalizing data"
   ]
  },
  {
   "cell_type": "code",
   "execution_count": 6,
   "id": "10866368",
   "metadata": {},
   "outputs": [
    {
     "data": {
      "text/html": [
       "<div>\n",
       "<style scoped>\n",
       "    .dataframe tbody tr th:only-of-type {\n",
       "        vertical-align: middle;\n",
       "    }\n",
       "\n",
       "    .dataframe tbody tr th {\n",
       "        vertical-align: top;\n",
       "    }\n",
       "\n",
       "    .dataframe thead th {\n",
       "        text-align: right;\n",
       "    }\n",
       "</style>\n",
       "<table border=\"1\" class=\"dataframe\">\n",
       "  <thead>\n",
       "    <tr style=\"text-align: right;\">\n",
       "      <th></th>\n",
       "      <th>age</th>\n",
       "      <th>MEDHINC_CY</th>\n",
       "      <th>WLTHINDXCY</th>\n",
       "      <th>TOTHH_CY</th>\n",
       "    </tr>\n",
       "  </thead>\n",
       "  <tbody>\n",
       "    <tr>\n",
       "      <th>0</th>\n",
       "      <td>-1.007650</td>\n",
       "      <td>-0.795643</td>\n",
       "      <td>-0.502892</td>\n",
       "      <td>-0.442905</td>\n",
       "    </tr>\n",
       "    <tr>\n",
       "      <th>1</th>\n",
       "      <td>-1.007650</td>\n",
       "      <td>-0.795643</td>\n",
       "      <td>-0.502892</td>\n",
       "      <td>-0.442905</td>\n",
       "    </tr>\n",
       "    <tr>\n",
       "      <th>2</th>\n",
       "      <td>-0.759528</td>\n",
       "      <td>-0.788811</td>\n",
       "      <td>-0.373469</td>\n",
       "      <td>-0.405740</td>\n",
       "    </tr>\n",
       "    <tr>\n",
       "      <th>3</th>\n",
       "      <td>-0.759528</td>\n",
       "      <td>-0.788811</td>\n",
       "      <td>-0.373469</td>\n",
       "      <td>-0.405740</td>\n",
       "    </tr>\n",
       "    <tr>\n",
       "      <th>4</th>\n",
       "      <td>-1.007650</td>\n",
       "      <td>-0.795643</td>\n",
       "      <td>-0.502892</td>\n",
       "      <td>-0.442905</td>\n",
       "    </tr>\n",
       "  </tbody>\n",
       "</table>\n",
       "</div>"
      ],
      "text/plain": [
       "        age  MEDHINC_CY  WLTHINDXCY  TOTHH_CY\n",
       "0 -1.007650   -0.795643   -0.502892 -0.442905\n",
       "1 -1.007650   -0.795643   -0.502892 -0.442905\n",
       "2 -0.759528   -0.788811   -0.373469 -0.405740\n",
       "3 -0.759528   -0.788811   -0.373469 -0.405740\n",
       "4 -1.007650   -0.795643   -0.502892 -0.442905"
      ]
     },
     "execution_count": 6,
     "metadata": {},
     "output_type": "execute_result"
    }
   ],
   "source": [
    "# z-score normalize desired columns\n",
    "from scipy.stats import zscore\n",
    "\n",
    "need_norm = [\"age\",\"MEDHINC_CY\", \"WLTHINDXCY\", \"TOTHH_CY\"]\n",
    "norm = df[need_norm].apply(zscore)\n",
    "norm.head()"
   ]
  },
  {
   "cell_type": "code",
   "execution_count": 7,
   "id": "27409b55",
   "metadata": {},
   "outputs": [
    {
     "data": {
      "text/html": [
       "<div>\n",
       "<style scoped>\n",
       "    .dataframe tbody tr th:only-of-type {\n",
       "        vertical-align: middle;\n",
       "    }\n",
       "\n",
       "    .dataframe tbody tr th {\n",
       "        vertical-align: top;\n",
       "    }\n",
       "\n",
       "    .dataframe thead th {\n",
       "        text-align: right;\n",
       "    }\n",
       "</style>\n",
       "<table border=\"1\" class=\"dataframe\">\n",
       "  <thead>\n",
       "    <tr style=\"text-align: right;\">\n",
       "      <th></th>\n",
       "      <th>sex</th>\n",
       "      <th>age</th>\n",
       "      <th>day</th>\n",
       "      <th>month</th>\n",
       "      <th>MEDHINC_CY</th>\n",
       "      <th>WLTHINDXCY</th>\n",
       "      <th>time_arr</th>\n",
       "      <th>TOTHH_CY</th>\n",
       "      <th>fel_misd</th>\n",
       "    </tr>\n",
       "  </thead>\n",
       "  <tbody>\n",
       "    <tr>\n",
       "      <th>0</th>\n",
       "      <td>M</td>\n",
       "      <td>-1.007650</td>\n",
       "      <td>4</td>\n",
       "      <td>0</td>\n",
       "      <td>-0.795643</td>\n",
       "      <td>-0.502892</td>\n",
       "      <td>2310</td>\n",
       "      <td>-0.442905</td>\n",
       "      <td>M</td>\n",
       "    </tr>\n",
       "    <tr>\n",
       "      <th>1</th>\n",
       "      <td>M</td>\n",
       "      <td>-1.007650</td>\n",
       "      <td>4</td>\n",
       "      <td>0</td>\n",
       "      <td>-0.795643</td>\n",
       "      <td>-0.502892</td>\n",
       "      <td>2310</td>\n",
       "      <td>-0.442905</td>\n",
       "      <td>M</td>\n",
       "    </tr>\n",
       "    <tr>\n",
       "      <th>2</th>\n",
       "      <td>M</td>\n",
       "      <td>-0.759528</td>\n",
       "      <td>5</td>\n",
       "      <td>0</td>\n",
       "      <td>-0.788811</td>\n",
       "      <td>-0.373469</td>\n",
       "      <td>16</td>\n",
       "      <td>-0.405740</td>\n",
       "      <td>M</td>\n",
       "    </tr>\n",
       "    <tr>\n",
       "      <th>3</th>\n",
       "      <td>M</td>\n",
       "      <td>-0.759528</td>\n",
       "      <td>5</td>\n",
       "      <td>0</td>\n",
       "      <td>-0.788811</td>\n",
       "      <td>-0.373469</td>\n",
       "      <td>16</td>\n",
       "      <td>-0.405740</td>\n",
       "      <td>M</td>\n",
       "    </tr>\n",
       "    <tr>\n",
       "      <th>4</th>\n",
       "      <td>M</td>\n",
       "      <td>-1.007650</td>\n",
       "      <td>4</td>\n",
       "      <td>0</td>\n",
       "      <td>-0.795643</td>\n",
       "      <td>-0.502892</td>\n",
       "      <td>2310</td>\n",
       "      <td>-0.442905</td>\n",
       "      <td>M</td>\n",
       "    </tr>\n",
       "  </tbody>\n",
       "</table>\n",
       "</div>"
      ],
      "text/plain": [
       "  sex       age  day  month  MEDHINC_CY  WLTHINDXCY  time_arr  TOTHH_CY  \\\n",
       "0   M -1.007650    4      0   -0.795643   -0.502892      2310 -0.442905   \n",
       "1   M -1.007650    4      0   -0.795643   -0.502892      2310 -0.442905   \n",
       "2   M -0.759528    5      0   -0.788811   -0.373469        16 -0.405740   \n",
       "3   M -0.759528    5      0   -0.788811   -0.373469        16 -0.405740   \n",
       "4   M -1.007650    4      0   -0.795643   -0.502892      2310 -0.442905   \n",
       "\n",
       "  fel_misd  \n",
       "0        M  \n",
       "1        M  \n",
       "2        M  \n",
       "3        M  \n",
       "4        M  "
      ]
     },
     "execution_count": 7,
     "metadata": {},
     "output_type": "execute_result"
    }
   ],
   "source": [
    "df[need_norm] = norm\n",
    "df.head()"
   ]
  },
  {
   "cell_type": "markdown",
   "id": "f794c8f7",
   "metadata": {},
   "source": [
    "---\n",
    "## 2.3 Over and under-sized classes"
   ]
  },
  {
   "cell_type": "code",
   "execution_count": 8,
   "id": "0c8117a0",
   "metadata": {},
   "outputs": [
    {
     "data": {
      "text/plain": [
       "M    46803\n",
       "F    16407\n",
       "C     2194\n",
       "S      240\n",
       "P       50\n",
       "Name: fel_misd, dtype: int64"
      ]
     },
     "execution_count": 8,
     "metadata": {},
     "output_type": "execute_result"
    }
   ],
   "source": [
    "df[\"fel_misd\"].value_counts()"
   ]
  },
  {
   "cell_type": "markdown",
   "id": "83c6642e",
   "metadata": {},
   "source": [
    "---\n",
    "### 2.3.1 Drop random points from oversized data"
   ]
  },
  {
   "cell_type": "code",
   "execution_count": 9,
   "id": "4eb2e60e",
   "metadata": {},
   "outputs": [
    {
     "data": {
      "text/plain": [
       "C    2194\n",
       "M    2194\n",
       "F    2194\n",
       "S     240\n",
       "P      50\n",
       "Name: fel_misd, dtype: int64"
      ]
     },
     "execution_count": 9,
     "metadata": {},
     "output_type": "execute_result"
    }
   ],
   "source": [
    "m_arr = df.index[df[\"fel_misd\"] == 'M'].tolist()\n",
    "shuffle(m_arr)\n",
    "\n",
    "\n",
    "df = df.drop(m_arr[0:len(m_arr)-2194], axis = 0)\n",
    "\n",
    "\n",
    "s_arr = df.index[df[\"fel_misd\"] == 'S'].tolist()\n",
    "p_arr = df.index[df[\"fel_misd\"] == 'P'].tolist()\n",
    "\n",
    "f_arr = df.index[df[\"fel_misd\"] == 'F'].tolist()\n",
    "shuffle(f_arr)\n",
    "df = df.drop(f_arr[0:len(f_arr)-2194], axis = 0)\n",
    "\n",
    "df['fel_misd'].value_counts()"
   ]
  },
  {
   "cell_type": "markdown",
   "id": "edc7ac65",
   "metadata": {},
   "source": [
    "---\n",
    "### 2.3.2 Statistical Generation for Undersized Classes"
   ]
  },
  {
   "cell_type": "code",
   "execution_count": 10,
   "id": "b91f83db",
   "metadata": {},
   "outputs": [
    {
     "data": {
      "text/plain": [
       "C    2194\n",
       "M    2194\n",
       "F    2194\n",
       "S     360\n",
       "P      75\n",
       "Name: fel_misd, dtype: int64"
      ]
     },
     "execution_count": 10,
     "metadata": {},
     "output_type": "execute_result"
    }
   ],
   "source": [
    "def gen_rand_df(temp_df,samples=1):\n",
    "    ''' \n",
    "    Assume that temp_df is only populated with same fel_misd class and no one-hot \n",
    "    encoding\n",
    "    Age, MEDHINC_CY, WLTHINDXCY, time_arr, TOTHH_CY should be normalized prior\n",
    "    to calling this function \n",
    "    '''\n",
    "\n",
    "    # Dictionary to put into data frame\n",
    "    d = {}\n",
    "    \n",
    "    # Find the pdf for the 'sex' input\n",
    "    choices = temp_df['sex'].value_counts().index.to_list()\n",
    "    v_c = temp_df['sex'].value_counts()\n",
    "    probs = v_c/sum(v_c)\n",
    "    \n",
    "    # Update the dictionary at 'sex' to data generated from pdf\n",
    "    d['sex'] = np.random.choice(choices, p=probs, size=samples)\n",
    "    \n",
    "    # Repeat...\n",
    "    choices = temp_df['day'].value_counts().index.to_list()\n",
    "    v_c = temp_df['day'].value_counts()\n",
    "    probs = v_c/sum(v_c)    \n",
    "    d['day'] = np.random.choice(choices, p=probs,size=samples)\n",
    "    \n",
    "    choices = temp_df['month'].value_counts().index.to_list()\n",
    "    v_c = temp_df['month'].value_counts()\n",
    "    probs = v_c/sum(v_c)    \n",
    "    d['month'] = np.random.choice(choices, p=probs, size=samples)\n",
    "    \n",
    "    x = np.random.normal(0,1,size=(5,samples))\n",
    "    d['age'] = x[0]\n",
    "    d['MEDHINC_CY'] = x[1]\n",
    "    d['WLTHINDXCY'] = x[2]\n",
    "    d['time_arr'] = x[3]\n",
    "    d['TOTHH_CY'] = x[4]\n",
    "    d['fel_misd'] = [temp_df['fel_misd'].to_list()[0] for i in range(samples)]\n",
    "    \n",
    "    df_return = pd.DataFrame.from_dict(d)\n",
    "\n",
    "    \n",
    "    return df_return\n",
    "\n",
    "# Increase the undersized class by 50%\n",
    "s_amt = (int) (0.5*240)  \n",
    "p_amt = (int) (0.5*50)    \n",
    "inp = df[df['fel_misd'] == 'S']\n",
    "s_temp = gen_rand_df(inp,s_amt)\n",
    "\n",
    "inp = df[df['fel_misd'] == 'P']\n",
    "p_temp = gen_rand_df(inp,p_amt)\n",
    "\n",
    "df = pd.concat([df,s_temp,p_temp])\n",
    "df['fel_misd'].value_counts()"
   ]
  },
  {
   "cell_type": "markdown",
   "id": "31d04227",
   "metadata": {},
   "source": [
    "---\n",
    "## 2.4 One-Hot Encoding"
   ]
  },
  {
   "cell_type": "code",
   "execution_count": 11,
   "id": "1ac9b352",
   "metadata": {},
   "outputs": [
    {
     "data": {
      "text/html": [
       "<div>\n",
       "<style scoped>\n",
       "    .dataframe tbody tr th:only-of-type {\n",
       "        vertical-align: middle;\n",
       "    }\n",
       "\n",
       "    .dataframe tbody tr th {\n",
       "        vertical-align: top;\n",
       "    }\n",
       "\n",
       "    .dataframe thead th {\n",
       "        text-align: right;\n",
       "    }\n",
       "</style>\n",
       "<table border=\"1\" class=\"dataframe\">\n",
       "  <thead>\n",
       "    <tr style=\"text-align: right;\">\n",
       "      <th></th>\n",
       "      <th>age</th>\n",
       "      <th>MEDHINC_CY</th>\n",
       "      <th>time_arr</th>\n",
       "      <th>TOTHH_CY</th>\n",
       "      <th>fel_misd</th>\n",
       "      <th>sex_M</th>\n",
       "      <th>sex_U</th>\n",
       "      <th>day_1</th>\n",
       "      <th>day_2</th>\n",
       "      <th>day_3</th>\n",
       "      <th>...</th>\n",
       "      <th>month_2</th>\n",
       "      <th>month_3</th>\n",
       "      <th>month_4</th>\n",
       "      <th>month_5</th>\n",
       "      <th>month_6</th>\n",
       "      <th>month_7</th>\n",
       "      <th>month_8</th>\n",
       "      <th>month_9</th>\n",
       "      <th>month_10</th>\n",
       "      <th>month_11</th>\n",
       "    </tr>\n",
       "  </thead>\n",
       "  <tbody>\n",
       "    <tr>\n",
       "      <th>7</th>\n",
       "      <td>-0.759528</td>\n",
       "      <td>-0.788811</td>\n",
       "      <td>16.0</td>\n",
       "      <td>-0.405740</td>\n",
       "      <td>C</td>\n",
       "      <td>1</td>\n",
       "      <td>0</td>\n",
       "      <td>0</td>\n",
       "      <td>0</td>\n",
       "      <td>0</td>\n",
       "      <td>...</td>\n",
       "      <td>0</td>\n",
       "      <td>0</td>\n",
       "      <td>0</td>\n",
       "      <td>0</td>\n",
       "      <td>0</td>\n",
       "      <td>0</td>\n",
       "      <td>0</td>\n",
       "      <td>0</td>\n",
       "      <td>0</td>\n",
       "      <td>0</td>\n",
       "    </tr>\n",
       "    <tr>\n",
       "      <th>34</th>\n",
       "      <td>1.308155</td>\n",
       "      <td>-0.670641</td>\n",
       "      <td>46.0</td>\n",
       "      <td>-1.079915</td>\n",
       "      <td>M</td>\n",
       "      <td>1</td>\n",
       "      <td>0</td>\n",
       "      <td>0</td>\n",
       "      <td>0</td>\n",
       "      <td>0</td>\n",
       "      <td>...</td>\n",
       "      <td>0</td>\n",
       "      <td>0</td>\n",
       "      <td>0</td>\n",
       "      <td>0</td>\n",
       "      <td>0</td>\n",
       "      <td>0</td>\n",
       "      <td>0</td>\n",
       "      <td>0</td>\n",
       "      <td>0</td>\n",
       "      <td>0</td>\n",
       "    </tr>\n",
       "    <tr>\n",
       "      <th>38</th>\n",
       "      <td>-0.511406</td>\n",
       "      <td>-0.009893</td>\n",
       "      <td>249.0</td>\n",
       "      <td>-1.133433</td>\n",
       "      <td>F</td>\n",
       "      <td>1</td>\n",
       "      <td>0</td>\n",
       "      <td>0</td>\n",
       "      <td>0</td>\n",
       "      <td>0</td>\n",
       "      <td>...</td>\n",
       "      <td>0</td>\n",
       "      <td>0</td>\n",
       "      <td>0</td>\n",
       "      <td>0</td>\n",
       "      <td>0</td>\n",
       "      <td>0</td>\n",
       "      <td>0</td>\n",
       "      <td>0</td>\n",
       "      <td>0</td>\n",
       "      <td>0</td>\n",
       "    </tr>\n",
       "    <tr>\n",
       "      <th>69</th>\n",
       "      <td>0.481082</td>\n",
       "      <td>-0.448339</td>\n",
       "      <td>1623.0</td>\n",
       "      <td>0.009023</td>\n",
       "      <td>F</td>\n",
       "      <td>1</td>\n",
       "      <td>0</td>\n",
       "      <td>0</td>\n",
       "      <td>0</td>\n",
       "      <td>0</td>\n",
       "      <td>...</td>\n",
       "      <td>0</td>\n",
       "      <td>0</td>\n",
       "      <td>0</td>\n",
       "      <td>0</td>\n",
       "      <td>0</td>\n",
       "      <td>0</td>\n",
       "      <td>0</td>\n",
       "      <td>0</td>\n",
       "      <td>0</td>\n",
       "      <td>0</td>\n",
       "    </tr>\n",
       "    <tr>\n",
       "      <th>71</th>\n",
       "      <td>0.481082</td>\n",
       "      <td>-0.448339</td>\n",
       "      <td>1623.0</td>\n",
       "      <td>0.009023</td>\n",
       "      <td>F</td>\n",
       "      <td>1</td>\n",
       "      <td>0</td>\n",
       "      <td>0</td>\n",
       "      <td>0</td>\n",
       "      <td>0</td>\n",
       "      <td>...</td>\n",
       "      <td>0</td>\n",
       "      <td>0</td>\n",
       "      <td>0</td>\n",
       "      <td>0</td>\n",
       "      <td>0</td>\n",
       "      <td>0</td>\n",
       "      <td>0</td>\n",
       "      <td>0</td>\n",
       "      <td>0</td>\n",
       "      <td>0</td>\n",
       "    </tr>\n",
       "  </tbody>\n",
       "</table>\n",
       "<p>5 rows × 24 columns</p>\n",
       "</div>"
      ],
      "text/plain": [
       "         age  MEDHINC_CY  time_arr  TOTHH_CY fel_misd  sex_M  sex_U  day_1  \\\n",
       "7  -0.759528   -0.788811      16.0 -0.405740        C      1      0      0   \n",
       "34  1.308155   -0.670641      46.0 -1.079915        M      1      0      0   \n",
       "38 -0.511406   -0.009893     249.0 -1.133433        F      1      0      0   \n",
       "69  0.481082   -0.448339    1623.0  0.009023        F      1      0      0   \n",
       "71  0.481082   -0.448339    1623.0  0.009023        F      1      0      0   \n",
       "\n",
       "    day_2  day_3  ...  month_2  month_3  month_4  month_5  month_6  month_7  \\\n",
       "7       0      0  ...        0        0        0        0        0        0   \n",
       "34      0      0  ...        0        0        0        0        0        0   \n",
       "38      0      0  ...        0        0        0        0        0        0   \n",
       "69      0      0  ...        0        0        0        0        0        0   \n",
       "71      0      0  ...        0        0        0        0        0        0   \n",
       "\n",
       "    month_8  month_9  month_10  month_11  \n",
       "7         0        0         0         0  \n",
       "34        0        0         0         0  \n",
       "38        0        0         0         0  \n",
       "69        0        0         0         0  \n",
       "71        0        0         0         0  \n",
       "\n",
       "[5 rows x 24 columns]"
      ]
     },
     "execution_count": 11,
     "metadata": {},
     "output_type": "execute_result"
    }
   ],
   "source": [
    "df_pandas_encoded = pd.get_dummies(df, columns=['sex', 'day', 'month'], drop_first=True)\n",
    "df_pandas_encoded = df_pandas_encoded.drop(\"WLTHINDXCY\", axis=1)\n",
    "df_pandas_encoded.head()"
   ]
  },
  {
   "cell_type": "markdown",
   "id": "b4b3927c",
   "metadata": {},
   "source": [
    "- - - - - - - - - - - - - - - - - - -\n",
    "# 3. Pre-Training\n",
    "- Find the train and test sets (0.8 train split)\n",
    "- Find all the combinations of the inputs\n",
    "- Perform 5-fold cross validation for each combination"
   ]
  },
  {
   "cell_type": "markdown",
   "id": "56ace448",
   "metadata": {},
   "source": [
    "---\n",
    "## 3.1 Find the Input and Output names"
   ]
  },
  {
   "cell_type": "code",
   "execution_count": 12,
   "id": "ef65e17a",
   "metadata": {},
   "outputs": [
    {
     "data": {
      "text/plain": [
       "(['age',\n",
       "  'MEDHINC_CY',\n",
       "  'time_arr',\n",
       "  'TOTHH_CY',\n",
       "  'sex_M',\n",
       "  'sex_U',\n",
       "  'day_1',\n",
       "  'day_2',\n",
       "  'day_3',\n",
       "  'day_4',\n",
       "  'day_5',\n",
       "  'day_6',\n",
       "  'month_1',\n",
       "  'month_2',\n",
       "  'month_3',\n",
       "  'month_4',\n",
       "  'month_5',\n",
       "  'month_6',\n",
       "  'month_7',\n",
       "  'month_8',\n",
       "  'month_9',\n",
       "  'month_10',\n",
       "  'month_11'],\n",
       " ['fel_misd'])"
      ]
     },
     "execution_count": 12,
     "metadata": {},
     "output_type": "execute_result"
    }
   ],
   "source": [
    "inp = list(df_pandas_encoded.columns)\n",
    "oup = [\"fel_misd\"]\n",
    "for x in oup:\n",
    "    inp.remove(x)\n",
    "inp, oup"
   ]
  },
  {
   "cell_type": "markdown",
   "id": "34a3cb75",
   "metadata": {},
   "source": [
    "---\n",
    "## 3.2 Split Train and Test Data"
   ]
  },
  {
   "cell_type": "code",
   "execution_count": 13,
   "id": "ff11304c",
   "metadata": {},
   "outputs": [],
   "source": [
    "x,y = df_pandas_encoded[inp], df_pandas_encoded[oup]\n",
    "x_train, x_test, y_train, y_test = train_test_split(x,y, train_size=0.8, test_size=0.2, shuffle=True)"
   ]
  },
  {
   "cell_type": "markdown",
   "id": "c9093fb3",
   "metadata": {},
   "source": [
    "---\n",
    "## 3.3 Find Combinations"
   ]
  },
  {
   "cell_type": "code",
   "execution_count": 14,
   "id": "e83dfa4a",
   "metadata": {},
   "outputs": [],
   "source": [
    "import itertools\n",
    "items = ['MEDHINC_CY','age','sex_M', 'day', 'month']\n",
    "combs = []\n",
    "for i in range(1, len(items)):\n",
    "    combs.append(list(set(itertools.combinations(items, i))))"
   ]
  },
  {
   "cell_type": "code",
   "execution_count": 15,
   "id": "a908adf4",
   "metadata": {},
   "outputs": [
    {
     "data": {
      "text/plain": [
       "{'features': ['MEDHINC_CY',\n",
       "  'age',\n",
       "  'sex_M',\n",
       "  'day_1',\n",
       "  'day_2',\n",
       "  'day_3',\n",
       "  'day_4',\n",
       "  'day_5',\n",
       "  'day_6'],\n",
       " 'score': 0.38179453113715334}"
      ]
     },
     "execution_count": 15,
     "metadata": {},
     "output_type": "execute_result"
    }
   ],
   "source": [
    "day_vals = ['day_1',\n",
    "          'day_2',\n",
    "          'day_3',\n",
    "          'day_4',\n",
    "          'day_5',\n",
    "          'day_6']\n",
    "\n",
    "month_vals = ['month_1',\n",
    "              'month_2',\n",
    "              'month_3',\n",
    "              'month_4',\n",
    "              'month_5',\n",
    "              'month_6',\n",
    "              'month_7',\n",
    "              'month_8',\n",
    "              'month_9',\n",
    "              'month_10',\n",
    "              'month_11']\n",
    "\n",
    "best_dict = {\"features\": [], \"score\": -2**31}\n",
    "for k_amt in combs:\n",
    "    for ind_comb in k_amt:\n",
    "        comb = list(ind_comb)\n",
    "        if 'day' in comb:\n",
    "            comb.remove('day')\n",
    "            comb += day_vals\n",
    "        if 'month' in comb:\n",
    "            comb.remove('month')\n",
    "            comb += month_vals\n",
    "\n",
    "        \n",
    "        x_subset = x_train[comb].values\n",
    "        cvs = cross_val_score(linear_model.LogisticRegression(multi_class='ovr'), x_subset, y_train)\n",
    "        \n",
    "        if cvs.mean() > best_dict[\"score\"]:\n",
    "            best_dict[\"features\"] = comb\n",
    "            best_dict[\"score\"] = cvs.mean()\n",
    "best_dict"
   ]
  },
  {
   "cell_type": "markdown",
   "id": "791284b7",
   "metadata": {},
   "source": [
    "-------\n",
    "# 4. Training Logistic Model\n",
    "- Train a 5-class logistic regression using one-vs-rest classification\n",
    "    - Use the best features calculated in cross validation\n",
    "- Fit the train data\n",
    "- Find the predicted data for the test set and show the accuracy\n",
    "- Visualize and show the confusion matrix using heatmap\n",
    "- Show the classification report\n",
    "- Show the weights for each input and model\n",
    "    - Both tabular and heatmap"
   ]
  },
  {
   "cell_type": "markdown",
   "id": "7a083725",
   "metadata": {},
   "source": [
    "---\n",
    "## 4.1 Training"
   ]
  },
  {
   "cell_type": "code",
   "execution_count": 16,
   "id": "cb748acc",
   "metadata": {},
   "outputs": [],
   "source": [
    "log_r = linear_model.LogisticRegression(penalty='l2', multi_class=\"ovr\")"
   ]
  },
  {
   "cell_type": "code",
   "execution_count": 17,
   "id": "ceeac175",
   "metadata": {},
   "outputs": [
    {
     "data": {
      "text/plain": [
       "['MEDHINC_CY',\n",
       " 'age',\n",
       " 'sex_M',\n",
       " 'day_1',\n",
       " 'day_2',\n",
       " 'day_3',\n",
       " 'day_4',\n",
       " 'day_5',\n",
       " 'day_6']"
      ]
     },
     "execution_count": 17,
     "metadata": {},
     "output_type": "execute_result"
    }
   ],
   "source": [
    "best_dict[\"features\"]"
   ]
  },
  {
   "cell_type": "code",
   "execution_count": 18,
   "id": "44aaea70",
   "metadata": {},
   "outputs": [
    {
     "data": {
      "text/html": [
       "<style>#sk-container-id-1 {color: black;}#sk-container-id-1 pre{padding: 0;}#sk-container-id-1 div.sk-toggleable {background-color: white;}#sk-container-id-1 label.sk-toggleable__label {cursor: pointer;display: block;width: 100%;margin-bottom: 0;padding: 0.3em;box-sizing: border-box;text-align: center;}#sk-container-id-1 label.sk-toggleable__label-arrow:before {content: \"▸\";float: left;margin-right: 0.25em;color: #696969;}#sk-container-id-1 label.sk-toggleable__label-arrow:hover:before {color: black;}#sk-container-id-1 div.sk-estimator:hover label.sk-toggleable__label-arrow:before {color: black;}#sk-container-id-1 div.sk-toggleable__content {max-height: 0;max-width: 0;overflow: hidden;text-align: left;background-color: #f0f8ff;}#sk-container-id-1 div.sk-toggleable__content pre {margin: 0.2em;color: black;border-radius: 0.25em;background-color: #f0f8ff;}#sk-container-id-1 input.sk-toggleable__control:checked~div.sk-toggleable__content {max-height: 200px;max-width: 100%;overflow: auto;}#sk-container-id-1 input.sk-toggleable__control:checked~label.sk-toggleable__label-arrow:before {content: \"▾\";}#sk-container-id-1 div.sk-estimator input.sk-toggleable__control:checked~label.sk-toggleable__label {background-color: #d4ebff;}#sk-container-id-1 div.sk-label input.sk-toggleable__control:checked~label.sk-toggleable__label {background-color: #d4ebff;}#sk-container-id-1 input.sk-hidden--visually {border: 0;clip: rect(1px 1px 1px 1px);clip: rect(1px, 1px, 1px, 1px);height: 1px;margin: -1px;overflow: hidden;padding: 0;position: absolute;width: 1px;}#sk-container-id-1 div.sk-estimator {font-family: monospace;background-color: #f0f8ff;border: 1px dotted black;border-radius: 0.25em;box-sizing: border-box;margin-bottom: 0.5em;}#sk-container-id-1 div.sk-estimator:hover {background-color: #d4ebff;}#sk-container-id-1 div.sk-parallel-item::after {content: \"\";width: 100%;border-bottom: 1px solid gray;flex-grow: 1;}#sk-container-id-1 div.sk-label:hover label.sk-toggleable__label {background-color: #d4ebff;}#sk-container-id-1 div.sk-serial::before {content: \"\";position: absolute;border-left: 1px solid gray;box-sizing: border-box;top: 0;bottom: 0;left: 50%;z-index: 0;}#sk-container-id-1 div.sk-serial {display: flex;flex-direction: column;align-items: center;background-color: white;padding-right: 0.2em;padding-left: 0.2em;position: relative;}#sk-container-id-1 div.sk-item {position: relative;z-index: 1;}#sk-container-id-1 div.sk-parallel {display: flex;align-items: stretch;justify-content: center;background-color: white;position: relative;}#sk-container-id-1 div.sk-item::before, #sk-container-id-1 div.sk-parallel-item::before {content: \"\";position: absolute;border-left: 1px solid gray;box-sizing: border-box;top: 0;bottom: 0;left: 50%;z-index: -1;}#sk-container-id-1 div.sk-parallel-item {display: flex;flex-direction: column;z-index: 1;position: relative;background-color: white;}#sk-container-id-1 div.sk-parallel-item:first-child::after {align-self: flex-end;width: 50%;}#sk-container-id-1 div.sk-parallel-item:last-child::after {align-self: flex-start;width: 50%;}#sk-container-id-1 div.sk-parallel-item:only-child::after {width: 0;}#sk-container-id-1 div.sk-dashed-wrapped {border: 1px dashed gray;margin: 0 0.4em 0.5em 0.4em;box-sizing: border-box;padding-bottom: 0.4em;background-color: white;}#sk-container-id-1 div.sk-label label {font-family: monospace;font-weight: bold;display: inline-block;line-height: 1.2em;}#sk-container-id-1 div.sk-label-container {text-align: center;}#sk-container-id-1 div.sk-container {/* jupyter's `normalize.less` sets `[hidden] { display: none; }` but bootstrap.min.css set `[hidden] { display: none !important; }` so we also need the `!important` here to be able to override the default hidden behavior on the sphinx rendered scikit-learn.org. See: https://github.com/scikit-learn/scikit-learn/issues/21755 */display: inline-block !important;position: relative;}#sk-container-id-1 div.sk-text-repr-fallback {display: none;}</style><div id=\"sk-container-id-1\" class=\"sk-top-container\"><div class=\"sk-text-repr-fallback\"><pre>LogisticRegression(multi_class=&#x27;ovr&#x27;)</pre><b>In a Jupyter environment, please rerun this cell to show the HTML representation or trust the notebook. <br />On GitHub, the HTML representation is unable to render, please try loading this page with nbviewer.org.</b></div><div class=\"sk-container\" hidden><div class=\"sk-item\"><div class=\"sk-estimator sk-toggleable\"><input class=\"sk-toggleable__control sk-hidden--visually\" id=\"sk-estimator-id-1\" type=\"checkbox\" checked><label for=\"sk-estimator-id-1\" class=\"sk-toggleable__label sk-toggleable__label-arrow\">LogisticRegression</label><div class=\"sk-toggleable__content\"><pre>LogisticRegression(multi_class=&#x27;ovr&#x27;)</pre></div></div></div></div></div>"
      ],
      "text/plain": [
       "LogisticRegression(multi_class='ovr')"
      ]
     },
     "execution_count": 18,
     "metadata": {},
     "output_type": "execute_result"
    }
   ],
   "source": [
    "x_train = x_train[best_dict[\"features\"]]\n",
    "x_test = x_test[best_dict[\"features\"]]\n",
    "\n",
    "log_r.fit(x_train, y_train)"
   ]
  },
  {
   "cell_type": "markdown",
   "id": "32c1fcbc",
   "metadata": {},
   "source": [
    "---\n",
    "## 4.2 Analysis\n",
    "---\n",
    "### 4.2.1 Accuracy"
   ]
  },
  {
   "cell_type": "code",
   "execution_count": 19,
   "id": "17438081",
   "metadata": {},
   "outputs": [
    {
     "name": "stdout",
     "output_type": "stream",
     "text": [
      "Accuracy train: 0.38606805629787994\n",
      "Accuracy Test: 0.3888888888888889\n"
     ]
    }
   ],
   "source": [
    "y_pred = log_r.predict(x_test)\n",
    "print(f\"Accuracy train: {log_r.score(x_train,y_train)}\")\n",
    "print(f\"Accuracy Test: {log_r.score(x_test,y_test)}\")"
   ]
  },
  {
   "cell_type": "markdown",
   "id": "da591921",
   "metadata": {},
   "source": [
    "---\n",
    "### 4.2.2 Confusion Matrix"
   ]
  },
  {
   "cell_type": "code",
   "execution_count": 20,
   "id": "91840c46",
   "metadata": {},
   "outputs": [
    {
     "data": {
      "image/png": "[encoded data removed]",
      "text/plain": [
       "<Figure size 640x480 with 2 Axes>"
      ]
     },
     "metadata": {},
     "output_type": "display_data"
    }
   ],
   "source": [
    "temp = np.arange(0.5,5,1)\n",
    "cm = confusion_matrix(y_test, y_pred)\n",
    "sb.heatmap(cm, annot=True, fmt='d', cmap='Blues')\n",
    "plt.xticks(temp, labels=log_r.classes_)\n",
    "plt.yticks(temp, labels=log_r.classes_)\n",
    "\n",
    "plt.xlabel('Predicted')\n",
    "plt.ylabel('True')\n",
    "plt.title(\"Confusion Matrix Heatmap\")\n",
    "plt.show()"
   ]
  },
  {
   "cell_type": "code",
   "execution_count": 21,
   "id": "488d16dc",
   "metadata": {},
   "outputs": [
    {
     "data": {
      "text/plain": [
       "array([[180, 132, 120,   0,   0],\n",
       "       [106, 224, 116,   0,   0],\n",
       "       [130, 166, 138,   0,   0],\n",
       "       [  8,   4,   2,   0,   0],\n",
       "       [ 30,  25,  19,   0,   4]])"
      ]
     },
     "execution_count": 21,
     "metadata": {},
     "output_type": "execute_result"
    }
   ],
   "source": [
    "cm"
   ]
  },
  {
   "cell_type": "markdown",
   "id": "b73cb536",
   "metadata": {},
   "source": [
    "---\n",
    "### 4.2.3 Classification Report"
   ]
  },
  {
   "cell_type": "code",
   "execution_count": 22,
   "id": "f49cc909",
   "metadata": {},
   "outputs": [
    {
     "name": "stdout",
     "output_type": "stream",
     "text": [
      "              precision    recall  f1-score   support\n",
      "\n",
      "           C       0.40      0.42      0.41       432\n",
      "           F       0.41      0.50      0.45       446\n",
      "           M       0.35      0.32      0.33       434\n",
      "           P       0.00      0.00      0.00        14\n",
      "           S       1.00      0.05      0.10        78\n",
      "\n",
      "    accuracy                           0.39      1404\n",
      "   macro avg       0.43      0.26      0.26      1404\n",
      "weighted avg       0.41      0.39      0.38      1404\n",
      "\n"
     ]
    }
   ],
   "source": [
    "print(classification_report(y_test, y_pred))"
   ]
  },
  {
   "cell_type": "markdown",
   "id": "f33e9a92",
   "metadata": {},
   "source": [
    "---\n",
    "### 4.2.4 Coefficient Weights"
   ]
  },
  {
   "cell_type": "code",
   "execution_count": 23,
   "id": "59f244b7",
   "metadata": {},
   "outputs": [
    {
     "data": {
      "text/html": [
       "<div>\n",
       "<style scoped>\n",
       "    .dataframe tbody tr th:only-of-type {\n",
       "        vertical-align: middle;\n",
       "    }\n",
       "\n",
       "    .dataframe tbody tr th {\n",
       "        vertical-align: top;\n",
       "    }\n",
       "\n",
       "    .dataframe thead th {\n",
       "        text-align: right;\n",
       "    }\n",
       "</style>\n",
       "<table border=\"1\" class=\"dataframe\">\n",
       "  <thead>\n",
       "    <tr style=\"text-align: right;\">\n",
       "      <th></th>\n",
       "      <th>MEDHINC_CY</th>\n",
       "      <th>age</th>\n",
       "      <th>sex_M</th>\n",
       "      <th>day_1</th>\n",
       "      <th>day_2</th>\n",
       "      <th>day_3</th>\n",
       "      <th>day_4</th>\n",
       "      <th>day_5</th>\n",
       "      <th>day_6</th>\n",
       "    </tr>\n",
       "  </thead>\n",
       "  <tbody>\n",
       "    <tr>\n",
       "      <th>C</th>\n",
       "      <td>0.181099</td>\n",
       "      <td>0.014583</td>\n",
       "      <td>-0.055896</td>\n",
       "      <td>-0.297321</td>\n",
       "      <td>-0.316449</td>\n",
       "      <td>-0.374613</td>\n",
       "      <td>-0.297826</td>\n",
       "      <td>-0.219189</td>\n",
       "      <td>0.188277</td>\n",
       "    </tr>\n",
       "    <tr>\n",
       "      <th>F</th>\n",
       "      <td>-0.198190</td>\n",
       "      <td>-0.006610</td>\n",
       "      <td>0.562510</td>\n",
       "      <td>0.157195</td>\n",
       "      <td>0.351749</td>\n",
       "      <td>0.514748</td>\n",
       "      <td>0.525573</td>\n",
       "      <td>0.389874</td>\n",
       "      <td>-0.009468</td>\n",
       "    </tr>\n",
       "    <tr>\n",
       "      <th>M</th>\n",
       "      <td>-0.011985</td>\n",
       "      <td>0.173266</td>\n",
       "      <td>-0.282507</td>\n",
       "      <td>0.102655</td>\n",
       "      <td>-0.148984</td>\n",
       "      <td>-0.186142</td>\n",
       "      <td>-0.208693</td>\n",
       "      <td>-0.177361</td>\n",
       "      <td>-0.247256</td>\n",
       "    </tr>\n",
       "    <tr>\n",
       "      <th>P</th>\n",
       "      <td>0.167166</td>\n",
       "      <td>-0.394480</td>\n",
       "      <td>0.987227</td>\n",
       "      <td>-1.102922</td>\n",
       "      <td>-0.336911</td>\n",
       "      <td>0.510245</td>\n",
       "      <td>0.108607</td>\n",
       "      <td>-0.372297</td>\n",
       "      <td>-0.399721</td>\n",
       "    </tr>\n",
       "    <tr>\n",
       "      <th>S</th>\n",
       "      <td>-0.043855</td>\n",
       "      <td>-1.094587</td>\n",
       "      <td>-0.812857</td>\n",
       "      <td>0.392099</td>\n",
       "      <td>0.622142</td>\n",
       "      <td>0.078994</td>\n",
       "      <td>-0.088039</td>\n",
       "      <td>0.260056</td>\n",
       "      <td>0.356950</td>\n",
       "    </tr>\n",
       "  </tbody>\n",
       "</table>\n",
       "</div>"
      ],
      "text/plain": [
       "   MEDHINC_CY       age     sex_M     day_1     day_2     day_3     day_4  \\\n",
       "C    0.181099  0.014583 -0.055896 -0.297321 -0.316449 -0.374613 -0.297826   \n",
       "F   -0.198190 -0.006610  0.562510  0.157195  0.351749  0.514748  0.525573   \n",
       "M   -0.011985  0.173266 -0.282507  0.102655 -0.148984 -0.186142 -0.208693   \n",
       "P    0.167166 -0.394480  0.987227 -1.102922 -0.336911  0.510245  0.108607   \n",
       "S   -0.043855 -1.094587 -0.812857  0.392099  0.622142  0.078994 -0.088039   \n",
       "\n",
       "      day_5     day_6  \n",
       "C -0.219189  0.188277  \n",
       "F  0.389874 -0.009468  \n",
       "M -0.177361 -0.247256  \n",
       "P -0.372297 -0.399721  \n",
       "S  0.260056  0.356950  "
      ]
     },
     "execution_count": 23,
     "metadata": {},
     "output_type": "execute_result"
    }
   ],
   "source": [
    "df = pd.DataFrame(log_r.coef_, columns=log_r.feature_names_in_)\n",
    "df = df.set_index(log_r.classes_)\n",
    "df"
   ]
  },
  {
   "cell_type": "code",
   "execution_count": 24,
   "id": "9e84c7cb",
   "metadata": {},
   "outputs": [
    {
     "data": {
      "image/png": "[encoded data removed]",
      "text/plain": [
       "<Figure size 640x480 with 2 Axes>"
      ]
     },
     "metadata": {},
     "output_type": "display_data"
    }
   ],
   "source": [
    "sb.heatmap(df.T, annot=True, cmap='Blues')\n",
    "plt.xlabel('Class')\n",
    "plt.ylabel('Input')\n",
    "plt.title(\"Heatmap of Coefficients for Logistic Regression\")\n",
    "plt.show()"
   ]
  },
  {
   "cell_type": "markdown",
   "id": "59b1b014",
   "metadata": {},
   "source": [
    "### 4.2.5 T-Test\n",
    "- $H_0 \\leq 0.2 \\implies$ If randomly guessing, there are five classes so $\\frac{1}{5}$ chance\n",
    "- $H_a > 0.2 \\implies$ From the trained one-vs-rest logisitc classifer \n",
    "- T Stat:\n",
    "    - $\\mu = 0.2$\n",
    "    - $\\hat p$ probability by the classifier\n",
    "    - $n$ is length of test set\n",
    "    - $\\hat \\sigma^2$ is the sample variance found by:\n",
    "        - $\\hat \\sigma^2 = \\frac{\\hat p(1-\\hat p)}{n-1}$ \n",
    "    - $T = \\frac{\\sqrt{n}(\\hat p - \\mu_0)}{\\hat\\sigma}$\n",
    "- Find $p = 1-F_{n-1}(T)$\n",
    "- Compare $p$ to $\\alpha = 0.05$ significance level"
   ]
  },
  {
   "cell_type": "code",
   "execution_count": 25,
   "id": "fb0b10f9",
   "metadata": {},
   "outputs": [
    {
     "name": "stdout",
     "output_type": "stream",
     "text": [
      "Sample accuracy: 0.3888888888888889\n",
      "Sample variance: 0.00016939010761771514\n",
      "\n",
      "T-Stat: 543.8084402988425\n",
      "P-value: 0.0\n",
      "Hypothesis: 0.0000<0.05\n"
     ]
    }
   ],
   "source": [
    "p = log_r.score(x_test,y_test) # sample mean\n",
    "print(f'Sample accuracy: {p}')\n",
    "\n",
    "var = (p*(1-p))/(len(x_test)-1) # t distribution sample variance\n",
    "print(f'Sample variance: {var}\\n')\n",
    "\n",
    "t_stat = np.sqrt(len(x_test))*(p-0.2)/np.sqrt(var)\n",
    "\n",
    "p_val = 1-t.cdf(t_stat, len(x_test)-1)\n",
    "hyp_alpha = 0.05\n",
    "relationship = '<' if p_val < hyp_alpha else '>='\n",
    "print(f'T-Stat: {t_stat}\\nP-value: {p_val}\\nHypothesis: {p_val:.4f}{relationship}{hyp_alpha}')"
   ]
  },
  {
   "cell_type": "markdown",
   "id": "de4f5b3e",
   "metadata": {},
   "source": [
    "---\n",
    "# 5. Pre-Training\n",
    "- Find the train and test sets (0.8 train split)\n",
    "- Find all the combinations of the inputs\n",
    "- Perform 5-fold cross validation for each combination\n",
    "---\n",
    "## 5.1 Find the Input and Output  Names"
   ]
  },
  {
   "cell_type": "code",
   "execution_count": 26,
   "id": "3f50daed",
   "metadata": {},
   "outputs": [
    {
     "data": {
      "text/plain": [
       "(['age',\n",
       "  'time_arr',\n",
       "  'TOTHH_CY',\n",
       "  'sex_M',\n",
       "  'sex_U',\n",
       "  'day_1',\n",
       "  'day_2',\n",
       "  'day_3',\n",
       "  'day_4',\n",
       "  'day_5',\n",
       "  'day_6',\n",
       "  'month_1',\n",
       "  'month_2',\n",
       "  'month_3',\n",
       "  'month_4',\n",
       "  'month_5',\n",
       "  'month_6',\n",
       "  'month_7',\n",
       "  'month_8',\n",
       "  'month_9',\n",
       "  'month_10',\n",
       "  'month_11'],\n",
       " ['MEDHINC_CY'])"
      ]
     },
     "execution_count": 26,
     "metadata": {},
     "output_type": "execute_result"
    }
   ],
   "source": [
    "inp = list(df_pandas_encoded.columns)\n",
    "oup = [\"MEDHINC_CY\"]\n",
    "for x in oup:\n",
    "    inp.remove(x)\n",
    "inp.remove('fel_misd')\n",
    "inp, oup"
   ]
  },
  {
   "cell_type": "markdown",
   "id": "c306bf0d",
   "metadata": {},
   "source": [
    "---\n",
    "## 5.2 Split Train and Test Data"
   ]
  },
  {
   "cell_type": "code",
   "execution_count": 27,
   "id": "a9589e32",
   "metadata": {},
   "outputs": [],
   "source": [
    "x,y = df_pandas_encoded[inp], df_pandas_encoded[oup]\n",
    "x_train, x_test, y_train, y_test = train_test_split(x,y, train_size=0.8, test_size=0.2)"
   ]
  },
  {
   "cell_type": "markdown",
   "id": "79d5c104",
   "metadata": {},
   "source": [
    "---\n",
    "## 5.3 Find Combinations\n",
    "---\n",
    "### 5.3.1 5-Fold CV for Ridge Regression"
   ]
  },
  {
   "cell_type": "code",
   "execution_count": 28,
   "id": "b47b7c5e",
   "metadata": {},
   "outputs": [],
   "source": [
    "items = ['age','sex_M', 'day', 'month']\n",
    "combs = []\n",
    "for i in range(1, len(items)):\n",
    "    combs.append(list(set(itertools.combinations(items, i))))"
   ]
  },
  {
   "cell_type": "code",
   "execution_count": 29,
   "id": "85139c9c",
   "metadata": {},
   "outputs": [
    {
     "data": {
      "text/plain": [
       "{'features': ['sex_M',\n",
       "  'day_1',\n",
       "  'day_2',\n",
       "  'day_3',\n",
       "  'day_4',\n",
       "  'day_5',\n",
       "  'day_6',\n",
       "  'month_1',\n",
       "  'month_2',\n",
       "  'month_3',\n",
       "  'month_4',\n",
       "  'month_5',\n",
       "  'month_6',\n",
       "  'month_7',\n",
       "  'month_8',\n",
       "  'month_9',\n",
       "  'month_10',\n",
       "  'month_11'],\n",
       " 'score': -0.0006087651361638136,\n",
       " 'alpha': 0}"
      ]
     },
     "execution_count": 29,
     "metadata": {},
     "output_type": "execute_result"
    }
   ],
   "source": [
    "day_vals = ['day_1',\n",
    "          'day_2',\n",
    "          'day_3',\n",
    "          'day_4',\n",
    "          'day_5',\n",
    "          'day_6']\n",
    "\n",
    "month_vals = ['month_1',\n",
    "              'month_2',\n",
    "              'month_3',\n",
    "              'month_4',\n",
    "              'month_5',\n",
    "              'month_6',\n",
    "              'month_7',\n",
    "              'month_8',\n",
    "              'month_9',\n",
    "              'month_10',\n",
    "              'month_11']\n",
    "\n",
    "best_dict = {\"features\": [], \"score\": -2**31, \"alpha\": 0}\n",
    "alpha_vals = np.logspace(-1,3,50)\n",
    "for k_amt in combs:\n",
    "    for ind_comb in k_amt:\n",
    "        comb = list(ind_comb)\n",
    "        if 'day' in comb:\n",
    "            comb.remove('day')\n",
    "            comb += day_vals\n",
    "        if 'month' in comb:\n",
    "            comb.remove('month')\n",
    "            comb += month_vals\n",
    "\n",
    "        \n",
    "        x_subset = x_train[comb].values\n",
    "        \n",
    "        for alpha in alpha_vals:\n",
    "            cvs = cross_val_score(linear_model.Ridge(alpha=alpha), x_subset, y_train)\n",
    "        \n",
    "        if cvs.mean() > best_dict[\"score\"]:\n",
    "            best_dict[\"features\"] = comb\n",
    "            best_dict[\"score\"] = cvs.mean()\n",
    "best_dict"
   ]
  },
  {
   "cell_type": "markdown",
   "id": "0b549f98",
   "metadata": {},
   "source": [
    "---\n",
    "### 5.3.2 20-Fold CV for Lasso Regression"
   ]
  },
  {
   "cell_type": "code",
   "execution_count": 30,
   "id": "618b7a9f",
   "metadata": {},
   "outputs": [
    {
     "name": "stdout",
     "output_type": "stream",
     "text": [
      "Best Average MSE: 1.0502983802894643 with min_alpha=0.0018621512004436903\n"
     ]
    }
   ],
   "source": [
    "lasso = linear_model.LassoLarsCV(cv=20)\n",
    "lasso.fit(x_train, y_train)\n",
    "lasso_mse=lasso.mse_path_\n",
    "lasso_alphas = lasso.cv_alphas_\n",
    "mse_mean = []\n",
    "mse_std = []\n",
    "for i in range(len(lasso_mse)):\n",
    "    mse_mean.append(lasso_mse[i].mean())\n",
    "    mse_std.append(lasso_mse[i].std())\n",
    "    \n",
    "min_alpha = lasso_alphas[np.argmin(mse_mean)]\n",
    "print(f\"Best Average MSE: {min(mse_mean)} with {min_alpha=}\")"
   ]
  },
  {
   "cell_type": "code",
   "execution_count": 31,
   "id": "e05e8381",
   "metadata": {},
   "outputs": [
    {
     "data": {
      "image/png": "[encoded data removed]",
      "text/plain": [
       "<Figure size 640x480 with 1 Axes>"
      ]
     },
     "metadata": {},
     "output_type": "display_data"
    }
   ],
   "source": [
    "plt.errorbar(lasso_alphas,mse_mean, yerr=mse_std,fmt=\"o\", capsize=5, color=\"blue\")\n",
    "plt.scatter(lasso_alphas, mse_mean, color='blue')\n",
    "plt.xscale('log')\n",
    "\n",
    "plt.axvline(x=min_alpha, color='red')\n",
    "plt.xlabel('Alpha')\n",
    "plt.ylabel('Mean MSE')\n",
    "plt.title('Alpha vs Mean MSE');"
   ]
  },
  {
   "cell_type": "markdown",
   "id": "0a71b1a8",
   "metadata": {},
   "source": [
    "-----\n",
    "# 6. Training Regression Models\n",
    "- Find the input variables wanted\n",
    "- Split the data\n",
    "- Find all the possible combinations of inputs\n",
    "- Use cross validation for multiple alpha values for a Ridge model\n",
    "- Use cross validation on the Lasso model\n",
    "- Visualize the Lasso alphas\n",
    "- Fit the Ridge regression (Linear regression since $\\alpha=0$\n",
    "- Show the relevent information\n",
    "    - $R^2$ \n",
    "    - Residual plot\n",
    "- Fit the Lasso regression with the best $\\alpha$\n",
    "- Show the relevent information\n",
    "    - $R^2$ \n",
    "    - Residual plot\n",
    "- Show the weights for each input and model\n",
    "    - Both tabular and heatmap\n",
    "\n",
    "---\n",
    "## 6.1 Training Linear Regression\n",
    "- Note that the $\\alpha$ found from Ridge is 0 so the documentation suggests to just use linear regression\n",
    "    - https://scikitlearn.org/1.5/modules/generated/sklearn.linear_model.Ridge.html\n"
   ]
  },
  {
   "cell_type": "code",
   "execution_count": 32,
   "id": "5d861fe7",
   "metadata": {},
   "outputs": [
    {
     "data": {
      "text/html": [
       "<style>#sk-container-id-2 {color: black;}#sk-container-id-2 pre{padding: 0;}#sk-container-id-2 div.sk-toggleable {background-color: white;}#sk-container-id-2 label.sk-toggleable__label {cursor: pointer;display: block;width: 100%;margin-bottom: 0;padding: 0.3em;box-sizing: border-box;text-align: center;}#sk-container-id-2 label.sk-toggleable__label-arrow:before {content: \"▸\";float: left;margin-right: 0.25em;color: #696969;}#sk-container-id-2 label.sk-toggleable__label-arrow:hover:before {color: black;}#sk-container-id-2 div.sk-estimator:hover label.sk-toggleable__label-arrow:before {color: black;}#sk-container-id-2 div.sk-toggleable__content {max-height: 0;max-width: 0;overflow: hidden;text-align: left;background-color: #f0f8ff;}#sk-container-id-2 div.sk-toggleable__content pre {margin: 0.2em;color: black;border-radius: 0.25em;background-color: #f0f8ff;}#sk-container-id-2 input.sk-toggleable__control:checked~div.sk-toggleable__content {max-height: 200px;max-width: 100%;overflow: auto;}#sk-container-id-2 input.sk-toggleable__control:checked~label.sk-toggleable__label-arrow:before {content: \"▾\";}#sk-container-id-2 div.sk-estimator input.sk-toggleable__control:checked~label.sk-toggleable__label {background-color: #d4ebff;}#sk-container-id-2 div.sk-label input.sk-toggleable__control:checked~label.sk-toggleable__label {background-color: #d4ebff;}#sk-container-id-2 input.sk-hidden--visually {border: 0;clip: rect(1px 1px 1px 1px);clip: rect(1px, 1px, 1px, 1px);height: 1px;margin: -1px;overflow: hidden;padding: 0;position: absolute;width: 1px;}#sk-container-id-2 div.sk-estimator {font-family: monospace;background-color: #f0f8ff;border: 1px dotted black;border-radius: 0.25em;box-sizing: border-box;margin-bottom: 0.5em;}#sk-container-id-2 div.sk-estimator:hover {background-color: #d4ebff;}#sk-container-id-2 div.sk-parallel-item::after {content: \"\";width: 100%;border-bottom: 1px solid gray;flex-grow: 1;}#sk-container-id-2 div.sk-label:hover label.sk-toggleable__label {background-color: #d4ebff;}#sk-container-id-2 div.sk-serial::before {content: \"\";position: absolute;border-left: 1px solid gray;box-sizing: border-box;top: 0;bottom: 0;left: 50%;z-index: 0;}#sk-container-id-2 div.sk-serial {display: flex;flex-direction: column;align-items: center;background-color: white;padding-right: 0.2em;padding-left: 0.2em;position: relative;}#sk-container-id-2 div.sk-item {position: relative;z-index: 1;}#sk-container-id-2 div.sk-parallel {display: flex;align-items: stretch;justify-content: center;background-color: white;position: relative;}#sk-container-id-2 div.sk-item::before, #sk-container-id-2 div.sk-parallel-item::before {content: \"\";position: absolute;border-left: 1px solid gray;box-sizing: border-box;top: 0;bottom: 0;left: 50%;z-index: -1;}#sk-container-id-2 div.sk-parallel-item {display: flex;flex-direction: column;z-index: 1;position: relative;background-color: white;}#sk-container-id-2 div.sk-parallel-item:first-child::after {align-self: flex-end;width: 50%;}#sk-container-id-2 div.sk-parallel-item:last-child::after {align-self: flex-start;width: 50%;}#sk-container-id-2 div.sk-parallel-item:only-child::after {width: 0;}#sk-container-id-2 div.sk-dashed-wrapped {border: 1px dashed gray;margin: 0 0.4em 0.5em 0.4em;box-sizing: border-box;padding-bottom: 0.4em;background-color: white;}#sk-container-id-2 div.sk-label label {font-family: monospace;font-weight: bold;display: inline-block;line-height: 1.2em;}#sk-container-id-2 div.sk-label-container {text-align: center;}#sk-container-id-2 div.sk-container {/* jupyter's `normalize.less` sets `[hidden] { display: none; }` but bootstrap.min.css set `[hidden] { display: none !important; }` so we also need the `!important` here to be able to override the default hidden behavior on the sphinx rendered scikit-learn.org. See: https://github.com/scikit-learn/scikit-learn/issues/21755 */display: inline-block !important;position: relative;}#sk-container-id-2 div.sk-text-repr-fallback {display: none;}</style><div id=\"sk-container-id-2\" class=\"sk-top-container\"><div class=\"sk-text-repr-fallback\"><pre>LinearRegression()</pre><b>In a Jupyter environment, please rerun this cell to show the HTML representation or trust the notebook. <br />On GitHub, the HTML representation is unable to render, please try loading this page with nbviewer.org.</b></div><div class=\"sk-container\" hidden><div class=\"sk-item\"><div class=\"sk-estimator sk-toggleable\"><input class=\"sk-toggleable__control sk-hidden--visually\" id=\"sk-estimator-id-2\" type=\"checkbox\" checked><label for=\"sk-estimator-id-2\" class=\"sk-toggleable__label sk-toggleable__label-arrow\">LinearRegression</label><div class=\"sk-toggleable__content\"><pre>LinearRegression()</pre></div></div></div></div></div>"
      ],
      "text/plain": [
       "LinearRegression()"
      ]
     },
     "execution_count": 32,
     "metadata": {},
     "output_type": "execute_result"
    }
   ],
   "source": [
    "lr = linear_model.LinearRegression()\n",
    "\n",
    "x_train = x_train[best_dict[\"features\"]]\n",
    "x_test = x_test[best_dict[\"features\"]]\n",
    "\n",
    "lr.fit(x_train, y_train)"
   ]
  },
  {
   "cell_type": "markdown",
   "id": "705b780f",
   "metadata": {},
   "source": [
    "---\n",
    "## 6.2 Analysis\n",
    "---\n",
    "### 6.2.1 Coefficient of Determination: $R^2$ "
   ]
  },
  {
   "cell_type": "code",
   "execution_count": 33,
   "id": "69d0882e",
   "metadata": {},
   "outputs": [
    {
     "name": "stdout",
     "output_type": "stream",
     "text": [
      "R2 train: 0.008047962656027141\n",
      "R2 Test: -0.0022426647756847995\n"
     ]
    }
   ],
   "source": [
    "y_pred = lr.predict(x_test)\n",
    "print(f\"R2 train: {lr.score(x_train,y_train)}\")\n",
    "print(f\"R2 Test: {lr.score(x_test,y_test)}\")"
   ]
  },
  {
   "cell_type": "markdown",
   "id": "8949c8fc",
   "metadata": {},
   "source": [
    "---\n",
    "### 6.2.2 Residual Plot "
   ]
  },
  {
   "cell_type": "code",
   "execution_count": 34,
   "id": "8a197ebd",
   "metadata": {},
   "outputs": [
    {
     "data": {
      "image/png": "[encoded data removed]",
      "text/plain": [
       "<Figure size 640x480 with 1 Axes>"
      ]
     },
     "metadata": {},
     "output_type": "display_data"
    }
   ],
   "source": [
    "plt.scatter([i for i in range(len(y_test))],y_test-y_pred);\n",
    "plt.xlabel(\"Index\")\n",
    "plt.ylabel(\"y_actual-y_predicted\")\n",
    "plt.title(\"Residual Plot\");"
   ]
  },
  {
   "cell_type": "markdown",
   "id": "f9868ad6",
   "metadata": {},
   "source": [
    "---\n",
    "## 6.3 Training Lasso Regression"
   ]
  },
  {
   "cell_type": "code",
   "execution_count": 35,
   "id": "12a7328f",
   "metadata": {},
   "outputs": [
    {
     "data": {
      "text/html": [
       "<style>#sk-container-id-3 {color: black;}#sk-container-id-3 pre{padding: 0;}#sk-container-id-3 div.sk-toggleable {background-color: white;}#sk-container-id-3 label.sk-toggleable__label {cursor: pointer;display: block;width: 100%;margin-bottom: 0;padding: 0.3em;box-sizing: border-box;text-align: center;}#sk-container-id-3 label.sk-toggleable__label-arrow:before {content: \"▸\";float: left;margin-right: 0.25em;color: #696969;}#sk-container-id-3 label.sk-toggleable__label-arrow:hover:before {color: black;}#sk-container-id-3 div.sk-estimator:hover label.sk-toggleable__label-arrow:before {color: black;}#sk-container-id-3 div.sk-toggleable__content {max-height: 0;max-width: 0;overflow: hidden;text-align: left;background-color: #f0f8ff;}#sk-container-id-3 div.sk-toggleable__content pre {margin: 0.2em;color: black;border-radius: 0.25em;background-color: #f0f8ff;}#sk-container-id-3 input.sk-toggleable__control:checked~div.sk-toggleable__content {max-height: 200px;max-width: 100%;overflow: auto;}#sk-container-id-3 input.sk-toggleable__control:checked~label.sk-toggleable__label-arrow:before {content: \"▾\";}#sk-container-id-3 div.sk-estimator input.sk-toggleable__control:checked~label.sk-toggleable__label {background-color: #d4ebff;}#sk-container-id-3 div.sk-label input.sk-toggleable__control:checked~label.sk-toggleable__label {background-color: #d4ebff;}#sk-container-id-3 input.sk-hidden--visually {border: 0;clip: rect(1px 1px 1px 1px);clip: rect(1px, 1px, 1px, 1px);height: 1px;margin: -1px;overflow: hidden;padding: 0;position: absolute;width: 1px;}#sk-container-id-3 div.sk-estimator {font-family: monospace;background-color: #f0f8ff;border: 1px dotted black;border-radius: 0.25em;box-sizing: border-box;margin-bottom: 0.5em;}#sk-container-id-3 div.sk-estimator:hover {background-color: #d4ebff;}#sk-container-id-3 div.sk-parallel-item::after {content: \"\";width: 100%;border-bottom: 1px solid gray;flex-grow: 1;}#sk-container-id-3 div.sk-label:hover label.sk-toggleable__label {background-color: #d4ebff;}#sk-container-id-3 div.sk-serial::before {content: \"\";position: absolute;border-left: 1px solid gray;box-sizing: border-box;top: 0;bottom: 0;left: 50%;z-index: 0;}#sk-container-id-3 div.sk-serial {display: flex;flex-direction: column;align-items: center;background-color: white;padding-right: 0.2em;padding-left: 0.2em;position: relative;}#sk-container-id-3 div.sk-item {position: relative;z-index: 1;}#sk-container-id-3 div.sk-parallel {display: flex;align-items: stretch;justify-content: center;background-color: white;position: relative;}#sk-container-id-3 div.sk-item::before, #sk-container-id-3 div.sk-parallel-item::before {content: \"\";position: absolute;border-left: 1px solid gray;box-sizing: border-box;top: 0;bottom: 0;left: 50%;z-index: -1;}#sk-container-id-3 div.sk-parallel-item {display: flex;flex-direction: column;z-index: 1;position: relative;background-color: white;}#sk-container-id-3 div.sk-parallel-item:first-child::after {align-self: flex-end;width: 50%;}#sk-container-id-3 div.sk-parallel-item:last-child::after {align-self: flex-start;width: 50%;}#sk-container-id-3 div.sk-parallel-item:only-child::after {width: 0;}#sk-container-id-3 div.sk-dashed-wrapped {border: 1px dashed gray;margin: 0 0.4em 0.5em 0.4em;box-sizing: border-box;padding-bottom: 0.4em;background-color: white;}#sk-container-id-3 div.sk-label label {font-family: monospace;font-weight: bold;display: inline-block;line-height: 1.2em;}#sk-container-id-3 div.sk-label-container {text-align: center;}#sk-container-id-3 div.sk-container {/* jupyter's `normalize.less` sets `[hidden] { display: none; }` but bootstrap.min.css set `[hidden] { display: none !important; }` so we also need the `!important` here to be able to override the default hidden behavior on the sphinx rendered scikit-learn.org. See: https://github.com/scikit-learn/scikit-learn/issues/21755 */display: inline-block !important;position: relative;}#sk-container-id-3 div.sk-text-repr-fallback {display: none;}</style><div id=\"sk-container-id-3\" class=\"sk-top-container\"><div class=\"sk-text-repr-fallback\"><pre>Lasso(alpha=0.0018621512004436903)</pre><b>In a Jupyter environment, please rerun this cell to show the HTML representation or trust the notebook. <br />On GitHub, the HTML representation is unable to render, please try loading this page with nbviewer.org.</b></div><div class=\"sk-container\" hidden><div class=\"sk-item\"><div class=\"sk-estimator sk-toggleable\"><input class=\"sk-toggleable__control sk-hidden--visually\" id=\"sk-estimator-id-3\" type=\"checkbox\" checked><label for=\"sk-estimator-id-3\" class=\"sk-toggleable__label sk-toggleable__label-arrow\">Lasso</label><div class=\"sk-toggleable__content\"><pre>Lasso(alpha=0.0018621512004436903)</pre></div></div></div></div></div>"
      ],
      "text/plain": [
       "Lasso(alpha=0.0018621512004436903)"
      ]
     },
     "execution_count": 35,
     "metadata": {},
     "output_type": "execute_result"
    }
   ],
   "source": [
    "lr_lasso = linear_model.Lasso(alpha=min_alpha)\n",
    "lr_lasso.fit(x_train, y_train)"
   ]
  },
  {
   "cell_type": "markdown",
   "id": "4678f0cb",
   "metadata": {},
   "source": [
    "---\n",
    "## 6.4 Analysis\n",
    "---\n",
    "### 6.4.1 Coefficient of Determination: $R^2$"
   ]
  },
  {
   "cell_type": "code",
   "execution_count": 36,
   "id": "b0466b08",
   "metadata": {},
   "outputs": [
    {
     "name": "stdout",
     "output_type": "stream",
     "text": [
      "R2 train: 0.007492609993667743\n",
      "R2 Test: 1.5014864664819605e-05\n"
     ]
    }
   ],
   "source": [
    "y_lasso_pred = lr_lasso.predict(x_test)\n",
    "print(f\"R2 train: {lr_lasso.score(x_train,y_train)}\")\n",
    "print(f\"R2 Test: {lr_lasso.score(x_test,y_test)}\")"
   ]
  },
  {
   "cell_type": "markdown",
   "id": "c5130400",
   "metadata": {},
   "source": [
    "---\n",
    "### 6.4.2 Residual Plot"
   ]
  },
  {
   "cell_type": "code",
   "execution_count": 37,
   "id": "5f4d2b13",
   "metadata": {},
   "outputs": [
    {
     "data": {
      "image/png": "[encoded data removed]",
      "text/plain": [
       "<Figure size 640x480 with 1 Axes>"
      ]
     },
     "metadata": {},
     "output_type": "display_data"
    }
   ],
   "source": [
    "plt.scatter([i for i in range(len(y_test))],y_test.values.reshape(-1)-y_lasso_pred);\n",
    "plt.xlabel(\"Index\")\n",
    "plt.ylabel(\"y_actual-y_predicted\")\n",
    "plt.title(\"Residual Plot\");"
   ]
  },
  {
   "cell_type": "markdown",
   "id": "eb1787ea",
   "metadata": {},
   "source": [
    "---\n",
    "## 6.5 Coefficient Weights"
   ]
  },
  {
   "cell_type": "code",
   "execution_count": 38,
   "id": "aca9b9aa",
   "metadata": {},
   "outputs": [
    {
     "data": {
      "text/html": [
       "<div>\n",
       "<style scoped>\n",
       "    .dataframe tbody tr th:only-of-type {\n",
       "        vertical-align: middle;\n",
       "    }\n",
       "\n",
       "    .dataframe tbody tr th {\n",
       "        vertical-align: top;\n",
       "    }\n",
       "\n",
       "    .dataframe thead th {\n",
       "        text-align: right;\n",
       "    }\n",
       "</style>\n",
       "<table border=\"1\" class=\"dataframe\">\n",
       "  <thead>\n",
       "    <tr style=\"text-align: right;\">\n",
       "      <th></th>\n",
       "      <th>sex_M</th>\n",
       "      <th>day_1</th>\n",
       "      <th>day_2</th>\n",
       "      <th>day_3</th>\n",
       "      <th>day_4</th>\n",
       "      <th>day_5</th>\n",
       "      <th>day_6</th>\n",
       "      <th>month_1</th>\n",
       "      <th>month_2</th>\n",
       "      <th>month_3</th>\n",
       "      <th>month_4</th>\n",
       "      <th>month_5</th>\n",
       "      <th>month_6</th>\n",
       "      <th>month_7</th>\n",
       "      <th>month_8</th>\n",
       "      <th>month_9</th>\n",
       "      <th>month_10</th>\n",
       "      <th>month_11</th>\n",
       "    </tr>\n",
       "    <tr>\n",
       "      <th>Name</th>\n",
       "      <th></th>\n",
       "      <th></th>\n",
       "      <th></th>\n",
       "      <th></th>\n",
       "      <th></th>\n",
       "      <th></th>\n",
       "      <th></th>\n",
       "      <th></th>\n",
       "      <th></th>\n",
       "      <th></th>\n",
       "      <th></th>\n",
       "      <th></th>\n",
       "      <th></th>\n",
       "      <th></th>\n",
       "      <th></th>\n",
       "      <th></th>\n",
       "      <th></th>\n",
       "      <th></th>\n",
       "    </tr>\n",
       "  </thead>\n",
       "  <tbody>\n",
       "    <tr>\n",
       "      <th>Linear Regression</th>\n",
       "      <td>-0.071819</td>\n",
       "      <td>-0.015668</td>\n",
       "      <td>-0.050451</td>\n",
       "      <td>-0.062715</td>\n",
       "      <td>-0.068600</td>\n",
       "      <td>0.119067</td>\n",
       "      <td>0.011540</td>\n",
       "      <td>0.138802</td>\n",
       "      <td>0.032333</td>\n",
       "      <td>0.099888</td>\n",
       "      <td>0.048571</td>\n",
       "      <td>0.010956</td>\n",
       "      <td>-0.011476</td>\n",
       "      <td>-0.046947</td>\n",
       "      <td>-0.034244</td>\n",
       "      <td>0.063765</td>\n",
       "      <td>0.000313</td>\n",
       "      <td>0.140691</td>\n",
       "    </tr>\n",
       "    <tr>\n",
       "      <th>Lasso</th>\n",
       "      <td>-0.062815</td>\n",
       "      <td>-0.000000</td>\n",
       "      <td>-0.022855</td>\n",
       "      <td>-0.037575</td>\n",
       "      <td>-0.044153</td>\n",
       "      <td>0.120027</td>\n",
       "      <td>0.015266</td>\n",
       "      <td>0.101551</td>\n",
       "      <td>0.000000</td>\n",
       "      <td>0.050542</td>\n",
       "      <td>0.008412</td>\n",
       "      <td>-0.000000</td>\n",
       "      <td>-0.009221</td>\n",
       "      <td>-0.044037</td>\n",
       "      <td>-0.030491</td>\n",
       "      <td>0.024055</td>\n",
       "      <td>-0.000000</td>\n",
       "      <td>0.094695</td>\n",
       "    </tr>\n",
       "  </tbody>\n",
       "</table>\n",
       "</div>"
      ],
      "text/plain": [
       "                      sex_M     day_1     day_2     day_3     day_4     day_5  \\\n",
       "Name                                                                            \n",
       "Linear Regression -0.071819 -0.015668 -0.050451 -0.062715 -0.068600  0.119067   \n",
       "Lasso             -0.062815 -0.000000 -0.022855 -0.037575 -0.044153  0.120027   \n",
       "\n",
       "                      day_6   month_1   month_2   month_3   month_4   month_5  \\\n",
       "Name                                                                            \n",
       "Linear Regression  0.011540  0.138802  0.032333  0.099888  0.048571  0.010956   \n",
       "Lasso              0.015266  0.101551  0.000000  0.050542  0.008412 -0.000000   \n",
       "\n",
       "                    month_6   month_7   month_8   month_9  month_10  month_11  \n",
       "Name                                                                           \n",
       "Linear Regression -0.011476 -0.046947 -0.034244  0.063765  0.000313  0.140691  \n",
       "Lasso             -0.009221 -0.044037 -0.030491  0.024055 -0.000000  0.094695  "
      ]
     },
     "execution_count": 38,
     "metadata": {},
     "output_type": "execute_result"
    }
   ],
   "source": [
    "# Insert code here\n",
    "df1 = pd.DataFrame(lr.coef_, columns=lr.feature_names_in_)\n",
    "df2 = pd.DataFrame(lr_lasso.coef_.reshape(1,-1), columns=lr_lasso.feature_names_in_)\n",
    "df = pd.concat([df1,df2])\n",
    "df[\"Name\"] = [\"Linear Regression\", \"Lasso\"]\n",
    "df = df.set_index(df[\"Name\"])\n",
    "df = df.drop(\"Name\", axis=1)\n",
    "df"
   ]
  },
  {
   "cell_type": "code",
   "execution_count": 39,
   "id": "f0e226ea",
   "metadata": {},
   "outputs": [
    {
     "data": {
      "image/png": "[encoded data removed]",
      "text/plain": [
       "<Figure size 640x480 with 2 Axes>"
      ]
     },
     "metadata": {},
     "output_type": "display_data"
    }
   ],
   "source": [
    "sb.heatmap(df.T, annot=True, cmap='Blues')\n",
    "plt.xlabel('Type of Model')\n",
    "plt.ylabel('Input')\n",
    "plt.title(\"Heatmap of Coefficients for Inputs per Model\")\n",
    "plt.show()"
   ]
  }
 ],
 "metadata": {
  "kernelspec": {
   "display_name": "Python 3 (ipykernel)",
   "language": "python",
   "name": "python3"
  },
  "language_info": {
   "codemirror_mode": {
    "name": "ipython",
    "version": 3
   },
   "file_extension": ".py",
   "mimetype": "text/x-python",
   "name": "python",
   "nbconvert_exporter": "python",
   "pygments_lexer": "ipython3",
   "version": "3.11.4"
  }
 },
 "nbformat": 4,
 "nbformat_minor": 5
}
