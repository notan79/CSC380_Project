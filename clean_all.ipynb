{
 "cells": [
  {
   "cell_type": "code",
   "execution_count": 1,
   "metadata": {},
   "outputs": [],
   "source": [
    "intermediate_write_out = True\n",
    "print_debug = True"
   ]
  },
  {
   "cell_type": "code",
   "execution_count": 2,
   "metadata": {},
   "outputs": [],
   "source": [
    "import pandas as pd\n",
    "import datetime"
   ]
  },
  {
   "cell_type": "code",
   "execution_count": 3,
   "metadata": {},
   "outputs": [],
   "source": [
    "# Arrests Cleaning:"
   ]
  },
  {
   "cell_type": "code",
   "execution_count": 4,
   "metadata": {},
   "outputs": [],
   "source": [
    "valid_cols = [\"NHA_NAME\", \"sex\", \"age\", \"datetime_arr\", \"fel_misd\"]"
   ]
  },
  {
   "cell_type": "code",
   "execution_count": 5,
   "metadata": {},
   "outputs": [],
   "source": [
    "def process_df(df):\n",
    "    df = df[valid_cols].dropna()\n",
    "    date_arr = []\n",
    "    month_arr = []\n",
    "    proper_time_arr = []\n",
    "    for i in range(len(df)):\n",
    "        datetime_arr = list(df[\"datetime_arr\"])[i].split(\" \") # extract date and time str\n",
    "\n",
    "        date = datetime_arr[0].strip()\n",
    "        time = datetime_arr[1].strip().split(\":\")\n",
    "    \n",
    "        realtime = int(time[0]) - 7\n",
    "        if (realtime < 0):\n",
    "            realtime = 24 + realtime\n",
    "        proper_time_arr.append(f\"{realtime}{time[1]}\")\n",
    "        \n",
    "        calc_date = datetime.datetime.strptime(date, '%Y/%m/%d') \n",
    "        day = (calc_date.weekday() + 1) % 7\n",
    "        date_arr.append(day)\n",
    "        month_arr.append(calc_date.month-1)\n",
    "\n",
    "    df = df.drop(\"datetime_arr\", axis=1)\n",
    "    df[\"day\"] = date_arr\n",
    "    df[\"month\"] = month_arr\n",
    "    df[\"time\"] = proper_time_arr\n",
    "\n",
    "    return df"
   ]
  },
  {
   "cell_type": "code",
   "execution_count": null,
   "metadata": {},
   "outputs": [],
   "source": [
    "arrests_2020 = pd.read_csv(\"./data/Arrests_2020.csv\")\n",
    "arrests_2020 = process_df(arrests_2020)\n",
    "\n",
    "if print_debug:\n",
    "    print(arrests_2020)"
   ]
  },
  {
   "cell_type": "code",
   "execution_count": null,
   "metadata": {},
   "outputs": [],
   "source": [
    "arrests_2021 = pd.read_csv(\"./data/Arrests_2021.csv\")\n",
    "arrests_2021 = process_df(arrests_2021)\n",
    "\n",
    "if print_debug:\n",
    "    print(arrests_2021)"
   ]
  },
  {
   "cell_type": "code",
   "execution_count": 8,
   "metadata": {},
   "outputs": [],
   "source": [
    "if intermediate_write_out:\n",
    "    arrests_2020.to_csv('./clean_data/Arrests_2020_cleaned.csv', index=False)\n",
    "    arrests_2021.to_csv('./clean_data/Arrests_2021_cleaned.csv', index=False)"
   ]
  },
  {
   "cell_type": "code",
   "execution_count": 9,
   "metadata": {},
   "outputs": [],
   "source": [
    "# Neighborhood wealth cleaning:"
   ]
  },
  {
   "cell_type": "code",
   "execution_count": null,
   "metadata": {},
   "outputs": [],
   "source": [
    "neighborhood = pd.read_csv(\"./data/Neighborhood_Income.csv\")\n",
    "neighborhood.set_index('NAME', inplace=True)\n",
    "neighborhood = neighborhood[[\"MEDHINC_CY\", \"WLTHINDXCY\", \"TOTHH_CY\"]]\n",
    "\n",
    "if print_debug:\n",
    "    print(neighborhood)"
   ]
  },
  {
   "cell_type": "code",
   "execution_count": 11,
   "metadata": {},
   "outputs": [],
   "source": [
    "if intermediate_write_out:\n",
    "    neighborhood.to_csv('./clean_data/neighborhood_cleaned.csv', index=True)"
   ]
  },
  {
   "cell_type": "code",
   "execution_count": 12,
   "metadata": {},
   "outputs": [],
   "source": [
    "# Merging data:"
   ]
  },
  {
   "cell_type": "code",
   "execution_count": null,
   "metadata": {},
   "outputs": [],
   "source": [
    "arrests_df = pd.concat([arrests_2020, arrests_2021])\n",
    "\n",
    "if print_debug:\n",
    "    print(arrests_df)"
   ]
  },
  {
   "cell_type": "code",
   "execution_count": null,
   "metadata": {},
   "outputs": [],
   "source": [
    "arrests_df['MEDHINC_CY'] = arrests_df['NHA_NAME'].map(neighborhood['MEDHINC_CY'])\n",
    "arrests_df['WLTHINDXCY'] = arrests_df['NHA_NAME'].map(neighborhood['WLTHINDXCY'])\n",
    "arrests_df['TOTHH_CY'] = arrests_df['NHA_NAME'].map(neighborhood['TOTHH_CY'])\n",
    "arrests_df.dropna()\n",
    "arrests_df = arrests_df[[\"NHA_NAME\",\"sex\",\"age\",\"day\",\"month\",\"MEDHINC_CY\",\"WLTHINDXCY\", \"time\", \"TOTHH_CY\", \"fel_misd\"]]\n",
    "\n",
    "if print_debug:\n",
    "    print(arrests_df)"
   ]
  },
  {
   "cell_type": "code",
   "execution_count": 15,
   "metadata": {},
   "outputs": [],
   "source": [
    "arrests_df = arrests_df.drop(columns=\"NHA_NAME\")"
   ]
  },
  {
   "cell_type": "code",
   "execution_count": null,
   "metadata": {},
   "outputs": [],
   "source": [
    "x = list(arrests_df[\"age\"])\n",
    "arr = []\n",
    "for i, val in enumerate(x):\n",
    "    try:\n",
    "        int(val)\n",
    "    except:\n",
    "        arr.append(i)\n",
    "\n",
    "if print_debug:\n",
    "    print(arr)"
   ]
  },
  {
   "cell_type": "code",
   "execution_count": null,
   "metadata": {},
   "outputs": [],
   "source": [
    "df = arrests_df.set_axis([i for i in range(len(arrests_df))])\n",
    "df = df.drop(arr, axis=0) # drop rows with age = ' '\n",
    "\n",
    "if print_debug:\n",
    "    print(df)"
   ]
  },
  {
   "cell_type": "code",
   "execution_count": 18,
   "metadata": {},
   "outputs": [],
   "source": [
    "df.to_csv('./clean_data/fully_merged_data.csv', index=False)"
   ]
  }
 ],
 "metadata": {
  "kernelspec": {
   "display_name": "base",
   "language": "python",
   "name": "python3"
  },
  "language_info": {
   "codemirror_mode": {
    "name": "ipython",
    "version": 3
   },
   "file_extension": ".py",
   "mimetype": "text/x-python",
   "name": "python",
   "nbconvert_exporter": "python",
   "pygments_lexer": "ipython3",
   "version": "3.12.7"
  }
 },
 "nbformat": 4,
 "nbformat_minor": 2
}
